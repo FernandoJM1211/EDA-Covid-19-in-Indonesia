{
  "cells": [
    {
      "cell_type": "markdown",
      "metadata": {
        "id": "NqpP_S6vJo8h"
      },
      "source": [
        "# Import Library"
      ]
    },
    {
      "cell_type": "code",
      "execution_count": 130,
      "metadata": {
        "id": "VlgEzhAWJtpD"
      },
      "outputs": [],
      "source": [
        "import pandas as pd\n",
        "import numpy as np"
      ]
    },
    {
      "cell_type": "markdown",
      "metadata": {
        "id": "F0iDzaqdJv7C"
      },
      "source": [
        "# Import Dataset"
      ]
    },
    {
      "cell_type": "code",
      "execution_count": 131,
      "metadata": {
        "id": "UhxEY3W-J2YD"
      },
      "outputs": [],
      "source": [
        "df_covid = pd.read_csv('/content/drive/MyDrive/Project Goes to Bali/Indonesia_coronavirus_daily_data.csv')"
      ]
    },
    {
      "cell_type": "code",
      "execution_count": 132,
      "metadata": {
        "colab": {
          "base_uri": "https://localhost:8080/",
          "height": 748
        },
        "id": "lPFmy4ArxmBw",
        "outputId": "8fa38a04-4cc1-4128-b1f2-86ae9a989f7b"
      },
      "outputs": [
        {
          "output_type": "execute_result",
          "data": {
            "text/plain": [
              "             Date             Province  Daily_Case  Daily_Death  \\\n",
              "0      2020-03-01          DKI JAKARTA           2            0   \n",
              "1      2020-03-02          DKI JAKARTA           2            0   \n",
              "2      2020-03-03          DKI JAKARTA           2            0   \n",
              "3      2020-03-04          DKI JAKARTA           2            0   \n",
              "4      2020-03-05          DKI JAKARTA           0            1   \n",
              "...           ...                  ...         ...          ...   \n",
              "17608  2021-08-14  NUSA TENGGARA TIMUR         649           21   \n",
              "17609  2021-08-15  NUSA TENGGARA TIMUR         498            7   \n",
              "17610  2021-08-16  NUSA TENGGARA TIMUR         438           18   \n",
              "17611  2021-08-17  NUSA TENGGARA TIMUR         657           15   \n",
              "17612  2021-08-18  NUSA TENGGARA TIMUR         527            8   \n",
              "\n",
              "       Daily_Recovered  Active_Case  Cumulative_Case  Cumulative_Recovered  \\\n",
              "0                    0            2                2                     0   \n",
              "1                    0            2                4                     0   \n",
              "2                    0            2                6                     0   \n",
              "3                    0            2                8                     0   \n",
              "4                    0           -1                8                     0   \n",
              "...                ...          ...              ...                   ...   \n",
              "17608              892         -264            52686                 42250   \n",
              "17609             1421         -930            53184                 43671   \n",
              "17610              969         -549            53622                 44640   \n",
              "17611              633            9            54279                 45273   \n",
              "17612              949         -430            54806                 46222   \n",
              "\n",
              "       Cumulative_Death  Cumulative_Active_Case  \n",
              "0                     0                       2  \n",
              "1                     0                       4  \n",
              "2                     0                       6  \n",
              "3                     0                       8  \n",
              "4                     1                       7  \n",
              "...                 ...                     ...  \n",
              "17608              1016                    9420  \n",
              "17609              1023                    8490  \n",
              "17610              1041                    7941  \n",
              "17611              1056                    7950  \n",
              "17612              1064                    7520  \n",
              "\n",
              "[17613 rows x 10 columns]"
            ],
            "text/html": [
              "\n",
              "  <div id=\"df-561d9bfe-e2b9-4cbe-860b-6eeccdb9cbec\">\n",
              "    <div class=\"colab-df-container\">\n",
              "      <div>\n",
              "<style scoped>\n",
              "    .dataframe tbody tr th:only-of-type {\n",
              "        vertical-align: middle;\n",
              "    }\n",
              "\n",
              "    .dataframe tbody tr th {\n",
              "        vertical-align: top;\n",
              "    }\n",
              "\n",
              "    .dataframe thead th {\n",
              "        text-align: right;\n",
              "    }\n",
              "</style>\n",
              "<table border=\"1\" class=\"dataframe\">\n",
              "  <thead>\n",
              "    <tr style=\"text-align: right;\">\n",
              "      <th></th>\n",
              "      <th>Date</th>\n",
              "      <th>Province</th>\n",
              "      <th>Daily_Case</th>\n",
              "      <th>Daily_Death</th>\n",
              "      <th>Daily_Recovered</th>\n",
              "      <th>Active_Case</th>\n",
              "      <th>Cumulative_Case</th>\n",
              "      <th>Cumulative_Recovered</th>\n",
              "      <th>Cumulative_Death</th>\n",
              "      <th>Cumulative_Active_Case</th>\n",
              "    </tr>\n",
              "  </thead>\n",
              "  <tbody>\n",
              "    <tr>\n",
              "      <th>0</th>\n",
              "      <td>2020-03-01</td>\n",
              "      <td>DKI JAKARTA</td>\n",
              "      <td>2</td>\n",
              "      <td>0</td>\n",
              "      <td>0</td>\n",
              "      <td>2</td>\n",
              "      <td>2</td>\n",
              "      <td>0</td>\n",
              "      <td>0</td>\n",
              "      <td>2</td>\n",
              "    </tr>\n",
              "    <tr>\n",
              "      <th>1</th>\n",
              "      <td>2020-03-02</td>\n",
              "      <td>DKI JAKARTA</td>\n",
              "      <td>2</td>\n",
              "      <td>0</td>\n",
              "      <td>0</td>\n",
              "      <td>2</td>\n",
              "      <td>4</td>\n",
              "      <td>0</td>\n",
              "      <td>0</td>\n",
              "      <td>4</td>\n",
              "    </tr>\n",
              "    <tr>\n",
              "      <th>2</th>\n",
              "      <td>2020-03-03</td>\n",
              "      <td>DKI JAKARTA</td>\n",
              "      <td>2</td>\n",
              "      <td>0</td>\n",
              "      <td>0</td>\n",
              "      <td>2</td>\n",
              "      <td>6</td>\n",
              "      <td>0</td>\n",
              "      <td>0</td>\n",
              "      <td>6</td>\n",
              "    </tr>\n",
              "    <tr>\n",
              "      <th>3</th>\n",
              "      <td>2020-03-04</td>\n",
              "      <td>DKI JAKARTA</td>\n",
              "      <td>2</td>\n",
              "      <td>0</td>\n",
              "      <td>0</td>\n",
              "      <td>2</td>\n",
              "      <td>8</td>\n",
              "      <td>0</td>\n",
              "      <td>0</td>\n",
              "      <td>8</td>\n",
              "    </tr>\n",
              "    <tr>\n",
              "      <th>4</th>\n",
              "      <td>2020-03-05</td>\n",
              "      <td>DKI JAKARTA</td>\n",
              "      <td>0</td>\n",
              "      <td>1</td>\n",
              "      <td>0</td>\n",
              "      <td>-1</td>\n",
              "      <td>8</td>\n",
              "      <td>0</td>\n",
              "      <td>1</td>\n",
              "      <td>7</td>\n",
              "    </tr>\n",
              "    <tr>\n",
              "      <th>...</th>\n",
              "      <td>...</td>\n",
              "      <td>...</td>\n",
              "      <td>...</td>\n",
              "      <td>...</td>\n",
              "      <td>...</td>\n",
              "      <td>...</td>\n",
              "      <td>...</td>\n",
              "      <td>...</td>\n",
              "      <td>...</td>\n",
              "      <td>...</td>\n",
              "    </tr>\n",
              "    <tr>\n",
              "      <th>17608</th>\n",
              "      <td>2021-08-14</td>\n",
              "      <td>NUSA TENGGARA TIMUR</td>\n",
              "      <td>649</td>\n",
              "      <td>21</td>\n",
              "      <td>892</td>\n",
              "      <td>-264</td>\n",
              "      <td>52686</td>\n",
              "      <td>42250</td>\n",
              "      <td>1016</td>\n",
              "      <td>9420</td>\n",
              "    </tr>\n",
              "    <tr>\n",
              "      <th>17609</th>\n",
              "      <td>2021-08-15</td>\n",
              "      <td>NUSA TENGGARA TIMUR</td>\n",
              "      <td>498</td>\n",
              "      <td>7</td>\n",
              "      <td>1421</td>\n",
              "      <td>-930</td>\n",
              "      <td>53184</td>\n",
              "      <td>43671</td>\n",
              "      <td>1023</td>\n",
              "      <td>8490</td>\n",
              "    </tr>\n",
              "    <tr>\n",
              "      <th>17610</th>\n",
              "      <td>2021-08-16</td>\n",
              "      <td>NUSA TENGGARA TIMUR</td>\n",
              "      <td>438</td>\n",
              "      <td>18</td>\n",
              "      <td>969</td>\n",
              "      <td>-549</td>\n",
              "      <td>53622</td>\n",
              "      <td>44640</td>\n",
              "      <td>1041</td>\n",
              "      <td>7941</td>\n",
              "    </tr>\n",
              "    <tr>\n",
              "      <th>17611</th>\n",
              "      <td>2021-08-17</td>\n",
              "      <td>NUSA TENGGARA TIMUR</td>\n",
              "      <td>657</td>\n",
              "      <td>15</td>\n",
              "      <td>633</td>\n",
              "      <td>9</td>\n",
              "      <td>54279</td>\n",
              "      <td>45273</td>\n",
              "      <td>1056</td>\n",
              "      <td>7950</td>\n",
              "    </tr>\n",
              "    <tr>\n",
              "      <th>17612</th>\n",
              "      <td>2021-08-18</td>\n",
              "      <td>NUSA TENGGARA TIMUR</td>\n",
              "      <td>527</td>\n",
              "      <td>8</td>\n",
              "      <td>949</td>\n",
              "      <td>-430</td>\n",
              "      <td>54806</td>\n",
              "      <td>46222</td>\n",
              "      <td>1064</td>\n",
              "      <td>7520</td>\n",
              "    </tr>\n",
              "  </tbody>\n",
              "</table>\n",
              "<p>17613 rows × 10 columns</p>\n",
              "</div>\n",
              "      <button class=\"colab-df-convert\" onclick=\"convertToInteractive('df-561d9bfe-e2b9-4cbe-860b-6eeccdb9cbec')\"\n",
              "              title=\"Convert this dataframe to an interactive table.\"\n",
              "              style=\"display:none;\">\n",
              "        \n",
              "  <svg xmlns=\"http://www.w3.org/2000/svg\" height=\"24px\"viewBox=\"0 0 24 24\"\n",
              "       width=\"24px\">\n",
              "    <path d=\"M0 0h24v24H0V0z\" fill=\"none\"/>\n",
              "    <path d=\"M18.56 5.44l.94 2.06.94-2.06 2.06-.94-2.06-.94-.94-2.06-.94 2.06-2.06.94zm-11 1L8.5 8.5l.94-2.06 2.06-.94-2.06-.94L8.5 2.5l-.94 2.06-2.06.94zm10 10l.94 2.06.94-2.06 2.06-.94-2.06-.94-.94-2.06-.94 2.06-2.06.94z\"/><path d=\"M17.41 7.96l-1.37-1.37c-.4-.4-.92-.59-1.43-.59-.52 0-1.04.2-1.43.59L10.3 9.45l-7.72 7.72c-.78.78-.78 2.05 0 2.83L4 21.41c.39.39.9.59 1.41.59.51 0 1.02-.2 1.41-.59l7.78-7.78 2.81-2.81c.8-.78.8-2.07 0-2.86zM5.41 20L4 18.59l7.72-7.72 1.47 1.35L5.41 20z\"/>\n",
              "  </svg>\n",
              "      </button>\n",
              "      \n",
              "  <style>\n",
              "    .colab-df-container {\n",
              "      display:flex;\n",
              "      flex-wrap:wrap;\n",
              "      gap: 12px;\n",
              "    }\n",
              "\n",
              "    .colab-df-convert {\n",
              "      background-color: #E8F0FE;\n",
              "      border: none;\n",
              "      border-radius: 50%;\n",
              "      cursor: pointer;\n",
              "      display: none;\n",
              "      fill: #1967D2;\n",
              "      height: 32px;\n",
              "      padding: 0 0 0 0;\n",
              "      width: 32px;\n",
              "    }\n",
              "\n",
              "    .colab-df-convert:hover {\n",
              "      background-color: #E2EBFA;\n",
              "      box-shadow: 0px 1px 2px rgba(60, 64, 67, 0.3), 0px 1px 3px 1px rgba(60, 64, 67, 0.15);\n",
              "      fill: #174EA6;\n",
              "    }\n",
              "\n",
              "    [theme=dark] .colab-df-convert {\n",
              "      background-color: #3B4455;\n",
              "      fill: #D2E3FC;\n",
              "    }\n",
              "\n",
              "    [theme=dark] .colab-df-convert:hover {\n",
              "      background-color: #434B5C;\n",
              "      box-shadow: 0px 1px 3px 1px rgba(0, 0, 0, 0.15);\n",
              "      filter: drop-shadow(0px 1px 2px rgba(0, 0, 0, 0.3));\n",
              "      fill: #FFFFFF;\n",
              "    }\n",
              "  </style>\n",
              "\n",
              "      <script>\n",
              "        const buttonEl =\n",
              "          document.querySelector('#df-561d9bfe-e2b9-4cbe-860b-6eeccdb9cbec button.colab-df-convert');\n",
              "        buttonEl.style.display =\n",
              "          google.colab.kernel.accessAllowed ? 'block' : 'none';\n",
              "\n",
              "        async function convertToInteractive(key) {\n",
              "          const element = document.querySelector('#df-561d9bfe-e2b9-4cbe-860b-6eeccdb9cbec');\n",
              "          const dataTable =\n",
              "            await google.colab.kernel.invokeFunction('convertToInteractive',\n",
              "                                                     [key], {});\n",
              "          if (!dataTable) return;\n",
              "\n",
              "          const docLinkHtml = 'Like what you see? Visit the ' +\n",
              "            '<a target=\"_blank\" href=https://colab.research.google.com/notebooks/data_table.ipynb>data table notebook</a>'\n",
              "            + ' to learn more about interactive tables.';\n",
              "          element.innerHTML = '';\n",
              "          dataTable['output_type'] = 'display_data';\n",
              "          await google.colab.output.renderOutput(dataTable, element);\n",
              "          const docLink = document.createElement('div');\n",
              "          docLink.innerHTML = docLinkHtml;\n",
              "          element.appendChild(docLink);\n",
              "        }\n",
              "      </script>\n",
              "    </div>\n",
              "  </div>\n",
              "  "
            ]
          },
          "metadata": {},
          "execution_count": 132
        }
      ],
      "source": [
        "df_covid"
      ]
    },
    {
      "cell_type": "markdown",
      "metadata": {
        "id": "k3hPvNaq43Bf"
      },
      "source": [
        "# Cleaning Data"
      ]
    },
    {
      "cell_type": "markdown",
      "metadata": {
        "id": "89-jdq_4453Y"
      },
      "source": [
        "## Data duplicate"
      ]
    },
    {
      "cell_type": "code",
      "execution_count": 133,
      "metadata": {
        "colab": {
          "base_uri": "https://localhost:8080/",
          "height": 113
        },
        "id": "E2yh1IBF5HXr",
        "outputId": "db671ea8-d286-41fe-9a3b-082132426813"
      },
      "outputs": [
        {
          "output_type": "execute_result",
          "data": {
            "text/plain": [
              "Empty DataFrame\n",
              "Columns: [Date, Province, Daily_Case, Daily_Death, Daily_Recovered, Active_Case, Cumulative_Case, Cumulative_Recovered, Cumulative_Death, Cumulative_Active_Case]\n",
              "Index: []"
            ],
            "text/html": [
              "\n",
              "  <div id=\"df-c50ddf59-f70c-4763-952d-7ea83fd19ee7\">\n",
              "    <div class=\"colab-df-container\">\n",
              "      <div>\n",
              "<style scoped>\n",
              "    .dataframe tbody tr th:only-of-type {\n",
              "        vertical-align: middle;\n",
              "    }\n",
              "\n",
              "    .dataframe tbody tr th {\n",
              "        vertical-align: top;\n",
              "    }\n",
              "\n",
              "    .dataframe thead th {\n",
              "        text-align: right;\n",
              "    }\n",
              "</style>\n",
              "<table border=\"1\" class=\"dataframe\">\n",
              "  <thead>\n",
              "    <tr style=\"text-align: right;\">\n",
              "      <th></th>\n",
              "      <th>Date</th>\n",
              "      <th>Province</th>\n",
              "      <th>Daily_Case</th>\n",
              "      <th>Daily_Death</th>\n",
              "      <th>Daily_Recovered</th>\n",
              "      <th>Active_Case</th>\n",
              "      <th>Cumulative_Case</th>\n",
              "      <th>Cumulative_Recovered</th>\n",
              "      <th>Cumulative_Death</th>\n",
              "      <th>Cumulative_Active_Case</th>\n",
              "    </tr>\n",
              "  </thead>\n",
              "  <tbody>\n",
              "  </tbody>\n",
              "</table>\n",
              "</div>\n",
              "      <button class=\"colab-df-convert\" onclick=\"convertToInteractive('df-c50ddf59-f70c-4763-952d-7ea83fd19ee7')\"\n",
              "              title=\"Convert this dataframe to an interactive table.\"\n",
              "              style=\"display:none;\">\n",
              "        \n",
              "  <svg xmlns=\"http://www.w3.org/2000/svg\" height=\"24px\"viewBox=\"0 0 24 24\"\n",
              "       width=\"24px\">\n",
              "    <path d=\"M0 0h24v24H0V0z\" fill=\"none\"/>\n",
              "    <path d=\"M18.56 5.44l.94 2.06.94-2.06 2.06-.94-2.06-.94-.94-2.06-.94 2.06-2.06.94zm-11 1L8.5 8.5l.94-2.06 2.06-.94-2.06-.94L8.5 2.5l-.94 2.06-2.06.94zm10 10l.94 2.06.94-2.06 2.06-.94-2.06-.94-.94-2.06-.94 2.06-2.06.94z\"/><path d=\"M17.41 7.96l-1.37-1.37c-.4-.4-.92-.59-1.43-.59-.52 0-1.04.2-1.43.59L10.3 9.45l-7.72 7.72c-.78.78-.78 2.05 0 2.83L4 21.41c.39.39.9.59 1.41.59.51 0 1.02-.2 1.41-.59l7.78-7.78 2.81-2.81c.8-.78.8-2.07 0-2.86zM5.41 20L4 18.59l7.72-7.72 1.47 1.35L5.41 20z\"/>\n",
              "  </svg>\n",
              "      </button>\n",
              "      \n",
              "  <style>\n",
              "    .colab-df-container {\n",
              "      display:flex;\n",
              "      flex-wrap:wrap;\n",
              "      gap: 12px;\n",
              "    }\n",
              "\n",
              "    .colab-df-convert {\n",
              "      background-color: #E8F0FE;\n",
              "      border: none;\n",
              "      border-radius: 50%;\n",
              "      cursor: pointer;\n",
              "      display: none;\n",
              "      fill: #1967D2;\n",
              "      height: 32px;\n",
              "      padding: 0 0 0 0;\n",
              "      width: 32px;\n",
              "    }\n",
              "\n",
              "    .colab-df-convert:hover {\n",
              "      background-color: #E2EBFA;\n",
              "      box-shadow: 0px 1px 2px rgba(60, 64, 67, 0.3), 0px 1px 3px 1px rgba(60, 64, 67, 0.15);\n",
              "      fill: #174EA6;\n",
              "    }\n",
              "\n",
              "    [theme=dark] .colab-df-convert {\n",
              "      background-color: #3B4455;\n",
              "      fill: #D2E3FC;\n",
              "    }\n",
              "\n",
              "    [theme=dark] .colab-df-convert:hover {\n",
              "      background-color: #434B5C;\n",
              "      box-shadow: 0px 1px 3px 1px rgba(0, 0, 0, 0.15);\n",
              "      filter: drop-shadow(0px 1px 2px rgba(0, 0, 0, 0.3));\n",
              "      fill: #FFFFFF;\n",
              "    }\n",
              "  </style>\n",
              "\n",
              "      <script>\n",
              "        const buttonEl =\n",
              "          document.querySelector('#df-c50ddf59-f70c-4763-952d-7ea83fd19ee7 button.colab-df-convert');\n",
              "        buttonEl.style.display =\n",
              "          google.colab.kernel.accessAllowed ? 'block' : 'none';\n",
              "\n",
              "        async function convertToInteractive(key) {\n",
              "          const element = document.querySelector('#df-c50ddf59-f70c-4763-952d-7ea83fd19ee7');\n",
              "          const dataTable =\n",
              "            await google.colab.kernel.invokeFunction('convertToInteractive',\n",
              "                                                     [key], {});\n",
              "          if (!dataTable) return;\n",
              "\n",
              "          const docLinkHtml = 'Like what you see? Visit the ' +\n",
              "            '<a target=\"_blank\" href=https://colab.research.google.com/notebooks/data_table.ipynb>data table notebook</a>'\n",
              "            + ' to learn more about interactive tables.';\n",
              "          element.innerHTML = '';\n",
              "          dataTable['output_type'] = 'display_data';\n",
              "          await google.colab.output.renderOutput(dataTable, element);\n",
              "          const docLink = document.createElement('div');\n",
              "          docLink.innerHTML = docLinkHtml;\n",
              "          element.appendChild(docLink);\n",
              "        }\n",
              "      </script>\n",
              "    </div>\n",
              "  </div>\n",
              "  "
            ]
          },
          "metadata": {},
          "execution_count": 133
        }
      ],
      "source": [
        "# Covid data duplicate\n",
        "df_covid[df_covid.duplicated()]"
      ]
    },
    {
      "cell_type": "markdown",
      "metadata": {
        "id": "qjLZ8lrB7EMS"
      },
      "source": [
        "## Missing value"
      ]
    },
    {
      "cell_type": "code",
      "execution_count": 134,
      "metadata": {
        "colab": {
          "base_uri": "https://localhost:8080/"
        },
        "id": "iWrT5buR7Fsa",
        "outputId": "14a61994-4b7f-4ed4-ea96-dae58226a053"
      },
      "outputs": [
        {
          "output_type": "execute_result",
          "data": {
            "text/plain": [
              "Date                      0\n",
              "Province                  0\n",
              "Daily_Case                0\n",
              "Daily_Death               0\n",
              "Daily_Recovered           0\n",
              "Active_Case               0\n",
              "Cumulative_Case           0\n",
              "Cumulative_Recovered      0\n",
              "Cumulative_Death          0\n",
              "Cumulative_Active_Case    0\n",
              "dtype: int64"
            ]
          },
          "metadata": {},
          "execution_count": 134
        }
      ],
      "source": [
        "df_covid.isnull().sum()"
      ]
    },
    {
      "cell_type": "markdown",
      "metadata": {
        "id": "rYpWZjpM-eza"
      },
      "source": [
        "## Outlier"
      ]
    },
    {
      "cell_type": "code",
      "execution_count": 135,
      "metadata": {
        "colab": {
          "base_uri": "https://localhost:8080/"
        },
        "id": "ifpWZeKr-goR",
        "outputId": "900c7abf-fefa-403d-9a00-b26b4d38e1dd"
      },
      "outputs": [
        {
          "output_type": "stream",
          "name": "stdout",
          "text": [
            "Rows before filter outlier: 17613\n",
            "Outlier: 938\n",
            "Rows after filter outlier: 16675\n"
          ]
        }
      ],
      "source": [
        "from scipy import stats\n",
        "# Data covid outlier\n",
        "\n",
        "print(f'Rows before filter outlier: {len(df_covid)}')\n",
        "filtered_entries = np.array([True] * len(df_covid))\n",
        "for col in ['Daily_Case', 'Daily_Death', 'Daily_Recovered', 'Active_Case',\n",
        "       'Cumulative_Case', 'Cumulative_Recovered', 'Cumulative_Death',\n",
        "       'Cumulative_Active_Case']:\n",
        "    zscore = abs(stats.zscore(df_covid[col]))\n",
        "    filtered_entries = (zscore < 3) & filtered_entries\n",
        "print(f'Outlier: {len(df_covid)-len(df_covid[filtered_entries])}')\n",
        "df_covid = df_covid[filtered_entries]\n",
        "\n",
        "print(f'Rows after filter outlier: {len(df_covid)}')"
      ]
    },
    {
      "cell_type": "markdown",
      "metadata": {
        "id": "MYCUiEiR_x3Y"
      },
      "source": [
        "# EDA"
      ]
    },
    {
      "cell_type": "markdown",
      "metadata": {
        "id": "ZS6gZjbxR_SN"
      },
      "source": [
        "## Covid"
      ]
    },
    {
      "cell_type": "markdown",
      "metadata": {
        "id": "ctyd7I-foLok"
      },
      "source": [
        "### Dataset"
      ]
    },
    {
      "cell_type": "code",
      "execution_count": 136,
      "metadata": {
        "colab": {
          "base_uri": "https://localhost:8080/"
        },
        "id": "P9HPafabpzZ0",
        "outputId": "0c73b3a8-2941-4eee-94ba-1da5840f7105"
      },
      "outputs": [
        {
          "output_type": "stream",
          "name": "stdout",
          "text": [
            "<class 'pandas.core.frame.DataFrame'>\n",
            "Int64Index: 16675 entries, 0 to 17612\n",
            "Data columns (total 10 columns):\n",
            " #   Column                  Non-Null Count  Dtype \n",
            "---  ------                  --------------  ----- \n",
            " 0   Date                    16675 non-null  object\n",
            " 1   Province                16675 non-null  object\n",
            " 2   Daily_Case              16675 non-null  int64 \n",
            " 3   Daily_Death             16675 non-null  int64 \n",
            " 4   Daily_Recovered         16675 non-null  int64 \n",
            " 5   Active_Case             16675 non-null  int64 \n",
            " 6   Cumulative_Case         16675 non-null  int64 \n",
            " 7   Cumulative_Recovered    16675 non-null  int64 \n",
            " 8   Cumulative_Death        16675 non-null  int64 \n",
            " 9   Cumulative_Active_Case  16675 non-null  int64 \n",
            "dtypes: int64(8), object(2)\n",
            "memory usage: 1.4+ MB\n"
          ]
        }
      ],
      "source": [
        "#info\n",
        "df_covid.info()"
      ]
    },
    {
      "cell_type": "code",
      "execution_count": 137,
      "metadata": {
        "colab": {
          "base_uri": "https://localhost:8080/"
        },
        "id": "ZET0n7HXqb11",
        "outputId": "00733bce-382b-4307-b243-6a68b2c0e243"
      },
      "outputs": [
        {
          "output_type": "stream",
          "name": "stdout",
          "text": [
            "Total features: 10\n"
          ]
        }
      ],
      "source": [
        "print(f\"Total features: {df_covid.shape[1]}\")"
      ]
    },
    {
      "cell_type": "code",
      "execution_count": 138,
      "metadata": {
        "colab": {
          "base_uri": "https://localhost:8080/"
        },
        "id": "q5YoAeCDSBXh",
        "outputId": "1f0a4ca9-55c5-442e-ce80-c3f726711a55"
      },
      "outputs": [
        {
          "output_type": "execute_result",
          "data": {
            "text/plain": [
              "Date                        591\n",
              "Province                     34\n",
              "Daily_Case                 1102\n",
              "Daily_Death                  88\n",
              "Daily_Recovered             978\n",
              "Active_Case                1029\n",
              "Cumulative_Case           10625\n",
              "Cumulative_Recovered       9685\n",
              "Cumulative_Death           2135\n",
              "Cumulative_Active_Case     5173\n",
              "dtype: int64"
            ]
          },
          "metadata": {},
          "execution_count": 138
        }
      ],
      "source": [
        "# Unique Value\n",
        "df_covid.nunique()"
      ]
    },
    {
      "cell_type": "markdown",
      "metadata": {
        "id": "wHTkxYp5oZrF"
      },
      "source": [
        "### Date"
      ]
    },
    {
      "cell_type": "code",
      "execution_count": 139,
      "metadata": {
        "colab": {
          "base_uri": "https://localhost:8080/"
        },
        "id": "uUYuByK61Rfu",
        "outputId": "f2fcf705-e738-4f37-cb7f-84a789726401"
      },
      "outputs": [
        {
          "output_type": "execute_result",
          "data": {
            "text/plain": [
              "0    2020-03-01\n",
              "1    2020-03-02\n",
              "2    2020-03-03\n",
              "3    2020-03-04\n",
              "4    2020-03-05\n",
              "Name: Date, dtype: object"
            ]
          },
          "metadata": {},
          "execution_count": 139
        }
      ],
      "source": [
        "df_covid['Date'].head(5)"
      ]
    },
    {
      "cell_type": "code",
      "execution_count": 140,
      "metadata": {
        "colab": {
          "base_uri": "https://localhost:8080/"
        },
        "id": "GDulGn4_obvd",
        "outputId": "d17035aa-2cd2-4e44-a852-5d3a2fccb4ce"
      },
      "outputs": [
        {
          "output_type": "execute_result",
          "data": {
            "text/plain": [
              "2020-12-22    34\n",
              "2020-09-23    34\n",
              "2020-09-21    34\n",
              "2020-09-20    34\n",
              "2020-09-19    34\n",
              "              ..\n",
              "2020-02-06     1\n",
              "2020-02-05     1\n",
              "2020-02-04     1\n",
              "2020-02-03     1\n",
              "2020-01-31     1\n",
              "Name: Date, Length: 591, dtype: int64"
            ]
          },
          "metadata": {},
          "execution_count": 140
        }
      ],
      "source": [
        "# unique value\n",
        "df_covid['Date'].value_counts()"
      ]
    },
    {
      "cell_type": "code",
      "execution_count": 141,
      "metadata": {
        "colab": {
          "base_uri": "https://localhost:8080/"
        },
        "id": "-mjaVqDw1ok3",
        "outputId": "aed245bc-61a1-41c0-e921-d3bc833d9de1"
      },
      "outputs": [
        {
          "output_type": "stream",
          "name": "stdout",
          "text": [
            "Tanggal pertama kali kasus covid: 2020-01-08\n"
          ]
        }
      ],
      "source": [
        "print(f\"Tanggal pertama kali kasus covid: {df_covid.Date.min()}\")"
      ]
    },
    {
      "cell_type": "code",
      "execution_count": 142,
      "metadata": {
        "colab": {
          "base_uri": "https://localhost:8080/"
        },
        "id": "raxQ67Je18n5",
        "outputId": "dd9726a5-e019-48bb-97ca-b91b2bd5dad1"
      },
      "outputs": [
        {
          "output_type": "stream",
          "name": "stdout",
          "text": [
            "Lama waktu catatan kasus covid: 591 hari\n"
          ]
        }
      ],
      "source": [
        "print(f\"Lama waktu catatan kasus covid: {len(df_covid['Date'].value_counts())} hari\")"
      ]
    },
    {
      "cell_type": "code",
      "execution_count": 143,
      "metadata": {
        "colab": {
          "base_uri": "https://localhost:8080/"
        },
        "id": "RMxso_hZ2Rpq",
        "outputId": "47eedbce-ea23-4f27-ba1a-064166e0f2e0"
      },
      "outputs": [
        {
          "output_type": "stream",
          "name": "stdout",
          "text": [
            "Jangka waktu catatan kasus covid: 2020-01-08 sampai 2021-08-20\n"
          ]
        }
      ],
      "source": [
        "print(f\"Jangka waktu catatan kasus covid: {df_covid.Date.min()} sampai {df_covid.Date.max()}\")"
      ]
    },
    {
      "cell_type": "code",
      "execution_count": 144,
      "metadata": {
        "colab": {
          "base_uri": "https://localhost:8080/",
          "height": 357
        },
        "id": "g-vdWhXuy2bj",
        "outputId": "087896d5-e55e-46c2-b90e-fb2a690b7a76"
      },
      "outputs": [
        {
          "output_type": "execute_result",
          "data": {
            "text/plain": [
              "         Date     Province  Daily_Case  Daily_Death  Daily_Recovered  \\\n",
              "0  2020-03-01  DKI JAKARTA           2            0                0   \n",
              "1  2020-03-02  DKI JAKARTA           2            0                0   \n",
              "2  2020-03-03  DKI JAKARTA           2            0                0   \n",
              "3  2020-03-04  DKI JAKARTA           2            0                0   \n",
              "4  2020-03-05  DKI JAKARTA           0            1                0   \n",
              "\n",
              "   Active_Case  Cumulative_Case  Cumulative_Recovered  Cumulative_Death  \\\n",
              "0            2                2                     0                 0   \n",
              "1            2                4                     0                 0   \n",
              "2            2                6                     0                 0   \n",
              "3            2                8                     0                 0   \n",
              "4           -1                8                     0                 1   \n",
              "\n",
              "   Cumulative_Active_Case  \n",
              "0                       2  \n",
              "1                       4  \n",
              "2                       6  \n",
              "3                       8  \n",
              "4                       7  "
            ],
            "text/html": [
              "\n",
              "  <div id=\"df-a2c1ec1b-ff50-40b0-8b9c-c5429ec8f26b\">\n",
              "    <div class=\"colab-df-container\">\n",
              "      <div>\n",
              "<style scoped>\n",
              "    .dataframe tbody tr th:only-of-type {\n",
              "        vertical-align: middle;\n",
              "    }\n",
              "\n",
              "    .dataframe tbody tr th {\n",
              "        vertical-align: top;\n",
              "    }\n",
              "\n",
              "    .dataframe thead th {\n",
              "        text-align: right;\n",
              "    }\n",
              "</style>\n",
              "<table border=\"1\" class=\"dataframe\">\n",
              "  <thead>\n",
              "    <tr style=\"text-align: right;\">\n",
              "      <th></th>\n",
              "      <th>Date</th>\n",
              "      <th>Province</th>\n",
              "      <th>Daily_Case</th>\n",
              "      <th>Daily_Death</th>\n",
              "      <th>Daily_Recovered</th>\n",
              "      <th>Active_Case</th>\n",
              "      <th>Cumulative_Case</th>\n",
              "      <th>Cumulative_Recovered</th>\n",
              "      <th>Cumulative_Death</th>\n",
              "      <th>Cumulative_Active_Case</th>\n",
              "    </tr>\n",
              "  </thead>\n",
              "  <tbody>\n",
              "    <tr>\n",
              "      <th>0</th>\n",
              "      <td>2020-03-01</td>\n",
              "      <td>DKI JAKARTA</td>\n",
              "      <td>2</td>\n",
              "      <td>0</td>\n",
              "      <td>0</td>\n",
              "      <td>2</td>\n",
              "      <td>2</td>\n",
              "      <td>0</td>\n",
              "      <td>0</td>\n",
              "      <td>2</td>\n",
              "    </tr>\n",
              "    <tr>\n",
              "      <th>1</th>\n",
              "      <td>2020-03-02</td>\n",
              "      <td>DKI JAKARTA</td>\n",
              "      <td>2</td>\n",
              "      <td>0</td>\n",
              "      <td>0</td>\n",
              "      <td>2</td>\n",
              "      <td>4</td>\n",
              "      <td>0</td>\n",
              "      <td>0</td>\n",
              "      <td>4</td>\n",
              "    </tr>\n",
              "    <tr>\n",
              "      <th>2</th>\n",
              "      <td>2020-03-03</td>\n",
              "      <td>DKI JAKARTA</td>\n",
              "      <td>2</td>\n",
              "      <td>0</td>\n",
              "      <td>0</td>\n",
              "      <td>2</td>\n",
              "      <td>6</td>\n",
              "      <td>0</td>\n",
              "      <td>0</td>\n",
              "      <td>6</td>\n",
              "    </tr>\n",
              "    <tr>\n",
              "      <th>3</th>\n",
              "      <td>2020-03-04</td>\n",
              "      <td>DKI JAKARTA</td>\n",
              "      <td>2</td>\n",
              "      <td>0</td>\n",
              "      <td>0</td>\n",
              "      <td>2</td>\n",
              "      <td>8</td>\n",
              "      <td>0</td>\n",
              "      <td>0</td>\n",
              "      <td>8</td>\n",
              "    </tr>\n",
              "    <tr>\n",
              "      <th>4</th>\n",
              "      <td>2020-03-05</td>\n",
              "      <td>DKI JAKARTA</td>\n",
              "      <td>0</td>\n",
              "      <td>1</td>\n",
              "      <td>0</td>\n",
              "      <td>-1</td>\n",
              "      <td>8</td>\n",
              "      <td>0</td>\n",
              "      <td>1</td>\n",
              "      <td>7</td>\n",
              "    </tr>\n",
              "  </tbody>\n",
              "</table>\n",
              "</div>\n",
              "      <button class=\"colab-df-convert\" onclick=\"convertToInteractive('df-a2c1ec1b-ff50-40b0-8b9c-c5429ec8f26b')\"\n",
              "              title=\"Convert this dataframe to an interactive table.\"\n",
              "              style=\"display:none;\">\n",
              "        \n",
              "  <svg xmlns=\"http://www.w3.org/2000/svg\" height=\"24px\"viewBox=\"0 0 24 24\"\n",
              "       width=\"24px\">\n",
              "    <path d=\"M0 0h24v24H0V0z\" fill=\"none\"/>\n",
              "    <path d=\"M18.56 5.44l.94 2.06.94-2.06 2.06-.94-2.06-.94-.94-2.06-.94 2.06-2.06.94zm-11 1L8.5 8.5l.94-2.06 2.06-.94-2.06-.94L8.5 2.5l-.94 2.06-2.06.94zm10 10l.94 2.06.94-2.06 2.06-.94-2.06-.94-.94-2.06-.94 2.06-2.06.94z\"/><path d=\"M17.41 7.96l-1.37-1.37c-.4-.4-.92-.59-1.43-.59-.52 0-1.04.2-1.43.59L10.3 9.45l-7.72 7.72c-.78.78-.78 2.05 0 2.83L4 21.41c.39.39.9.59 1.41.59.51 0 1.02-.2 1.41-.59l7.78-7.78 2.81-2.81c.8-.78.8-2.07 0-2.86zM5.41 20L4 18.59l7.72-7.72 1.47 1.35L5.41 20z\"/>\n",
              "  </svg>\n",
              "      </button>\n",
              "      \n",
              "  <style>\n",
              "    .colab-df-container {\n",
              "      display:flex;\n",
              "      flex-wrap:wrap;\n",
              "      gap: 12px;\n",
              "    }\n",
              "\n",
              "    .colab-df-convert {\n",
              "      background-color: #E8F0FE;\n",
              "      border: none;\n",
              "      border-radius: 50%;\n",
              "      cursor: pointer;\n",
              "      display: none;\n",
              "      fill: #1967D2;\n",
              "      height: 32px;\n",
              "      padding: 0 0 0 0;\n",
              "      width: 32px;\n",
              "    }\n",
              "\n",
              "    .colab-df-convert:hover {\n",
              "      background-color: #E2EBFA;\n",
              "      box-shadow: 0px 1px 2px rgba(60, 64, 67, 0.3), 0px 1px 3px 1px rgba(60, 64, 67, 0.15);\n",
              "      fill: #174EA6;\n",
              "    }\n",
              "\n",
              "    [theme=dark] .colab-df-convert {\n",
              "      background-color: #3B4455;\n",
              "      fill: #D2E3FC;\n",
              "    }\n",
              "\n",
              "    [theme=dark] .colab-df-convert:hover {\n",
              "      background-color: #434B5C;\n",
              "      box-shadow: 0px 1px 3px 1px rgba(0, 0, 0, 0.15);\n",
              "      filter: drop-shadow(0px 1px 2px rgba(0, 0, 0, 0.3));\n",
              "      fill: #FFFFFF;\n",
              "    }\n",
              "  </style>\n",
              "\n",
              "      <script>\n",
              "        const buttonEl =\n",
              "          document.querySelector('#df-a2c1ec1b-ff50-40b0-8b9c-c5429ec8f26b button.colab-df-convert');\n",
              "        buttonEl.style.display =\n",
              "          google.colab.kernel.accessAllowed ? 'block' : 'none';\n",
              "\n",
              "        async function convertToInteractive(key) {\n",
              "          const element = document.querySelector('#df-a2c1ec1b-ff50-40b0-8b9c-c5429ec8f26b');\n",
              "          const dataTable =\n",
              "            await google.colab.kernel.invokeFunction('convertToInteractive',\n",
              "                                                     [key], {});\n",
              "          if (!dataTable) return;\n",
              "\n",
              "          const docLinkHtml = 'Like what you see? Visit the ' +\n",
              "            '<a target=\"_blank\" href=https://colab.research.google.com/notebooks/data_table.ipynb>data table notebook</a>'\n",
              "            + ' to learn more about interactive tables.';\n",
              "          element.innerHTML = '';\n",
              "          dataTable['output_type'] = 'display_data';\n",
              "          await google.colab.output.renderOutput(dataTable, element);\n",
              "          const docLink = document.createElement('div');\n",
              "          docLink.innerHTML = docLinkHtml;\n",
              "          element.appendChild(docLink);\n",
              "        }\n",
              "      </script>\n",
              "    </div>\n",
              "  </div>\n",
              "  "
            ]
          },
          "metadata": {},
          "execution_count": 144
        }
      ],
      "source": [
        "df_covid[df_covid['Date'].str.contains('2020')].head()"
      ]
    },
    {
      "cell_type": "code",
      "execution_count": 145,
      "metadata": {
        "colab": {
          "base_uri": "https://localhost:8080/",
          "height": 357
        },
        "id": "IPqviTuU0OIq",
        "outputId": "713c70d7-9b41-4b2a-b7a0-582e4a00017a"
      },
      "outputs": [
        {
          "output_type": "execute_result",
          "data": {
            "text/plain": [
              "           Date     Province  Daily_Case  Daily_Death  Daily_Recovered  \\\n",
              "306  2021-01-01  DKI JAKARTA        1956           20             1643   \n",
              "307  2021-01-02  DKI JAKARTA        1894           26             2280   \n",
              "308  2021-01-03  DKI JAKARTA        1658           10             1691   \n",
              "310  2021-01-05  DKI JAKARTA        1824           19             1339   \n",
              "841  2021-01-01   JAWA BARAT        1504            3             1204   \n",
              "\n",
              "     Active_Case  Cumulative_Case  Cumulative_Recovered  Cumulative_Death  \\\n",
              "306          293           185654                166314              3270   \n",
              "307         -412           187548                168594              3296   \n",
              "308          -43           189206                170285              3306   \n",
              "310          466           192862                174151              3346   \n",
              "841          297            85083                 71767              1173   \n",
              "\n",
              "     Cumulative_Active_Case  \n",
              "306                   16070  \n",
              "307                   15658  \n",
              "308                   15615  \n",
              "310                   15365  \n",
              "841                   12143  "
            ],
            "text/html": [
              "\n",
              "  <div id=\"df-e9a1a6ae-4b32-4077-beeb-a4050df24cae\">\n",
              "    <div class=\"colab-df-container\">\n",
              "      <div>\n",
              "<style scoped>\n",
              "    .dataframe tbody tr th:only-of-type {\n",
              "        vertical-align: middle;\n",
              "    }\n",
              "\n",
              "    .dataframe tbody tr th {\n",
              "        vertical-align: top;\n",
              "    }\n",
              "\n",
              "    .dataframe thead th {\n",
              "        text-align: right;\n",
              "    }\n",
              "</style>\n",
              "<table border=\"1\" class=\"dataframe\">\n",
              "  <thead>\n",
              "    <tr style=\"text-align: right;\">\n",
              "      <th></th>\n",
              "      <th>Date</th>\n",
              "      <th>Province</th>\n",
              "      <th>Daily_Case</th>\n",
              "      <th>Daily_Death</th>\n",
              "      <th>Daily_Recovered</th>\n",
              "      <th>Active_Case</th>\n",
              "      <th>Cumulative_Case</th>\n",
              "      <th>Cumulative_Recovered</th>\n",
              "      <th>Cumulative_Death</th>\n",
              "      <th>Cumulative_Active_Case</th>\n",
              "    </tr>\n",
              "  </thead>\n",
              "  <tbody>\n",
              "    <tr>\n",
              "      <th>306</th>\n",
              "      <td>2021-01-01</td>\n",
              "      <td>DKI JAKARTA</td>\n",
              "      <td>1956</td>\n",
              "      <td>20</td>\n",
              "      <td>1643</td>\n",
              "      <td>293</td>\n",
              "      <td>185654</td>\n",
              "      <td>166314</td>\n",
              "      <td>3270</td>\n",
              "      <td>16070</td>\n",
              "    </tr>\n",
              "    <tr>\n",
              "      <th>307</th>\n",
              "      <td>2021-01-02</td>\n",
              "      <td>DKI JAKARTA</td>\n",
              "      <td>1894</td>\n",
              "      <td>26</td>\n",
              "      <td>2280</td>\n",
              "      <td>-412</td>\n",
              "      <td>187548</td>\n",
              "      <td>168594</td>\n",
              "      <td>3296</td>\n",
              "      <td>15658</td>\n",
              "    </tr>\n",
              "    <tr>\n",
              "      <th>308</th>\n",
              "      <td>2021-01-03</td>\n",
              "      <td>DKI JAKARTA</td>\n",
              "      <td>1658</td>\n",
              "      <td>10</td>\n",
              "      <td>1691</td>\n",
              "      <td>-43</td>\n",
              "      <td>189206</td>\n",
              "      <td>170285</td>\n",
              "      <td>3306</td>\n",
              "      <td>15615</td>\n",
              "    </tr>\n",
              "    <tr>\n",
              "      <th>310</th>\n",
              "      <td>2021-01-05</td>\n",
              "      <td>DKI JAKARTA</td>\n",
              "      <td>1824</td>\n",
              "      <td>19</td>\n",
              "      <td>1339</td>\n",
              "      <td>466</td>\n",
              "      <td>192862</td>\n",
              "      <td>174151</td>\n",
              "      <td>3346</td>\n",
              "      <td>15365</td>\n",
              "    </tr>\n",
              "    <tr>\n",
              "      <th>841</th>\n",
              "      <td>2021-01-01</td>\n",
              "      <td>JAWA BARAT</td>\n",
              "      <td>1504</td>\n",
              "      <td>3</td>\n",
              "      <td>1204</td>\n",
              "      <td>297</td>\n",
              "      <td>85083</td>\n",
              "      <td>71767</td>\n",
              "      <td>1173</td>\n",
              "      <td>12143</td>\n",
              "    </tr>\n",
              "  </tbody>\n",
              "</table>\n",
              "</div>\n",
              "      <button class=\"colab-df-convert\" onclick=\"convertToInteractive('df-e9a1a6ae-4b32-4077-beeb-a4050df24cae')\"\n",
              "              title=\"Convert this dataframe to an interactive table.\"\n",
              "              style=\"display:none;\">\n",
              "        \n",
              "  <svg xmlns=\"http://www.w3.org/2000/svg\" height=\"24px\"viewBox=\"0 0 24 24\"\n",
              "       width=\"24px\">\n",
              "    <path d=\"M0 0h24v24H0V0z\" fill=\"none\"/>\n",
              "    <path d=\"M18.56 5.44l.94 2.06.94-2.06 2.06-.94-2.06-.94-.94-2.06-.94 2.06-2.06.94zm-11 1L8.5 8.5l.94-2.06 2.06-.94-2.06-.94L8.5 2.5l-.94 2.06-2.06.94zm10 10l.94 2.06.94-2.06 2.06-.94-2.06-.94-.94-2.06-.94 2.06-2.06.94z\"/><path d=\"M17.41 7.96l-1.37-1.37c-.4-.4-.92-.59-1.43-.59-.52 0-1.04.2-1.43.59L10.3 9.45l-7.72 7.72c-.78.78-.78 2.05 0 2.83L4 21.41c.39.39.9.59 1.41.59.51 0 1.02-.2 1.41-.59l7.78-7.78 2.81-2.81c.8-.78.8-2.07 0-2.86zM5.41 20L4 18.59l7.72-7.72 1.47 1.35L5.41 20z\"/>\n",
              "  </svg>\n",
              "      </button>\n",
              "      \n",
              "  <style>\n",
              "    .colab-df-container {\n",
              "      display:flex;\n",
              "      flex-wrap:wrap;\n",
              "      gap: 12px;\n",
              "    }\n",
              "\n",
              "    .colab-df-convert {\n",
              "      background-color: #E8F0FE;\n",
              "      border: none;\n",
              "      border-radius: 50%;\n",
              "      cursor: pointer;\n",
              "      display: none;\n",
              "      fill: #1967D2;\n",
              "      height: 32px;\n",
              "      padding: 0 0 0 0;\n",
              "      width: 32px;\n",
              "    }\n",
              "\n",
              "    .colab-df-convert:hover {\n",
              "      background-color: #E2EBFA;\n",
              "      box-shadow: 0px 1px 2px rgba(60, 64, 67, 0.3), 0px 1px 3px 1px rgba(60, 64, 67, 0.15);\n",
              "      fill: #174EA6;\n",
              "    }\n",
              "\n",
              "    [theme=dark] .colab-df-convert {\n",
              "      background-color: #3B4455;\n",
              "      fill: #D2E3FC;\n",
              "    }\n",
              "\n",
              "    [theme=dark] .colab-df-convert:hover {\n",
              "      background-color: #434B5C;\n",
              "      box-shadow: 0px 1px 3px 1px rgba(0, 0, 0, 0.15);\n",
              "      filter: drop-shadow(0px 1px 2px rgba(0, 0, 0, 0.3));\n",
              "      fill: #FFFFFF;\n",
              "    }\n",
              "  </style>\n",
              "\n",
              "      <script>\n",
              "        const buttonEl =\n",
              "          document.querySelector('#df-e9a1a6ae-4b32-4077-beeb-a4050df24cae button.colab-df-convert');\n",
              "        buttonEl.style.display =\n",
              "          google.colab.kernel.accessAllowed ? 'block' : 'none';\n",
              "\n",
              "        async function convertToInteractive(key) {\n",
              "          const element = document.querySelector('#df-e9a1a6ae-4b32-4077-beeb-a4050df24cae');\n",
              "          const dataTable =\n",
              "            await google.colab.kernel.invokeFunction('convertToInteractive',\n",
              "                                                     [key], {});\n",
              "          if (!dataTable) return;\n",
              "\n",
              "          const docLinkHtml = 'Like what you see? Visit the ' +\n",
              "            '<a target=\"_blank\" href=https://colab.research.google.com/notebooks/data_table.ipynb>data table notebook</a>'\n",
              "            + ' to learn more about interactive tables.';\n",
              "          element.innerHTML = '';\n",
              "          dataTable['output_type'] = 'display_data';\n",
              "          await google.colab.output.renderOutput(dataTable, element);\n",
              "          const docLink = document.createElement('div');\n",
              "          docLink.innerHTML = docLinkHtml;\n",
              "          element.appendChild(docLink);\n",
              "        }\n",
              "      </script>\n",
              "    </div>\n",
              "  </div>\n",
              "  "
            ]
          },
          "metadata": {},
          "execution_count": 145
        }
      ],
      "source": [
        "df_covid[df_covid['Date'].str.contains('2021')].head()"
      ]
    },
    {
      "cell_type": "code",
      "execution_count": 146,
      "metadata": {
        "colab": {
          "base_uri": "https://localhost:8080/"
        },
        "id": "URNRndlp0vyr",
        "outputId": "7c62feaa-88e6-4350-98fa-06874c7c135f"
      },
      "outputs": [
        {
          "output_type": "stream",
          "name": "stdout",
          "text": [
            "Total catatan kasus covid pada tahun 2020: 9776 kasus\n"
          ]
        }
      ],
      "source": [
        "print(f\"Total catatan kasus covid pada tahun 2020: {df_covid[df_covid['Date'].str.contains('2020')].shape[0]} kasus\")"
      ]
    },
    {
      "cell_type": "code",
      "execution_count": 147,
      "metadata": {
        "colab": {
          "base_uri": "https://localhost:8080/"
        },
        "id": "xpAl79xD1Ct1",
        "outputId": "711b5d4e-8eb8-4814-e015-9a3bd5e68f8e"
      },
      "outputs": [
        {
          "output_type": "stream",
          "name": "stdout",
          "text": [
            "Total catatan kasus covid pada tahun 2021: 6899 kasus\n"
          ]
        }
      ],
      "source": [
        "print(f\"Total catatan kasus covid pada tahun 2021: {df_covid[df_covid['Date'].str.contains('2021')].shape[0]} kasus\")"
      ]
    },
    {
      "cell_type": "markdown",
      "metadata": {
        "id": "11FuuZBD1ZEG"
      },
      "source": [
        "### Province"
      ]
    },
    {
      "cell_type": "code",
      "execution_count": 148,
      "metadata": {
        "colab": {
          "base_uri": "https://localhost:8080/"
        },
        "id": "ItpHwG9T1bUm",
        "outputId": "dfda4675-5e4c-4ad7-e881-4f8c2b79d476"
      },
      "outputs": [
        {
          "output_type": "execute_result",
          "data": {
            "text/plain": [
              "RIAU                          534\n",
              "SULAWESI TENGGARA             527\n",
              "BALI                          525\n",
              "SUMATERA UTARA                522\n",
              "SULAWESI SELATAN              520\n",
              "KALIMANTAN TIMUR              518\n",
              "KEPULAUAN RIAU                518\n",
              "JAMBI                         517\n",
              "MALUKU                        517\n",
              "MALUKU UTARA                  515\n",
              "SUMATERA SELATAN              514\n",
              "PAPUA                         513\n",
              "SUMATERA BARAT                511\n",
              "ACEH                          511\n",
              "SULAWESI UTARA                511\n",
              "SULAWESI TENGAH               511\n",
              "PAPUA BARAT                   510\n",
              "KALIMANTAN UTARA              509\n",
              "SULAWESI BARAT                509\n",
              "KALIMANTAN TENGAH             508\n",
              "KALIMANTAN BARAT              508\n",
              "KALIMANTAN SELATAN            507\n",
              "KEPULAUAN BANGKA BELITUNG     507\n",
              "NUSA TENGGARA BARAT           506\n",
              "BENGKULU                      506\n",
              "LAMPUNG                       505\n",
              "BANTEN                        504\n",
              "GORONTALO                     496\n",
              "NUSA TENGGARA TIMUR           495\n",
              "DAERAH ISTIMEWA YOGYAKARTA    493\n",
              "JAWA TIMUR                    369\n",
              "JAWA BARAT                    341\n",
              "JAWA TENGAH                   310\n",
              "DKI JAKARTA                   308\n",
              "Name: Province, dtype: int64"
            ]
          },
          "metadata": {},
          "execution_count": 148
        }
      ],
      "source": [
        "# unique value\n",
        "df_covid['Province'].value_counts()"
      ]
    },
    {
      "cell_type": "code",
      "execution_count": 149,
      "metadata": {
        "colab": {
          "base_uri": "https://localhost:8080/"
        },
        "id": "Kf2f2u7V9zTz",
        "outputId": "c8ee2418-2b3d-46da-8dec-895f3514fafc"
      },
      "outputs": [
        {
          "output_type": "stream",
          "name": "stdout",
          "text": [
            "Total banyaknya provinsi : 34\n"
          ]
        }
      ],
      "source": [
        "print(f\"Total banyaknya provinsi : {len(df_covid['Province'].value_counts())}\")"
      ]
    },
    {
      "cell_type": "code",
      "execution_count": 150,
      "metadata": {
        "colab": {
          "base_uri": "https://localhost:8080/"
        },
        "id": "0UajFyIf7Upi",
        "outputId": "fb602be9-1d30-4967-a22f-5c2ba9c5ea5a"
      },
      "outputs": [
        {
          "output_type": "stream",
          "name": "stdout",
          "text": [
            "Provinsi dengan catatan terbanyak: RIAU    534\n",
            "Name: Province, dtype: int64\n",
            "Provinsi dengan catatan terkecil: DKI JAKARTA    308\n",
            "Name: Province, dtype: int64\n"
          ]
        }
      ],
      "source": [
        "print(f\"Provinsi dengan catatan terbanyak: {df_covid['Province'].value_counts().head(1)}\")\n",
        "print(f\"Provinsi dengan catatan terkecil: {df_covid['Province'].value_counts().tail(1)}\")"
      ]
    },
    {
      "cell_type": "markdown",
      "metadata": {
        "id": "DDIXIL1D-I-8"
      },
      "source": [
        "### Daily Case"
      ]
    },
    {
      "cell_type": "code",
      "execution_count": 151,
      "metadata": {
        "colab": {
          "base_uri": "https://localhost:8080/"
        },
        "id": "xmjluH1dO6Np",
        "outputId": "04d34685-53f4-4480-8473-c01484d084f7"
      },
      "outputs": [
        {
          "output_type": "stream",
          "name": "stderr",
          "text": [
            "<ipython-input-151-43f7b536314c>:1: SettingWithCopyWarning: \n",
            "A value is trying to be set on a copy of a slice from a DataFrame.\n",
            "Try using .loc[row_indexer,col_indexer] = value instead\n",
            "\n",
            "See the caveats in the documentation: https://pandas.pydata.org/pandas-docs/stable/user_guide/indexing.html#returning-a-view-versus-a-copy\n",
            "  df_covid['Date'] = pd.to_datetime(df_covid['Date'], format='%Y-%m-%d')\n"
          ]
        }
      ],
      "source": [
        "df_covid['Date'] = pd.to_datetime(df_covid['Date'], format='%Y-%m-%d')"
      ]
    },
    {
      "cell_type": "code",
      "execution_count": 152,
      "metadata": {
        "colab": {
          "base_uri": "https://localhost:8080/"
        },
        "id": "Brb-z14x-VuF",
        "outputId": "50600900-7079-4d35-9045-4a456def0e34"
      },
      "outputs": [
        {
          "output_type": "execute_result",
          "data": {
            "text/plain": [
              "0       2053\n",
              "1        606\n",
              "2        465\n",
              "3        374\n",
              "4        306\n",
              "        ... \n",
              "1007       1\n",
              "545        1\n",
              "809        1\n",
              "544        1\n",
              "867        1\n",
              "Name: Daily_Case, Length: 1102, dtype: int64"
            ]
          },
          "metadata": {},
          "execution_count": 152
        }
      ],
      "source": [
        "# unique value\n",
        "df_covid['Daily_Case'].value_counts()"
      ]
    },
    {
      "cell_type": "code",
      "execution_count": 153,
      "metadata": {
        "colab": {
          "base_uri": "https://localhost:8080/"
        },
        "id": "K6HWmL8dO1_W",
        "outputId": "469936c8-2e01-4fec-8514-1f635e5daccf"
      },
      "outputs": [
        {
          "output_type": "stream",
          "name": "stdout",
          "text": [
            "Rata-rata jumlah daily case : 118.0 kasus\n"
          ]
        }
      ],
      "source": [
        "# Rata-rata daily case\n",
        "print(f\"Rata-rata jumlah daily case : {df_covid['Daily_Case'].mean().round()} kasus\")\n"
      ]
    },
    {
      "cell_type": "code",
      "execution_count": 154,
      "metadata": {
        "colab": {
          "base_uri": "https://localhost:8080/"
        },
        "id": "BLR-I8zC-r9X",
        "outputId": "08b417ff-7410-435f-d90e-8fa6b144f086"
      },
      "outputs": [
        {
          "output_type": "stream",
          "name": "stdout",
          "text": [
            "Catatan daily case terbanyak : 2364 kasus\n"
          ]
        }
      ],
      "source": [
        "# Daily case terbanyak\n",
        "print(f\"Catatan daily case terbanyak : {df_covid['Daily_Case'].max()} kasus\")"
      ]
    },
    {
      "cell_type": "code",
      "execution_count": 155,
      "metadata": {
        "colab": {
          "base_uri": "https://localhost:8080/"
        },
        "id": "kF26jIEYTfSk",
        "outputId": "ca650110-eae2-4570-a968-d116865d5e56"
      },
      "outputs": [
        {
          "output_type": "stream",
          "name": "stdout",
          "text": [
            "Jumlah data catatan dengan daily case terbanyak : 1 data\n"
          ]
        }
      ],
      "source": [
        "print(f\"Jumlah data catatan dengan daily case terbanyak : {len(df_covid[df_covid['Daily_Case'] == df_covid['Daily_Case'].max()]['Province'])} data\")"
      ]
    },
    {
      "cell_type": "code",
      "execution_count": 156,
      "metadata": {
        "colab": {
          "base_uri": "https://localhost:8080/"
        },
        "id": "IdlPVxe0N-1c",
        "outputId": "09e2fe90-8311-4425-d110-961aaec44e2d"
      },
      "outputs": [
        {
          "output_type": "stream",
          "name": "stdout",
          "text": [
            "Catatan daily case paling sedikit : 0 kasus\n"
          ]
        }
      ],
      "source": [
        "# Daily case paling sedikit\n",
        "print(f\"Catatan daily case paling sedikit : {df_covid['Daily_Case'].min()} kasus\")"
      ]
    },
    {
      "cell_type": "code",
      "execution_count": 157,
      "metadata": {
        "colab": {
          "base_uri": "https://localhost:8080/"
        },
        "id": "B-4-hzScOClW",
        "outputId": "50224772-2463-4efb-9699-7662c9d0d8ae"
      },
      "outputs": [
        {
          "output_type": "stream",
          "name": "stdout",
          "text": [
            "Jumlah data catatan dengan daily case paling sedikit : 2053 data\n"
          ]
        }
      ],
      "source": [
        "print(f\"Jumlah data catatan dengan daily case paling sedikit : {len(df_covid[df_covid['Daily_Case'] == df_covid['Daily_Case'].min()]['Province'])} data\")"
      ]
    },
    {
      "cell_type": "markdown",
      "metadata": {
        "id": "kXQhTfsmRTvr"
      },
      "source": [
        "#### Daily case / date"
      ]
    },
    {
      "cell_type": "code",
      "execution_count": 158,
      "metadata": {
        "colab": {
          "base_uri": "https://localhost:8080/"
        },
        "id": "3cdU7magNPPA",
        "outputId": "834619b4-392f-4bdd-b65b-11350c25d724"
      },
      "outputs": [
        {
          "output_type": "stream",
          "name": "stdout",
          "text": [
            "Date dengan catatan daily case terbanyak : \n",
            "7335   2021-07-30\n",
            "Name: Date, dtype: datetime64[ns]\n"
          ]
        }
      ],
      "source": [
        "print(f\"Date dengan catatan daily case terbanyak : \")\n",
        "print(df_covid[df_covid['Daily_Case'] == df_covid['Daily_Case'].max()]['Date'])"
      ]
    },
    {
      "cell_type": "code",
      "execution_count": 159,
      "metadata": {
        "colab": {
          "base_uri": "https://localhost:8080/"
        },
        "id": "qd8y5NiJNk9w",
        "outputId": "97ecc10c-dcf8-44f2-a5c4-e6aae981525d"
      },
      "outputs": [
        {
          "output_type": "execute_result",
          "data": {
            "text/plain": [
              "Date\n",
              "2020-01-08        9\n",
              "2020-01-09        0\n",
              "2020-01-10        0\n",
              "2020-01-11        0\n",
              "2020-01-12        0\n",
              "              ...  \n",
              "2021-08-16     9414\n",
              "2021-08-17    11724\n",
              "2021-08-18     8157\n",
              "2021-08-19        1\n",
              "2021-08-20        6\n",
              "Name: Daily_Case, Length: 591, dtype: int64"
            ]
          },
          "metadata": {},
          "execution_count": 159
        }
      ],
      "source": [
        "# Total jumlah daily case pada setiap date\n",
        "df_covid.groupby('Date').sum()['Daily_Case']"
      ]
    },
    {
      "cell_type": "code",
      "execution_count": 160,
      "metadata": {
        "colab": {
          "base_uri": "https://localhost:8080/"
        },
        "id": "N3v1YJ_oNyUD",
        "outputId": "ef3d8a6c-ae8a-48d3-a36c-e0647ff8fafc"
      },
      "outputs": [
        {
          "output_type": "execute_result",
          "data": {
            "text/plain": [
              "Date\n",
              "2020-01-08      9.0\n",
              "2020-01-09      0.0\n",
              "2020-01-10      0.0\n",
              "2020-01-11      0.0\n",
              "2020-01-12      0.0\n",
              "              ...  \n",
              "2021-08-16    314.0\n",
              "2021-08-17    404.0\n",
              "2021-08-18    281.0\n",
              "2021-08-19      0.0\n",
              "2021-08-20      2.0\n",
              "Name: Daily_Case, Length: 591, dtype: float64"
            ]
          },
          "metadata": {},
          "execution_count": 160
        }
      ],
      "source": [
        "# Rata-rata jumlah daily case setiap Date\n",
        "df_covid.groupby('Date').mean()['Daily_Case'].round()"
      ]
    },
    {
      "cell_type": "code",
      "execution_count": 161,
      "metadata": {
        "colab": {
          "base_uri": "https://localhost:8080/"
        },
        "id": "URC_r9kKOjrU",
        "outputId": "9bb531d7-16ec-4d98-9ddc-665796cf38da"
      },
      "outputs": [
        {
          "output_type": "execute_result",
          "data": {
            "text/plain": [
              "Date\n",
              "2020-01-08       9\n",
              "2020-01-09       0\n",
              "2020-01-10       0\n",
              "2020-01-11       0\n",
              "2020-01-12       0\n",
              "              ... \n",
              "2021-08-16     888\n",
              "2021-08-17    1172\n",
              "2021-08-18     869\n",
              "2021-08-19       1\n",
              "2021-08-20       2\n",
              "Name: Daily_Case, Length: 591, dtype: int64"
            ]
          },
          "metadata": {},
          "execution_count": 161
        }
      ],
      "source": [
        "# Jumlah maksimal daily case setiap Date\n",
        "df_covid.groupby('Date').max()['Daily_Case']"
      ]
    },
    {
      "cell_type": "code",
      "execution_count": 162,
      "metadata": {
        "colab": {
          "base_uri": "https://localhost:8080/"
        },
        "id": "C0XROL1HOpt9",
        "outputId": "7dc3a9ce-7736-4603-9a60-5275cb011925"
      },
      "outputs": [
        {
          "output_type": "execute_result",
          "data": {
            "text/plain": [
              "Date\n",
              "2020-01-08     9\n",
              "2020-01-09     0\n",
              "2020-01-10     0\n",
              "2020-01-11     0\n",
              "2020-01-12     0\n",
              "              ..\n",
              "2021-08-16    26\n",
              "2021-08-17    23\n",
              "2021-08-18    18\n",
              "2021-08-19     0\n",
              "2021-08-20     1\n",
              "Name: Daily_Case, Length: 591, dtype: int64"
            ]
          },
          "metadata": {},
          "execution_count": 162
        }
      ],
      "source": [
        "# Jumlah minimal daily case setiap Date\n",
        "df_covid.groupby('Date').min()['Daily_Case']"
      ]
    },
    {
      "cell_type": "markdown",
      "metadata": {
        "id": "juDq_5EHRVyL"
      },
      "source": [
        "#### Daily case / province"
      ]
    },
    {
      "cell_type": "code",
      "execution_count": 163,
      "metadata": {
        "colab": {
          "base_uri": "https://localhost:8080/"
        },
        "id": "5f31k6U7NjQP",
        "outputId": "09d139d4-46f0-49d8-d45f-8c11687edb46"
      },
      "outputs": [
        {
          "output_type": "stream",
          "name": "stdout",
          "text": [
            "Provinsi dengan catatan daily case terbanyak : \n",
            "7335    KALIMANTAN TIMUR\n",
            "Name: Province, dtype: object\n"
          ]
        }
      ],
      "source": [
        "print(f\"Provinsi dengan catatan daily case terbanyak : \")\n",
        "print(df_covid[df_covid['Daily_Case'] == df_covid['Daily_Case'].max()]['Province'])"
      ]
    },
    {
      "cell_type": "code",
      "execution_count": 164,
      "metadata": {
        "colab": {
          "base_uri": "https://localhost:8080/"
        },
        "id": "vfBZBESaCKQ-",
        "outputId": "dd400aaa-5227-4b43-d1f9-d877563be0a5"
      },
      "outputs": [
        {
          "output_type": "execute_result",
          "data": {
            "text/plain": [
              "Province\n",
              "GORONTALO                      10462\n",
              "SULAWESI BARAT                 10746\n",
              "MALUKU UTARA                   11284\n",
              "MALUKU                         14166\n",
              "SULAWESI TENGGARA              18846\n",
              "BENGKULU                       21574\n",
              "PAPUA BARAT                    21671\n",
              "NUSA TENGGARA BARAT            23854\n",
              "JAMBI                          25727\n",
              "ACEH                           28547\n",
              "PAPUA                          28810\n",
              "KALIMANTAN UTARA               28876\n",
              "SULAWESI UTARA                 30226\n",
              "KALIMANTAN BARAT               32512\n",
              "SULAWESI TENGAH                36917\n",
              "KALIMANTAN TENGAH              40163\n",
              "LAMPUNG                        40174\n",
              "KEPULAUAN BANGKA BELITUNG      42795\n",
              "NUSA TENGGARA TIMUR            50181\n",
              "KEPULAUAN RIAU                 50712\n",
              "SUMATERA SELATAN               55545\n",
              "KALIMANTAN SELATAN             60376\n",
              "BANTEN                         65512\n",
              "SUMATERA BARAT                 82738\n",
              "SUMATERA UTARA                 84273\n",
              "JAWA TIMUR                     92215\n",
              "DAERAH ISTIMEWA YOGYAKARTA     93058\n",
              "JAWA TENGAH                    96740\n",
              "BALI                           98565\n",
              "SULAWESI SELATAN               98897\n",
              "RIAU                          114696\n",
              "JAWA BARAT                    131625\n",
              "KALIMANTAN TIMUR              133871\n",
              "DKI JAKARTA                   187786\n",
              "Name: Daily_Case, dtype: int64"
            ]
          },
          "metadata": {},
          "execution_count": 164
        }
      ],
      "source": [
        "# Total jumlah daily case setiap provinsi\n",
        "df_covid.groupby('Province').sum()['Daily_Case'].sort_values()"
      ]
    },
    {
      "cell_type": "code",
      "execution_count": 165,
      "metadata": {
        "colab": {
          "base_uri": "https://localhost:8080/"
        },
        "id": "2fpMb7aBLlEU",
        "outputId": "24c080c9-aad0-4312-9c56-5641d47d716c"
      },
      "outputs": [
        {
          "output_type": "execute_result",
          "data": {
            "text/plain": [
              "Province\n",
              "GORONTALO                      21.0\n",
              "SULAWESI BARAT                 21.0\n",
              "MALUKU UTARA                   22.0\n",
              "MALUKU                         27.0\n",
              "SULAWESI TENGGARA              36.0\n",
              "PAPUA BARAT                    42.0\n",
              "BENGKULU                       43.0\n",
              "NUSA TENGGARA BARAT            47.0\n",
              "JAMBI                          50.0\n",
              "ACEH                           56.0\n",
              "PAPUA                          56.0\n",
              "KALIMANTAN UTARA               57.0\n",
              "SULAWESI UTARA                 59.0\n",
              "KALIMANTAN BARAT               64.0\n",
              "SULAWESI TENGAH                72.0\n",
              "KALIMANTAN TENGAH              79.0\n",
              "LAMPUNG                        80.0\n",
              "KEPULAUAN BANGKA BELITUNG      84.0\n",
              "KEPULAUAN RIAU                 98.0\n",
              "NUSA TENGGARA TIMUR           101.0\n",
              "SUMATERA SELATAN              108.0\n",
              "KALIMANTAN SELATAN            119.0\n",
              "BANTEN                        130.0\n",
              "SUMATERA UTARA                161.0\n",
              "SUMATERA BARAT                162.0\n",
              "BALI                          188.0\n",
              "DAERAH ISTIMEWA YOGYAKARTA    189.0\n",
              "SULAWESI SELATAN              190.0\n",
              "RIAU                          215.0\n",
              "JAWA TIMUR                    250.0\n",
              "KALIMANTAN TIMUR              258.0\n",
              "JAWA TENGAH                   312.0\n",
              "JAWA BARAT                    386.0\n",
              "DKI JAKARTA                   610.0\n",
              "Name: Daily_Case, dtype: float64"
            ]
          },
          "metadata": {},
          "execution_count": 165
        }
      ],
      "source": [
        "# Rata-rata jumlah daily case setiap provinsi\n",
        "df_covid.groupby('Province').mean()['Daily_Case'].sort_values().round()"
      ]
    },
    {
      "cell_type": "code",
      "execution_count": 166,
      "metadata": {
        "colab": {
          "base_uri": "https://localhost:8080/"
        },
        "id": "KCxj-X8SMoeY",
        "outputId": "27fa1afc-f12e-448a-b20c-ac6b1c4d77cf"
      },
      "outputs": [
        {
          "output_type": "execute_result",
          "data": {
            "text/plain": [
              "Province\n",
              "SULAWESI BARAT                 241\n",
              "GORONTALO                      278\n",
              "SULAWESI TENGGARA              311\n",
              "MALUKU                         349\n",
              "PAPUA                          360\n",
              "MALUKU UTARA                   360\n",
              "ACEH                           411\n",
              "KALIMANTAN TENGAH              482\n",
              "NUSA TENGGARA BARAT            503\n",
              "BENGKULU                       520\n",
              "JAMBI                          567\n",
              "PAPUA BARAT                    605\n",
              "KALIMANTAN UTARA               632\n",
              "SULAWESI UTARA                 708\n",
              "LAMPUNG                        717\n",
              "KALIMANTAN BARAT               779\n",
              "KEPULAUAN BANGKA BELITUNG      862\n",
              "KEPULAUAN RIAU                 928\n",
              "KALIMANTAN SELATAN             958\n",
              "JAWA TIMUR                    1015\n",
              "SUMATERA BARAT                1157\n",
              "NUSA TENGGARA TIMUR           1249\n",
              "SUMATERA SELATAN              1278\n",
              "SULAWESI SELATAN              1359\n",
              "BANTEN                        1368\n",
              "SULAWESI TENGAH               1566\n",
              "BALI                          1910\n",
              "JAWA TENGAH                   1995\n",
              "SUMATERA UTARA                2045\n",
              "DKI JAKARTA                   2096\n",
              "RIAU                          2205\n",
              "JAWA BARAT                    2328\n",
              "DAERAH ISTIMEWA YOGYAKARTA    2350\n",
              "KALIMANTAN TIMUR              2364\n",
              "Name: Daily_Case, dtype: int64"
            ]
          },
          "metadata": {},
          "execution_count": 166
        }
      ],
      "source": [
        "# Jumlah maksimal daily case setiap provinsi\n",
        "df_covid.groupby('Province').max()['Daily_Case'].sort_values()"
      ]
    },
    {
      "cell_type": "markdown",
      "metadata": {
        "id": "mVcZNNoMPVK4"
      },
      "source": [
        "### Daily Death"
      ]
    },
    {
      "cell_type": "code",
      "execution_count": 167,
      "metadata": {
        "colab": {
          "base_uri": "https://localhost:8080/"
        },
        "id": "NknDezdaPPxY",
        "outputId": "46b8520b-4240-46e7-c983-fbf3b4050a68"
      },
      "outputs": [
        {
          "output_type": "execute_result",
          "data": {
            "text/plain": [
              "0     8010\n",
              "1     2416\n",
              "2     1503\n",
              "3      967\n",
              "4      679\n",
              "      ... \n",
              "77       1\n",
              "80       1\n",
              "79       1\n",
              "67       1\n",
              "60       1\n",
              "Name: Daily_Death, Length: 88, dtype: int64"
            ]
          },
          "metadata": {},
          "execution_count": 167
        }
      ],
      "source": [
        "# unique value\n",
        "df_covid['Daily_Death'].value_counts()"
      ]
    },
    {
      "cell_type": "code",
      "execution_count": 168,
      "metadata": {
        "colab": {
          "base_uri": "https://localhost:8080/"
        },
        "id": "5Lu7Z21YPhEg",
        "outputId": "4b20489a-804b-46a9-98d6-0fc2c1c81a49"
      },
      "outputs": [
        {
          "output_type": "stream",
          "name": "stdout",
          "text": [
            "Rata-rata jumlah daily death : 3.0 kasus\n"
          ]
        }
      ],
      "source": [
        "# Rata-rata daily death\n",
        "print(f\"Rata-rata jumlah daily death : {df_covid['Daily_Death'].mean().round()} kasus\")"
      ]
    },
    {
      "cell_type": "code",
      "execution_count": 169,
      "metadata": {
        "colab": {
          "base_uri": "https://localhost:8080/"
        },
        "id": "OSHGZBZQPthN",
        "outputId": "e7ca80f8-6aac-4c2f-a642-b9f77c65b125"
      },
      "outputs": [
        {
          "output_type": "stream",
          "name": "stdout",
          "text": [
            "Catatan daily death terbanyak : 88 kasus\n"
          ]
        }
      ],
      "source": [
        "# Daily death terbanyak\n",
        "print(f\"Catatan daily death terbanyak : {df_covid['Daily_Death'].max()} kasus\")"
      ]
    },
    {
      "cell_type": "code",
      "execution_count": 170,
      "metadata": {
        "colab": {
          "base_uri": "https://localhost:8080/"
        },
        "id": "HuJMJPtNTO_K",
        "outputId": "f1c50ce6-a49e-4d3e-d905-3dfd1d3ca0f6"
      },
      "outputs": [
        {
          "output_type": "stream",
          "name": "stdout",
          "text": [
            "Jumlah data catatan dengan daily death terbanyak : 2 data\n"
          ]
        }
      ],
      "source": [
        "print(f\"Jumlah data catatan dengan daily death terbanyak : {len(df_covid[df_covid['Daily_Death'] == df_covid['Daily_Death'].max()]['Province'])} data\")"
      ]
    },
    {
      "cell_type": "code",
      "execution_count": 171,
      "metadata": {
        "colab": {
          "base_uri": "https://localhost:8080/"
        },
        "id": "piuCK8vgP-KW",
        "outputId": "287d50cf-a9e5-446e-864b-a4e20f3867be"
      },
      "outputs": [
        {
          "output_type": "stream",
          "name": "stdout",
          "text": [
            "Catatan daily death paling sedikit : 0 kasus\n"
          ]
        }
      ],
      "source": [
        "# Daily death paling sedikit\n",
        "print(f\"Catatan daily death paling sedikit : {df_covid['Daily_Death'].min()} kasus\")"
      ]
    },
    {
      "cell_type": "code",
      "execution_count": 172,
      "metadata": {
        "colab": {
          "base_uri": "https://localhost:8080/"
        },
        "id": "6evaNeXCQGTe",
        "outputId": "b4a27fad-6adc-43f8-8c33-3e87bd101d17"
      },
      "outputs": [
        {
          "output_type": "stream",
          "name": "stdout",
          "text": [
            "Jumlah data catatan dengan daily death paling sedikit : 8010 data\n"
          ]
        }
      ],
      "source": [
        "print(f\"Jumlah data catatan dengan daily death paling sedikit : {len(df_covid[df_covid['Daily_Death'] == df_covid['Daily_Death'].min()]['Province'])} data\")"
      ]
    },
    {
      "cell_type": "markdown",
      "metadata": {
        "id": "YVkH7p-5Ra3d"
      },
      "source": [
        "#### Daily death / date"
      ]
    },
    {
      "cell_type": "code",
      "execution_count": 173,
      "metadata": {
        "colab": {
          "base_uri": "https://localhost:8080/"
        },
        "id": "F6LJ67PdQXj1",
        "outputId": "dda23c79-33e8-4a74-c6f9-4f64b5661ba0"
      },
      "outputs": [
        {
          "output_type": "stream",
          "name": "stdout",
          "text": [
            "Date dengan catatan daily death terbanyak : \n",
            "1972    2021-01-14\n",
            "10956   2021-08-04\n",
            "Name: Date, dtype: datetime64[ns]\n"
          ]
        }
      ],
      "source": [
        "print(f\"Date dengan catatan daily death terbanyak : \")\n",
        "print(df_covid[df_covid['Daily_Death'] == df_covid['Daily_Death'].max()]['Date'])"
      ]
    },
    {
      "cell_type": "code",
      "execution_count": 174,
      "metadata": {
        "colab": {
          "base_uri": "https://localhost:8080/"
        },
        "id": "At07YptaQgXl",
        "outputId": "128c5495-d020-4a48-dd8d-4701f9e642b8"
      },
      "outputs": [
        {
          "output_type": "execute_result",
          "data": {
            "text/plain": [
              "Date\n",
              "2020-01-08      3\n",
              "2020-01-09      1\n",
              "2020-01-10      1\n",
              "2020-01-11      3\n",
              "2020-01-12      3\n",
              "             ... \n",
              "2021-08-16    547\n",
              "2021-08-17    462\n",
              "2021-08-18    512\n",
              "2021-08-19     30\n",
              "2021-08-20      1\n",
              "Name: Daily_Death, Length: 591, dtype: int64"
            ]
          },
          "metadata": {},
          "execution_count": 174
        }
      ],
      "source": [
        "# Total jumlah daily death pada setiap date\n",
        "df_covid.groupby('Date').sum()['Daily_Death']"
      ]
    },
    {
      "cell_type": "code",
      "execution_count": 175,
      "metadata": {
        "colab": {
          "base_uri": "https://localhost:8080/"
        },
        "id": "Z2ov-P_CQgZa",
        "outputId": "a63631cd-53af-43da-e757-e197e91aa652"
      },
      "outputs": [
        {
          "output_type": "execute_result",
          "data": {
            "text/plain": [
              "Date\n",
              "2020-01-08     3.0\n",
              "2020-01-09     1.0\n",
              "2020-01-10     1.0\n",
              "2020-01-11     3.0\n",
              "2020-01-12     3.0\n",
              "              ... \n",
              "2021-08-16    18.0\n",
              "2021-08-17    16.0\n",
              "2021-08-18    18.0\n",
              "2021-08-19     6.0\n",
              "2021-08-20     0.0\n",
              "Name: Daily_Death, Length: 591, dtype: float64"
            ]
          },
          "metadata": {},
          "execution_count": 175
        }
      ],
      "source": [
        "# Rata-rata jumlah daily death setiap Date\n",
        "df_covid.groupby('Date').mean()['Daily_Death'].round()"
      ]
    },
    {
      "cell_type": "code",
      "execution_count": 176,
      "metadata": {
        "colab": {
          "base_uri": "https://localhost:8080/"
        },
        "id": "argYl73cQx3r",
        "outputId": "889887f2-4226-483a-8044-94421681cdaf"
      },
      "outputs": [
        {
          "output_type": "execute_result",
          "data": {
            "text/plain": [
              "Date\n",
              "2020-01-08     3\n",
              "2020-01-09     1\n",
              "2020-01-10     1\n",
              "2020-01-11     3\n",
              "2020-01-12     3\n",
              "              ..\n",
              "2021-08-16    71\n",
              "2021-08-17    52\n",
              "2021-08-18    72\n",
              "2021-08-19    11\n",
              "2021-08-20     1\n",
              "Name: Daily_Death, Length: 591, dtype: int64"
            ]
          },
          "metadata": {},
          "execution_count": 176
        }
      ],
      "source": [
        "# Jumlah maksimal daily death setiap Date\n",
        "df_covid.groupby('Date').max()['Daily_Death']"
      ]
    },
    {
      "cell_type": "code",
      "execution_count": 177,
      "metadata": {
        "colab": {
          "base_uri": "https://localhost:8080/"
        },
        "id": "nisWHv7dQ6l3",
        "outputId": "35841306-687a-48e6-c942-d4189ec44e56"
      },
      "outputs": [
        {
          "output_type": "execute_result",
          "data": {
            "text/plain": [
              "Date\n",
              "2020-01-08    3\n",
              "2020-01-09    1\n",
              "2020-01-10    1\n",
              "2020-01-11    3\n",
              "2020-01-12    3\n",
              "             ..\n",
              "2021-08-16    0\n",
              "2021-08-17    0\n",
              "2021-08-18    0\n",
              "2021-08-19    2\n",
              "2021-08-20    0\n",
              "Name: Daily_Death, Length: 591, dtype: int64"
            ]
          },
          "metadata": {},
          "execution_count": 177
        }
      ],
      "source": [
        "# Jumlah minimal daily death case setiap Date\n",
        "df_covid.groupby('Date').min()['Daily_Death']"
      ]
    },
    {
      "cell_type": "markdown",
      "metadata": {
        "id": "tQ3OQjTuRhGf"
      },
      "source": [
        "#### Daily death / province"
      ]
    },
    {
      "cell_type": "code",
      "execution_count": 178,
      "metadata": {
        "colab": {
          "base_uri": "https://localhost:8080/"
        },
        "id": "xxdBM6pgRhRu",
        "outputId": "d22f0ff8-9928-45af-e10b-9492aad46edb"
      },
      "outputs": [
        {
          "output_type": "stream",
          "name": "stdout",
          "text": [
            "Provinsi dengan catatan daily death terbanyak : \n",
            "1972     JAWA TENGAH\n",
            "10956        LAMPUNG\n",
            "Name: Province, dtype: object\n"
          ]
        }
      ],
      "source": [
        "print(f\"Provinsi dengan catatan daily death terbanyak : \")\n",
        "print(df_covid[df_covid['Daily_Death'] == df_covid['Daily_Death'].max()]['Province'])"
      ]
    },
    {
      "cell_type": "code",
      "execution_count": 179,
      "metadata": {
        "colab": {
          "base_uri": "https://localhost:8080/"
        },
        "id": "jEhjnQHKR7U7",
        "outputId": "991b2228-51e6-44ae-b91d-b267f163825c"
      },
      "outputs": [
        {
          "output_type": "execute_result",
          "data": {
            "text/plain": [
              "Province\n",
              "SULAWESI BARAT                 239\n",
              "MALUKU                         242\n",
              "MALUKU UTARA                   274\n",
              "PAPUA BARAT                    325\n",
              "PAPUA                          345\n",
              "BENGKULU                       350\n",
              "GORONTALO                      352\n",
              "SULAWESI TENGGARA              451\n",
              "JAMBI                          591\n",
              "KALIMANTAN UTARA               595\n",
              "NUSA TENGGARA BARAT            650\n",
              "KALIMANTAN BARAT               707\n",
              "SULAWESI UTARA                 872\n",
              "KALIMANTAN TENGAH              969\n",
              "NUSA TENGGARA TIMUR            989\n",
              "KEPULAUAN BANGKA BELITUNG     1043\n",
              "SULAWESI TENGAH               1130\n",
              "ACEH                          1212\n",
              "KEPULAUAN RIAU                1506\n",
              "BANTEN                        1564\n",
              "JAWA BARAT                    1705\n",
              "SULAWESI SELATAN              1789\n",
              "SUMATERA BARAT                1841\n",
              "KALIMANTAN SELATAN            1878\n",
              "SUMATERA UTARA                2010\n",
              "LAMPUNG                       2235\n",
              "DAERAH ISTIMEWA YOGYAKARTA    2573\n",
              "BALI                          2602\n",
              "SUMATERA SELATAN              2657\n",
              "DKI JAKARTA                   3297\n",
              "RIAU                          3311\n",
              "JAWA TENGAH                   3993\n",
              "KALIMANTAN TIMUR              4199\n",
              "JAWA TIMUR                    6859\n",
              "Name: Daily_Death, dtype: int64"
            ]
          },
          "metadata": {},
          "execution_count": 179
        }
      ],
      "source": [
        "# Total jumlah daily death setiap provinsi\n",
        "df_covid.groupby('Province').sum()['Daily_Death'].sort_values()"
      ]
    },
    {
      "cell_type": "code",
      "execution_count": 180,
      "metadata": {
        "colab": {
          "base_uri": "https://localhost:8080/"
        },
        "id": "mpVReNu7SBxt",
        "outputId": "e3ebe786-80e0-4c65-efd5-721abc828ccf"
      },
      "outputs": [
        {
          "output_type": "execute_result",
          "data": {
            "text/plain": [
              "Province\n",
              "MALUKU                         0.0\n",
              "SULAWESI BARAT                 0.0\n",
              "MALUKU UTARA                   1.0\n",
              "PAPUA BARAT                    1.0\n",
              "PAPUA                          1.0\n",
              "BENGKULU                       1.0\n",
              "GORONTALO                      1.0\n",
              "SULAWESI TENGGARA              1.0\n",
              "JAMBI                          1.0\n",
              "KALIMANTAN UTARA               1.0\n",
              "NUSA TENGGARA BARAT            1.0\n",
              "KALIMANTAN BARAT               1.0\n",
              "SULAWESI UTARA                 2.0\n",
              "KALIMANTAN TENGAH              2.0\n",
              "NUSA TENGGARA TIMUR            2.0\n",
              "KEPULAUAN BANGKA BELITUNG      2.0\n",
              "SULAWESI TENGAH                2.0\n",
              "ACEH                           2.0\n",
              "KEPULAUAN RIAU                 3.0\n",
              "BANTEN                         3.0\n",
              "SULAWESI SELATAN               3.0\n",
              "SUMATERA BARAT                 4.0\n",
              "KALIMANTAN SELATAN             4.0\n",
              "SUMATERA UTARA                 4.0\n",
              "LAMPUNG                        4.0\n",
              "BALI                           5.0\n",
              "JAWA BARAT                     5.0\n",
              "SUMATERA SELATAN               5.0\n",
              "DAERAH ISTIMEWA YOGYAKARTA     5.0\n",
              "RIAU                           6.0\n",
              "KALIMANTAN TIMUR               8.0\n",
              "DKI JAKARTA                   11.0\n",
              "JAWA TENGAH                   13.0\n",
              "JAWA TIMUR                    19.0\n",
              "Name: Daily_Death, dtype: float64"
            ]
          },
          "metadata": {},
          "execution_count": 180
        }
      ],
      "source": [
        "# Rata-rata jumlah daily death setiap provinsi\n",
        "df_covid.groupby('Province').mean()['Daily_Death'].sort_values().round()"
      ]
    },
    {
      "cell_type": "code",
      "execution_count": 181,
      "metadata": {
        "colab": {
          "base_uri": "https://localhost:8080/"
        },
        "id": "EtiXdP6oSLB4",
        "outputId": "9769b5f9-7fa7-4d1a-8a3d-0568eacef762"
      },
      "outputs": [
        {
          "output_type": "execute_result",
          "data": {
            "text/plain": [
              "Province\n",
              "SULAWESI BARAT                 8\n",
              "MALUKU UTARA                  11\n",
              "MALUKU                        11\n",
              "SULAWESI TENGGARA             12\n",
              "PAPUA BARAT                   13\n",
              "GORONTALO                     16\n",
              "BENGKULU                      17\n",
              "NUSA TENGGARA BARAT           23\n",
              "PAPUA                         25\n",
              "JAMBI                         26\n",
              "KALIMANTAN UTARA              26\n",
              "SULAWESI UTARA                28\n",
              "ACEH                          30\n",
              "KEPULAUAN BANGKA BELITUNG     30\n",
              "SUMATERA BARAT                33\n",
              "SULAWESI SELATAN              35\n",
              "DKI JAKARTA                   36\n",
              "SULAWESI TENGAH               37\n",
              "NUSA TENGGARA TIMUR           43\n",
              "SUMATERA UTARA                49\n",
              "KALIMANTAN SELATAN            49\n",
              "KALIMANTAN BARAT              50\n",
              "RIAU                          56\n",
              "KEPULAUAN RIAU                62\n",
              "SUMATERA SELATAN              64\n",
              "BALI                          66\n",
              "KALIMANTAN TENGAH             70\n",
              "JAWA BARAT                    73\n",
              "JAWA TIMUR                    81\n",
              "BANTEN                        85\n",
              "DAERAH ISTIMEWA YOGYAKARTA    87\n",
              "KALIMANTAN TIMUR              87\n",
              "JAWA TENGAH                   88\n",
              "LAMPUNG                       88\n",
              "Name: Daily_Death, dtype: int64"
            ]
          },
          "metadata": {},
          "execution_count": 181
        }
      ],
      "source": [
        "# Jumlah maksimal daily death setiap provinsi\n",
        "df_covid.groupby('Province').max()['Daily_Death'].sort_values()"
      ]
    },
    {
      "cell_type": "markdown",
      "metadata": {
        "id": "gpEwkJD6SrFv"
      },
      "source": [
        "### Daily Recovered"
      ]
    },
    {
      "cell_type": "code",
      "execution_count": 182,
      "metadata": {
        "colab": {
          "base_uri": "https://localhost:8080/"
        },
        "id": "FurN3t-VS0EH",
        "outputId": "09428e1b-aaf6-4368-f55e-17edaa83b1d0"
      },
      "outputs": [
        {
          "output_type": "execute_result",
          "data": {
            "text/plain": [
              "0       3099\n",
              "1        735\n",
              "2        445\n",
              "3        425\n",
              "4        360\n",
              "        ... \n",
              "1122       1\n",
              "1407       1\n",
              "774        1\n",
              "407        1\n",
              "949        1\n",
              "Name: Daily_Recovered, Length: 978, dtype: int64"
            ]
          },
          "metadata": {},
          "execution_count": 182
        }
      ],
      "source": [
        "# unique value\n",
        "df_covid['Daily_Recovered'].value_counts()"
      ]
    },
    {
      "cell_type": "code",
      "execution_count": 183,
      "metadata": {
        "colab": {
          "base_uri": "https://localhost:8080/"
        },
        "id": "27uNpuitS6na",
        "outputId": "45ded5cc-6b21-4da2-c716-857864b2118b"
      },
      "outputs": [
        {
          "output_type": "stream",
          "name": "stdout",
          "text": [
            "Rata-rata jumlah daily recovered : 96.0 kasus\n"
          ]
        }
      ],
      "source": [
        "# Rata-rata daily recovered\n",
        "print(f\"Rata-rata jumlah daily recovered : {df_covid['Daily_Recovered'].mean().round()} kasus\")"
      ]
    },
    {
      "cell_type": "code",
      "execution_count": 184,
      "metadata": {
        "colab": {
          "base_uri": "https://localhost:8080/"
        },
        "id": "8ljpUZ4TTCai",
        "outputId": "5efcc31a-3e23-408c-cd73-c32ebf7b92b6"
      },
      "outputs": [
        {
          "output_type": "stream",
          "name": "stdout",
          "text": [
            "Catatan daily recovered terbanyak : 2305 kasus\n"
          ]
        }
      ],
      "source": [
        "# Daily recovered terbanyak\n",
        "print(f\"Catatan daily recovered terbanyak : {df_covid['Daily_Recovered'].max()} kasus\")"
      ]
    },
    {
      "cell_type": "code",
      "execution_count": 185,
      "metadata": {
        "colab": {
          "base_uri": "https://localhost:8080/"
        },
        "id": "pFDg8NjWTon7",
        "outputId": "ba5e758a-1d1b-4a4e-9e21-596cd7ac74c4"
      },
      "outputs": [
        {
          "output_type": "stream",
          "name": "stdout",
          "text": [
            "Jumlah data catatan dengan daily recovered terbanyak : 1 data\n"
          ]
        }
      ],
      "source": [
        "print(f\"Jumlah data catatan dengan daily recovered terbanyak : {len(df_covid[df_covid['Daily_Recovered'] == df_covid['Daily_Recovered'].max()]['Province'])} data\")"
      ]
    },
    {
      "cell_type": "code",
      "execution_count": 186,
      "metadata": {
        "colab": {
          "base_uri": "https://localhost:8080/"
        },
        "id": "s4-fpLUpTy24",
        "outputId": "b3dd8f14-04d7-4b56-a854-509d2f3f3691"
      },
      "outputs": [
        {
          "output_type": "stream",
          "name": "stdout",
          "text": [
            "Catatan daily death paling sedikit : 0 kasus\n"
          ]
        }
      ],
      "source": [
        "# Daily recovered paling sedikit\n",
        "print(f\"Catatan daily death paling sedikit : {df_covid['Daily_Recovered'].min()} kasus\")"
      ]
    },
    {
      "cell_type": "code",
      "execution_count": 187,
      "metadata": {
        "colab": {
          "base_uri": "https://localhost:8080/"
        },
        "id": "phKtwecBT5pI",
        "outputId": "7945096d-baf5-4829-c5d3-4dabf2d2a694"
      },
      "outputs": [
        {
          "output_type": "stream",
          "name": "stdout",
          "text": [
            "Jumlah data catatan dengan daily recovered paling sedikit : 3099 data\n"
          ]
        }
      ],
      "source": [
        "print(f\"Jumlah data catatan dengan daily recovered paling sedikit : {len(df_covid[df_covid['Daily_Recovered'] == df_covid['Daily_Recovered'].min()]['Province'])} data\")"
      ]
    },
    {
      "cell_type": "markdown",
      "metadata": {
        "id": "zcZKyuuDUCYO"
      },
      "source": [
        "#### Daily recovered / date"
      ]
    },
    {
      "cell_type": "code",
      "execution_count": 188,
      "metadata": {
        "colab": {
          "base_uri": "https://localhost:8080/"
        },
        "id": "kkkUoj0jUGcp",
        "outputId": "8cd22b58-16f5-42fe-8eeb-252a81afcdfd"
      },
      "outputs": [
        {
          "output_type": "stream",
          "name": "stdout",
          "text": [
            "Date dengan catatan daily recovered terbanyak : \n",
            "7345   2021-08-09\n",
            "Name: Date, dtype: datetime64[ns]\n"
          ]
        }
      ],
      "source": [
        "print(f\"Date dengan catatan daily recovered terbanyak : \")\n",
        "print(df_covid[df_covid['Daily_Recovered'] == df_covid['Daily_Recovered'].max()]['Date'])"
      ]
    },
    {
      "cell_type": "code",
      "execution_count": 189,
      "metadata": {
        "colab": {
          "base_uri": "https://localhost:8080/"
        },
        "id": "O7IKafTaUm_J",
        "outputId": "62ed7085-d4b1-47b8-8eab-db8963817673"
      },
      "outputs": [
        {
          "output_type": "execute_result",
          "data": {
            "text/plain": [
              "Date\n",
              "2020-01-08        1\n",
              "2020-01-09       23\n",
              "2020-01-10       14\n",
              "2020-01-11        8\n",
              "2020-01-12        1\n",
              "              ...  \n",
              "2021-08-16    16912\n",
              "2021-08-17    15426\n",
              "2021-08-18    14377\n",
              "2021-08-19      367\n",
              "2021-08-20        0\n",
              "Name: Daily_Recovered, Length: 591, dtype: int64"
            ]
          },
          "metadata": {},
          "execution_count": 189
        }
      ],
      "source": [
        "# Total jumlah daily recovered pada setiap date\n",
        "df_covid.groupby('Date').sum()['Daily_Recovered']"
      ]
    },
    {
      "cell_type": "code",
      "execution_count": 190,
      "metadata": {
        "colab": {
          "base_uri": "https://localhost:8080/"
        },
        "id": "KArcu9ldUtkR",
        "outputId": "03d1a445-fb4b-4ca8-fc27-3980c7898267"
      },
      "outputs": [
        {
          "output_type": "execute_result",
          "data": {
            "text/plain": [
              "Date\n",
              "2020-01-08      1.0\n",
              "2020-01-09     23.0\n",
              "2020-01-10     14.0\n",
              "2020-01-11      8.0\n",
              "2020-01-12      1.0\n",
              "              ...  \n",
              "2021-08-16    564.0\n",
              "2021-08-17    532.0\n",
              "2021-08-18    496.0\n",
              "2021-08-19     73.0\n",
              "2021-08-20      0.0\n",
              "Name: Daily_Recovered, Length: 591, dtype: float64"
            ]
          },
          "metadata": {},
          "execution_count": 190
        }
      ],
      "source": [
        "# Rata-rata jumlah daily recovered setiap Date\n",
        "df_covid.groupby('Date').mean()['Daily_Recovered'].round()"
      ]
    },
    {
      "cell_type": "code",
      "execution_count": 191,
      "metadata": {
        "colab": {
          "base_uri": "https://localhost:8080/"
        },
        "id": "lFRngTsgU0Kw",
        "outputId": "bc466e6a-2246-451b-833f-32cc0e96753b"
      },
      "outputs": [
        {
          "output_type": "execute_result",
          "data": {
            "text/plain": [
              "Date\n",
              "2020-01-08       1\n",
              "2020-01-09      23\n",
              "2020-01-10      14\n",
              "2020-01-11       8\n",
              "2020-01-12       1\n",
              "              ... \n",
              "2021-08-16    1892\n",
              "2021-08-17    1573\n",
              "2021-08-18    1656\n",
              "2021-08-19     171\n",
              "2021-08-20       0\n",
              "Name: Daily_Recovered, Length: 591, dtype: int64"
            ]
          },
          "metadata": {},
          "execution_count": 191
        }
      ],
      "source": [
        "# Jumlah maksimal daily recovered setiap Date\n",
        "df_covid.groupby('Date').max()['Daily_Recovered']"
      ]
    },
    {
      "cell_type": "code",
      "execution_count": 192,
      "metadata": {
        "colab": {
          "base_uri": "https://localhost:8080/"
        },
        "id": "rI2VzzehU8PS",
        "outputId": "2430813a-e5ea-4267-e574-811874656f64"
      },
      "outputs": [
        {
          "output_type": "execute_result",
          "data": {
            "text/plain": [
              "Date\n",
              "2020-01-08     1\n",
              "2020-01-09    23\n",
              "2020-01-10    14\n",
              "2020-01-11     8\n",
              "2020-01-12     1\n",
              "              ..\n",
              "2021-08-16    53\n",
              "2021-08-17    39\n",
              "2021-08-18    36\n",
              "2021-08-19     0\n",
              "2021-08-20     0\n",
              "Name: Daily_Recovered, Length: 591, dtype: int64"
            ]
          },
          "metadata": {},
          "execution_count": 192
        }
      ],
      "source": [
        "# Jumlah minimal daily recovered case setiap Date\n",
        "df_covid.groupby('Date').min()['Daily_Recovered']"
      ]
    },
    {
      "cell_type": "markdown",
      "metadata": {
        "id": "TYgzI97eVWED"
      },
      "source": [
        "#### Daily recovered / province"
      ]
    },
    {
      "cell_type": "code",
      "execution_count": 193,
      "metadata": {
        "colab": {
          "base_uri": "https://localhost:8080/"
        },
        "id": "9QEiHP6pVZ3k",
        "outputId": "900c330b-6698-4003-b261-ab4c7c64a5b4"
      },
      "outputs": [
        {
          "output_type": "stream",
          "name": "stdout",
          "text": [
            "Provinsi dengan catatan daily recovered terbanyak : \n",
            "7345    KALIMANTAN TIMUR\n",
            "Name: Province, dtype: object\n"
          ]
        }
      ],
      "source": [
        "print(f\"Provinsi dengan catatan daily recovered terbanyak : \")\n",
        "print(df_covid[df_covid['Daily_Recovered'] == df_covid['Daily_Recovered'].max()]['Province'])"
      ]
    },
    {
      "cell_type": "code",
      "execution_count": 194,
      "metadata": {
        "colab": {
          "base_uri": "https://localhost:8080/"
        },
        "id": "HxQLAJ55VjIN",
        "outputId": "609afee5-1cf5-4eda-c569-7b181b77d670"
      },
      "outputs": [
        {
          "output_type": "execute_result",
          "data": {
            "text/plain": [
              "Province\n",
              "GORONTALO                       8491\n",
              "SULAWESI BARAT                  8737\n",
              "MALUKU UTARA                    9722\n",
              "MALUKU                         11675\n",
              "PAPUA                          15017\n",
              "SULAWESI TENGGARA              15810\n",
              "BENGKULU                       17787\n",
              "PAPUA BARAT                    19577\n",
              "JAMBI                          20903\n",
              "KALIMANTAN UTARA               21432\n",
              "ACEH                           21521\n",
              "NUSA TENGGARA BARAT            21668\n",
              "SULAWESI UTARA                 23738\n",
              "SULAWESI TENGAH                25981\n",
              "KALIMANTAN BARAT               28515\n",
              "LAMPUNG                        30266\n",
              "KALIMANTAN TENGAH              31646\n",
              "KEPULAUAN BANGKA BELITUNG      36353\n",
              "NUSA TENGGARA TIMUR            42312\n",
              "SUMATERA SELATAN               45769\n",
              "KEPULAUAN RIAU                 46838\n",
              "KALIMANTAN SELATAN             47327\n",
              "SUMATERA UTARA                 54797\n",
              "BANTEN                         56743\n",
              "JAWA TENGAH                    62772\n",
              "DAERAH ISTIMEWA YOGYAKARTA     66969\n",
              "SUMATERA BARAT                 71065\n",
              "BALI                           76598\n",
              "JAWA TIMUR                     80675\n",
              "SULAWESI SELATAN               86120\n",
              "RIAU                          102773\n",
              "KALIMANTAN TIMUR              114728\n",
              "JAWA BARAT                    116492\n",
              "DKI JAKARTA                   166401\n",
              "Name: Daily_Recovered, dtype: int64"
            ]
          },
          "metadata": {},
          "execution_count": 194
        }
      ],
      "source": [
        "# Total jumlah daily recovered setiap provinsi\n",
        "df_covid.groupby('Province').sum()['Daily_Recovered'].sort_values()"
      ]
    },
    {
      "cell_type": "code",
      "execution_count": 195,
      "metadata": {
        "colab": {
          "base_uri": "https://localhost:8080/"
        },
        "id": "rY5ED2bvVs6l",
        "outputId": "265b7218-be39-4ec3-b644-ebcae46baafb"
      },
      "outputs": [
        {
          "output_type": "execute_result",
          "data": {
            "text/plain": [
              "Province\n",
              "GORONTALO                      17.0\n",
              "SULAWESI BARAT                 17.0\n",
              "MALUKU UTARA                   19.0\n",
              "MALUKU                         23.0\n",
              "PAPUA                          29.0\n",
              "SULAWESI TENGGARA              30.0\n",
              "BENGKULU                       35.0\n",
              "PAPUA BARAT                    38.0\n",
              "JAMBI                          40.0\n",
              "KALIMANTAN UTARA               42.0\n",
              "ACEH                           42.0\n",
              "NUSA TENGGARA BARAT            43.0\n",
              "SULAWESI UTARA                 46.0\n",
              "SULAWESI TENGAH                51.0\n",
              "KALIMANTAN BARAT               56.0\n",
              "LAMPUNG                        60.0\n",
              "KALIMANTAN TENGAH              62.0\n",
              "KEPULAUAN BANGKA BELITUNG      72.0\n",
              "NUSA TENGGARA TIMUR            85.0\n",
              "SUMATERA SELATAN               89.0\n",
              "KEPULAUAN RIAU                 90.0\n",
              "KALIMANTAN SELATAN             93.0\n",
              "SUMATERA UTARA                105.0\n",
              "BANTEN                        113.0\n",
              "DAERAH ISTIMEWA YOGYAKARTA    136.0\n",
              "SUMATERA BARAT                139.0\n",
              "BALI                          146.0\n",
              "SULAWESI SELATAN              166.0\n",
              "RIAU                          192.0\n",
              "JAWA TENGAH                   202.0\n",
              "JAWA TIMUR                    219.0\n",
              "KALIMANTAN TIMUR              221.0\n",
              "JAWA BARAT                    342.0\n",
              "DKI JAKARTA                   540.0\n",
              "Name: Daily_Recovered, dtype: float64"
            ]
          },
          "metadata": {},
          "execution_count": 195
        }
      ],
      "source": [
        "# Rata-rata jumlah daily recovered setiap provinsi\n",
        "df_covid.groupby('Province').mean()['Daily_Recovered'].sort_values().round()"
      ]
    },
    {
      "cell_type": "code",
      "execution_count": 196,
      "metadata": {
        "colab": {
          "base_uri": "https://localhost:8080/"
        },
        "id": "xqjxTCeqVy8l",
        "outputId": "7005147c-500c-4ff9-aa87-3bd52e3c9a5a"
      },
      "outputs": [
        {
          "output_type": "execute_result",
          "data": {
            "text/plain": [
              "Province\n",
              "GORONTALO                      232\n",
              "MALUKU                         262\n",
              "SULAWESI BARAT                 328\n",
              "SULAWESI TENGGARA              340\n",
              "PAPUA                          428\n",
              "MALUKU UTARA                   458\n",
              "SULAWESI UTARA                 465\n",
              "BENGKULU                       480\n",
              "KALIMANTAN BARAT               606\n",
              "NUSA TENGGARA BARAT            618\n",
              "KEPULAUAN BANGKA BELITUNG      682\n",
              "KALIMANTAN TENGAH              685\n",
              "PAPUA BARAT                    733\n",
              "JAMBI                          788\n",
              "JAWA TIMUR                     906\n",
              "LAMPUNG                        910\n",
              "KALIMANTAN UTARA               923\n",
              "SULAWESI TENGAH                952\n",
              "SUMATERA SELATAN               960\n",
              "ACEH                          1033\n",
              "KALIMANTAN SELATAN            1129\n",
              "SUMATERA BARAT                1300\n",
              "JAWA TENGAH                   1327\n",
              "KEPULAUAN RIAU                1379\n",
              "DAERAH ISTIMEWA YOGYAKARTA    1460\n",
              "SUMATERA UTARA                1502\n",
              "BANTEN                        1510\n",
              "NUSA TENGGARA TIMUR           1514\n",
              "SULAWESI SELATAN              1761\n",
              "RIAU                          2018\n",
              "JAWA BARAT                    2115\n",
              "BALI                          2124\n",
              "DKI JAKARTA                   2280\n",
              "KALIMANTAN TIMUR              2305\n",
              "Name: Daily_Recovered, dtype: int64"
            ]
          },
          "metadata": {},
          "execution_count": 196
        }
      ],
      "source": [
        "# Jumlah maksimal daily recovered setiap provinsi\n",
        "df_covid.groupby('Province').max()['Daily_Recovered'].sort_values()"
      ]
    },
    {
      "cell_type": "markdown",
      "metadata": {
        "id": "vpIPBaFWWoGZ"
      },
      "source": [
        "### Active Case"
      ]
    },
    {
      "cell_type": "code",
      "execution_count": 197,
      "metadata": {
        "colab": {
          "base_uri": "https://localhost:8080/"
        },
        "id": "GKWlyXKaWq5o",
        "outputId": "ba4d583f-a5d9-416b-b156-e2fe9ed95f24"
      },
      "outputs": [
        {
          "output_type": "execute_result",
          "data": {
            "text/plain": [
              " 0       1693\n",
              " 1        535\n",
              "-1        478\n",
              " 2        406\n",
              " 3        322\n",
              "         ... \n",
              " 1036       1\n",
              " 576        1\n",
              "-301        1\n",
              " 782        1\n",
              "-549        1\n",
              "Name: Active_Case, Length: 1029, dtype: int64"
            ]
          },
          "metadata": {},
          "execution_count": 197
        }
      ],
      "source": [
        "# unique value\n",
        "df_covid['Active_Case'].value_counts()"
      ]
    },
    {
      "cell_type": "code",
      "execution_count": 198,
      "metadata": {
        "colab": {
          "base_uri": "https://localhost:8080/"
        },
        "id": "0uLQjFmzW7ca",
        "outputId": "8d94c3e5-9a76-4348-ffee-f8def532c08d"
      },
      "outputs": [
        {
          "output_type": "stream",
          "name": "stdout",
          "text": [
            "Rata-rata jumlah active case : 18.0 kasus\n"
          ]
        }
      ],
      "source": [
        "# Rata-rata active case\n",
        "print(f\"Rata-rata jumlah active case : {df_covid['Active_Case'].mean().round()} kasus\")"
      ]
    },
    {
      "cell_type": "code",
      "execution_count": 199,
      "metadata": {
        "colab": {
          "base_uri": "https://localhost:8080/"
        },
        "id": "it4NyYAuXJGj",
        "outputId": "6a5bbf48-08be-4b39-add4-f27b7e69af36"
      },
      "outputs": [
        {
          "output_type": "stream",
          "name": "stdout",
          "text": [
            "Catatan Active case terbanyak : 1292 kasus\n"
          ]
        }
      ],
      "source": [
        "# Active case terbanyak\n",
        "print(f\"Catatan Active case terbanyak : {df_covid['Active_Case'].max()} kasus\")"
      ]
    },
    {
      "cell_type": "code",
      "execution_count": 200,
      "metadata": {
        "colab": {
          "base_uri": "https://localhost:8080/"
        },
        "id": "2idvIfdKh_Fb",
        "outputId": "115dfd96-fd40-49b2-8eb9-d65de78427dd"
      },
      "outputs": [
        {
          "output_type": "stream",
          "name": "stdout",
          "text": [
            "Jumlah data catatan dengan active case terbanyak : 1 data\n"
          ]
        }
      ],
      "source": [
        "print(f\"Jumlah data catatan dengan active case terbanyak : {len(df_covid[df_covid['Active_Case'] == df_covid['Active_Case'].max()]['Province'])} data\")"
      ]
    },
    {
      "cell_type": "markdown",
      "metadata": {
        "id": "T0AcZQf2igKa"
      },
      "source": [
        "#### Active case / date"
      ]
    },
    {
      "cell_type": "code",
      "execution_count": 201,
      "metadata": {
        "colab": {
          "base_uri": "https://localhost:8080/"
        },
        "id": "D3Snv2CyikIZ",
        "outputId": "4efd79bb-2f69-4857-b95d-da7adfec72be"
      },
      "outputs": [
        {
          "output_type": "stream",
          "name": "stdout",
          "text": [
            "Date dengan catatan active case terbanyak : \n",
            "8366   2021-07-18\n",
            "Name: Date, dtype: datetime64[ns]\n"
          ]
        }
      ],
      "source": [
        "print(f\"Date dengan catatan active case terbanyak : \")\n",
        "print(df_covid[df_covid['Active_Case'] == df_covid['Active_Case'].max()]['Date'])"
      ]
    },
    {
      "cell_type": "code",
      "execution_count": 202,
      "metadata": {
        "colab": {
          "base_uri": "https://localhost:8080/"
        },
        "id": "zfi3IWZhiwyR",
        "outputId": "85e6a857-519c-43e2-b128-063d85dc6c00"
      },
      "outputs": [
        {
          "output_type": "execute_result",
          "data": {
            "text/plain": [
              "Date\n",
              "2020-01-08       5\n",
              "2020-01-09     -24\n",
              "2020-01-10     -15\n",
              "2020-01-11     -11\n",
              "2020-01-12      -4\n",
              "              ... \n",
              "2021-08-16   -8045\n",
              "2021-08-17   -4164\n",
              "2021-08-18   -6732\n",
              "2021-08-19    -396\n",
              "2021-08-20       5\n",
              "Name: Active_Case, Length: 591, dtype: int64"
            ]
          },
          "metadata": {},
          "execution_count": 202
        }
      ],
      "source": [
        "# Total jumlah active case pada setiap date\n",
        "df_covid.groupby('Date').sum()['Active_Case']"
      ]
    },
    {
      "cell_type": "code",
      "execution_count": 203,
      "metadata": {
        "colab": {
          "base_uri": "https://localhost:8080/"
        },
        "id": "UpRxVQ4Ci4-l",
        "outputId": "01d0bc03-4692-4be9-e83e-ed415b525619"
      },
      "outputs": [
        {
          "output_type": "execute_result",
          "data": {
            "text/plain": [
              "Date\n",
              "2020-01-08      5.0\n",
              "2020-01-09    -24.0\n",
              "2020-01-10    -15.0\n",
              "2020-01-11    -11.0\n",
              "2020-01-12     -4.0\n",
              "              ...  \n",
              "2021-08-16   -268.0\n",
              "2021-08-17   -144.0\n",
              "2021-08-18   -232.0\n",
              "2021-08-19    -79.0\n",
              "2021-08-20      1.0\n",
              "Name: Active_Case, Length: 591, dtype: float64"
            ]
          },
          "metadata": {},
          "execution_count": 203
        }
      ],
      "source": [
        "# Rata-rata jumlah active case setiap Date\n",
        "df_covid.groupby('Date').mean()['Active_Case'].round()"
      ]
    },
    {
      "cell_type": "code",
      "execution_count": 204,
      "metadata": {
        "colab": {
          "base_uri": "https://localhost:8080/"
        },
        "id": "ZxM4l9hli_3S",
        "outputId": "063d141b-3497-4b2d-caf6-b0df77416d5e"
      },
      "outputs": [
        {
          "output_type": "execute_result",
          "data": {
            "text/plain": [
              "Date\n",
              "2020-01-08      5\n",
              "2020-01-09    -24\n",
              "2020-01-10    -15\n",
              "2020-01-11    -11\n",
              "2020-01-12     -4\n",
              "             ... \n",
              "2021-08-16    178\n",
              "2021-08-17    416\n",
              "2021-08-18    197\n",
              "2021-08-19     -1\n",
              "2021-08-20      2\n",
              "Name: Active_Case, Length: 591, dtype: int64"
            ]
          },
          "metadata": {},
          "execution_count": 204
        }
      ],
      "source": [
        "# Jumlah maksimal active case setiap Date\n",
        "df_covid.groupby('Date').max()['Active_Case']"
      ]
    },
    {
      "cell_type": "code",
      "execution_count": 205,
      "metadata": {
        "colab": {
          "base_uri": "https://localhost:8080/"
        },
        "id": "xupsRtt2jN9A",
        "outputId": "0b80cc91-95dc-4abd-d386-ee65573f7301"
      },
      "outputs": [
        {
          "output_type": "execute_result",
          "data": {
            "text/plain": [
              "Date\n",
              "2020-01-08       5\n",
              "2020-01-09     -24\n",
              "2020-01-10     -15\n",
              "2020-01-11     -11\n",
              "2020-01-12      -4\n",
              "              ... \n",
              "2021-08-16   -1330\n",
              "2021-08-17    -932\n",
              "2021-08-18   -1090\n",
              "2021-08-19    -182\n",
              "2021-08-20       0\n",
              "Name: Active_Case, Length: 591, dtype: int64"
            ]
          },
          "metadata": {},
          "execution_count": 205
        }
      ],
      "source": [
        "# Jumlah minimal daily active case setiap Date\n",
        "df_covid.groupby('Date').min()['Active_Case']"
      ]
    },
    {
      "cell_type": "markdown",
      "metadata": {
        "id": "pO0Pq7ohjVX6"
      },
      "source": [
        "#### Active case / province"
      ]
    },
    {
      "cell_type": "code",
      "execution_count": 206,
      "metadata": {
        "colab": {
          "base_uri": "https://localhost:8080/"
        },
        "id": "mG6-PPJfjokY",
        "outputId": "0bc7edeb-57a0-4609-f045-3b95c2e73eb4"
      },
      "outputs": [
        {
          "output_type": "stream",
          "name": "stdout",
          "text": [
            "Provinsi dengan catatan active case terbanyak : \n",
            "8366    DAERAH ISTIMEWA YOGYAKARTA\n",
            "Name: Province, dtype: object\n"
          ]
        }
      ],
      "source": [
        "print(f\"Provinsi dengan catatan active case terbanyak : \")\n",
        "print(df_covid[df_covid['Active_Case'] == df_covid['Active_Case'].max()]['Province'])"
      ]
    },
    {
      "cell_type": "code",
      "execution_count": 207,
      "metadata": {
        "colab": {
          "base_uri": "https://localhost:8080/"
        },
        "id": "AmNtV9vTj11R",
        "outputId": "fcb32256-3a4c-48b2-b830-38ea878cb57d"
      },
      "outputs": [
        {
          "output_type": "execute_result",
          "data": {
            "text/plain": [
              "Province\n",
              "MALUKU UTARA                   1288\n",
              "NUSA TENGGARA BARAT            1536\n",
              "GORONTALO                      1619\n",
              "PAPUA BARAT                    1769\n",
              "SULAWESI BARAT                 1770\n",
              "MALUKU                         2249\n",
              "KEPULAUAN RIAU                 2368\n",
              "SULAWESI TENGGARA              2585\n",
              "KALIMANTAN BARAT               3290\n",
              "BENGKULU                       3437\n",
              "JAMBI                          4233\n",
              "JAWA TIMUR                     4681\n",
              "KEPULAUAN BANGKA BELITUNG      5399\n",
              "SULAWESI UTARA                 5616\n",
              "ACEH                           5814\n",
              "KALIMANTAN UTARA               6849\n",
              "NUSA TENGGARA TIMUR            6880\n",
              "SUMATERA SELATAN               7119\n",
              "BANTEN                         7205\n",
              "KALIMANTAN TENGAH              7548\n",
              "LAMPUNG                        7673\n",
              "RIAU                           8612\n",
              "SULAWESI TENGAH                9806\n",
              "SUMATERA BARAT                 9832\n",
              "SULAWESI SELATAN              10988\n",
              "KALIMANTAN SELATAN            11171\n",
              "JAWA BARAT                    13428\n",
              "PAPUA                         13448\n",
              "KALIMANTAN TIMUR              14944\n",
              "DKI JAKARTA                   18088\n",
              "BALI                          19365\n",
              "DAERAH ISTIMEWA YOGYAKARTA    23516\n",
              "SUMATERA UTARA                27466\n",
              "JAWA TENGAH                   29975\n",
              "Name: Active_Case, dtype: int64"
            ]
          },
          "metadata": {},
          "execution_count": 207
        }
      ],
      "source": [
        "# Total jumlah active case setiap provinsi\n",
        "df_covid.groupby('Province').sum()['Active_Case'].sort_values()"
      ]
    },
    {
      "cell_type": "code",
      "execution_count": 208,
      "metadata": {
        "colab": {
          "base_uri": "https://localhost:8080/"
        },
        "id": "ZqPsY33Rj_uC",
        "outputId": "b0a49c3d-e447-416e-99ad-48f4f3a58479"
      },
      "outputs": [
        {
          "output_type": "execute_result",
          "data": {
            "text/plain": [
              "Province\n",
              "MALUKU UTARA                   3.0\n",
              "NUSA TENGGARA BARAT            3.0\n",
              "GORONTALO                      3.0\n",
              "PAPUA BARAT                    3.0\n",
              "SULAWESI BARAT                 3.0\n",
              "MALUKU                         4.0\n",
              "KEPULAUAN RIAU                 5.0\n",
              "SULAWESI TENGGARA              5.0\n",
              "KALIMANTAN BARAT               6.0\n",
              "BENGKULU                       7.0\n",
              "JAMBI                          8.0\n",
              "KEPULAUAN BANGKA BELITUNG     11.0\n",
              "SULAWESI UTARA                11.0\n",
              "ACEH                          11.0\n",
              "JAWA TIMUR                    13.0\n",
              "KALIMANTAN UTARA              13.0\n",
              "SUMATERA SELATAN              14.0\n",
              "NUSA TENGGARA TIMUR           14.0\n",
              "BANTEN                        14.0\n",
              "KALIMANTAN TENGAH             15.0\n",
              "LAMPUNG                       15.0\n",
              "RIAU                          16.0\n",
              "SULAWESI TENGAH               19.0\n",
              "SUMATERA BARAT                19.0\n",
              "SULAWESI SELATAN              21.0\n",
              "KALIMANTAN SELATAN            22.0\n",
              "PAPUA                         26.0\n",
              "KALIMANTAN TIMUR              29.0\n",
              "BALI                          37.0\n",
              "JAWA BARAT                    39.0\n",
              "DAERAH ISTIMEWA YOGYAKARTA    48.0\n",
              "SUMATERA UTARA                53.0\n",
              "DKI JAKARTA                   59.0\n",
              "JAWA TENGAH                   97.0\n",
              "Name: Active_Case, dtype: float64"
            ]
          },
          "metadata": {},
          "execution_count": 208
        }
      ],
      "source": [
        "# Rata-rata jumlah active case setiap provinsi\n",
        "df_covid.groupby('Province').mean()['Active_Case'].sort_values().round()"
      ]
    },
    {
      "cell_type": "code",
      "execution_count": 209,
      "metadata": {
        "colab": {
          "base_uri": "https://localhost:8080/"
        },
        "id": "GI-Umey9kHDy",
        "outputId": "056719ca-ae97-43b9-d467-ea8aad4b9bc6"
      },
      "outputs": [
        {
          "output_type": "execute_result",
          "data": {
            "text/plain": [
              "Province\n",
              "GORONTALO                      169\n",
              "SULAWESI TENGGARA              217\n",
              "SULAWESI BARAT                 233\n",
              "MALUKU UTARA                   235\n",
              "BENGKULU                       261\n",
              "ACEH                           277\n",
              "MALUKU                         327\n",
              "PAPUA                          356\n",
              "KALIMANTAN TENGAH              370\n",
              "KEPULAUAN BANGKA BELITUNG      379\n",
              "KALIMANTAN UTARA               396\n",
              "JAWA TIMUR                     404\n",
              "PAPUA BARAT                    407\n",
              "JAMBI                          423\n",
              "NUSA TENGGARA BARAT            449\n",
              "SULAWESI UTARA                 496\n",
              "LAMPUNG                        511\n",
              "SUMATERA BARAT                 658\n",
              "KEPULAUAN RIAU                 663\n",
              "BALI                           690\n",
              "SUMATERA SELATAN               727\n",
              "BANTEN                         745\n",
              "KALIMANTAN SELATAN             756\n",
              "KALIMANTAN BARAT               777\n",
              "SULAWESI SELATAN               787\n",
              "JAWA BARAT                     932\n",
              "NUSA TENGGARA TIMUR           1071\n",
              "SULAWESI TENGAH               1146\n",
              "SUMATERA UTARA                1166\n",
              "KALIMANTAN TIMUR              1176\n",
              "JAWA TENGAH                   1196\n",
              "RIAU                          1204\n",
              "DKI JAKARTA                   1239\n",
              "DAERAH ISTIMEWA YOGYAKARTA    1292\n",
              "Name: Active_Case, dtype: int64"
            ]
          },
          "metadata": {},
          "execution_count": 209
        }
      ],
      "source": [
        "# Jumlah maksimal active setiap provinsi\n",
        "df_covid.groupby('Province').max()['Active_Case'].sort_values()"
      ]
    },
    {
      "cell_type": "markdown",
      "metadata": {
        "id": "GWbmxPXIkQrj"
      },
      "source": [
        "### Cumulative"
      ]
    },
    {
      "cell_type": "markdown",
      "metadata": {
        "id": "9vPXcjNclak5"
      },
      "source": [
        "#### Case"
      ]
    },
    {
      "cell_type": "code",
      "execution_count": 210,
      "metadata": {
        "colab": {
          "base_uri": "https://localhost:8080/"
        },
        "id": "k33WtCL6l18R",
        "outputId": "af75e0e5-2fb1-43b0-ba7f-9cca37aed779"
      },
      "outputs": [
        {
          "output_type": "execute_result",
          "data": {
            "text/plain": [
              "Date\n",
              "2020-01-08         9\n",
              "2020-01-09         9\n",
              "2020-01-10         9\n",
              "2020-01-11         9\n",
              "2020-01-12         9\n",
              "               ...  \n",
              "2021-08-16    140873\n",
              "2021-08-17    141796\n",
              "2021-08-18    142434\n",
              "2021-08-19    125475\n",
              "2021-08-20    125476\n",
              "Name: Cumulative_Case, Length: 591, dtype: int64"
            ]
          },
          "metadata": {},
          "execution_count": 210
        }
      ],
      "source": [
        "# Jumlah kumulatif case tertinggi setiap date\n",
        "df_covid.groupby('Date').max()['Cumulative_Case']"
      ]
    },
    {
      "cell_type": "code",
      "execution_count": 211,
      "metadata": {
        "colab": {
          "base_uri": "https://localhost:8080/"
        },
        "id": "5AqZ1NDxWbpN",
        "outputId": "178ab5b9-276c-4a9c-e625-9b6da34db5ed"
      },
      "outputs": [
        {
          "output_type": "execute_result",
          "data": {
            "text/plain": [
              "Date\n",
              "2020-01-08          9\n",
              "2020-01-09          9\n",
              "2020-01-10          9\n",
              "2020-01-11          9\n",
              "2020-01-12          9\n",
              "               ...   \n",
              "2021-08-16    1563124\n",
              "2021-08-17    1435690\n",
              "2021-08-18    1443847\n",
              "2021-08-19     334090\n",
              "2021-08-20     322812\n",
              "Name: Cumulative_Case, Length: 591, dtype: int64"
            ]
          },
          "metadata": {},
          "execution_count": 211
        }
      ],
      "source": [
        "# total kumulatif case setiap date\n",
        "df_covid.groupby('Date').sum()['Cumulative_Case']"
      ]
    },
    {
      "cell_type": "code",
      "execution_count": 212,
      "metadata": {
        "colab": {
          "base_uri": "https://localhost:8080/",
          "height": 748
        },
        "id": "aiqctEgiX0KZ",
        "outputId": "b6afd002-f60b-4ed7-dd90-8f3272deca2c"
      },
      "outputs": [
        {
          "output_type": "execute_result",
          "data": {
            "text/plain": [
              "            Date             Province  Daily_Case  Daily_Death  \\\n",
              "0     2020-03-01          DKI JAKARTA           2            0   \n",
              "1     2020-03-02          DKI JAKARTA           2            0   \n",
              "2     2020-03-03          DKI JAKARTA           2            0   \n",
              "3     2020-03-04          DKI JAKARTA           2            0   \n",
              "4     2020-03-05          DKI JAKARTA           0            1   \n",
              "...          ...                  ...         ...          ...   \n",
              "17608 2021-08-14  NUSA TENGGARA TIMUR         649           21   \n",
              "17609 2021-08-15  NUSA TENGGARA TIMUR         498            7   \n",
              "17610 2021-08-16  NUSA TENGGARA TIMUR         438           18   \n",
              "17611 2021-08-17  NUSA TENGGARA TIMUR         657           15   \n",
              "17612 2021-08-18  NUSA TENGGARA TIMUR         527            8   \n",
              "\n",
              "       Daily_Recovered  Active_Case  Cumulative_Case  Cumulative_Recovered  \\\n",
              "0                    0            2                2                     0   \n",
              "1                    0            2                4                     0   \n",
              "2                    0            2                6                     0   \n",
              "3                    0            2                8                     0   \n",
              "4                    0           -1                8                     0   \n",
              "...                ...          ...              ...                   ...   \n",
              "17608              892         -264            52686                 42250   \n",
              "17609             1421         -930            53184                 43671   \n",
              "17610              969         -549            53622                 44640   \n",
              "17611              633            9            54279                 45273   \n",
              "17612              949         -430            54806                 46222   \n",
              "\n",
              "       Cumulative_Death  Cumulative_Active_Case  \n",
              "0                     0                       2  \n",
              "1                     0                       4  \n",
              "2                     0                       6  \n",
              "3                     0                       8  \n",
              "4                     1                       7  \n",
              "...                 ...                     ...  \n",
              "17608              1016                    9420  \n",
              "17609              1023                    8490  \n",
              "17610              1041                    7941  \n",
              "17611              1056                    7950  \n",
              "17612              1064                    7520  \n",
              "\n",
              "[16675 rows x 10 columns]"
            ],
            "text/html": [
              "\n",
              "  <div id=\"df-4f9b9fab-75dc-4297-b91a-22d184f5c1f4\">\n",
              "    <div class=\"colab-df-container\">\n",
              "      <div>\n",
              "<style scoped>\n",
              "    .dataframe tbody tr th:only-of-type {\n",
              "        vertical-align: middle;\n",
              "    }\n",
              "\n",
              "    .dataframe tbody tr th {\n",
              "        vertical-align: top;\n",
              "    }\n",
              "\n",
              "    .dataframe thead th {\n",
              "        text-align: right;\n",
              "    }\n",
              "</style>\n",
              "<table border=\"1\" class=\"dataframe\">\n",
              "  <thead>\n",
              "    <tr style=\"text-align: right;\">\n",
              "      <th></th>\n",
              "      <th>Date</th>\n",
              "      <th>Province</th>\n",
              "      <th>Daily_Case</th>\n",
              "      <th>Daily_Death</th>\n",
              "      <th>Daily_Recovered</th>\n",
              "      <th>Active_Case</th>\n",
              "      <th>Cumulative_Case</th>\n",
              "      <th>Cumulative_Recovered</th>\n",
              "      <th>Cumulative_Death</th>\n",
              "      <th>Cumulative_Active_Case</th>\n",
              "    </tr>\n",
              "  </thead>\n",
              "  <tbody>\n",
              "    <tr>\n",
              "      <th>0</th>\n",
              "      <td>2020-03-01</td>\n",
              "      <td>DKI JAKARTA</td>\n",
              "      <td>2</td>\n",
              "      <td>0</td>\n",
              "      <td>0</td>\n",
              "      <td>2</td>\n",
              "      <td>2</td>\n",
              "      <td>0</td>\n",
              "      <td>0</td>\n",
              "      <td>2</td>\n",
              "    </tr>\n",
              "    <tr>\n",
              "      <th>1</th>\n",
              "      <td>2020-03-02</td>\n",
              "      <td>DKI JAKARTA</td>\n",
              "      <td>2</td>\n",
              "      <td>0</td>\n",
              "      <td>0</td>\n",
              "      <td>2</td>\n",
              "      <td>4</td>\n",
              "      <td>0</td>\n",
              "      <td>0</td>\n",
              "      <td>4</td>\n",
              "    </tr>\n",
              "    <tr>\n",
              "      <th>2</th>\n",
              "      <td>2020-03-03</td>\n",
              "      <td>DKI JAKARTA</td>\n",
              "      <td>2</td>\n",
              "      <td>0</td>\n",
              "      <td>0</td>\n",
              "      <td>2</td>\n",
              "      <td>6</td>\n",
              "      <td>0</td>\n",
              "      <td>0</td>\n",
              "      <td>6</td>\n",
              "    </tr>\n",
              "    <tr>\n",
              "      <th>3</th>\n",
              "      <td>2020-03-04</td>\n",
              "      <td>DKI JAKARTA</td>\n",
              "      <td>2</td>\n",
              "      <td>0</td>\n",
              "      <td>0</td>\n",
              "      <td>2</td>\n",
              "      <td>8</td>\n",
              "      <td>0</td>\n",
              "      <td>0</td>\n",
              "      <td>8</td>\n",
              "    </tr>\n",
              "    <tr>\n",
              "      <th>4</th>\n",
              "      <td>2020-03-05</td>\n",
              "      <td>DKI JAKARTA</td>\n",
              "      <td>0</td>\n",
              "      <td>1</td>\n",
              "      <td>0</td>\n",
              "      <td>-1</td>\n",
              "      <td>8</td>\n",
              "      <td>0</td>\n",
              "      <td>1</td>\n",
              "      <td>7</td>\n",
              "    </tr>\n",
              "    <tr>\n",
              "      <th>...</th>\n",
              "      <td>...</td>\n",
              "      <td>...</td>\n",
              "      <td>...</td>\n",
              "      <td>...</td>\n",
              "      <td>...</td>\n",
              "      <td>...</td>\n",
              "      <td>...</td>\n",
              "      <td>...</td>\n",
              "      <td>...</td>\n",
              "      <td>...</td>\n",
              "    </tr>\n",
              "    <tr>\n",
              "      <th>17608</th>\n",
              "      <td>2021-08-14</td>\n",
              "      <td>NUSA TENGGARA TIMUR</td>\n",
              "      <td>649</td>\n",
              "      <td>21</td>\n",
              "      <td>892</td>\n",
              "      <td>-264</td>\n",
              "      <td>52686</td>\n",
              "      <td>42250</td>\n",
              "      <td>1016</td>\n",
              "      <td>9420</td>\n",
              "    </tr>\n",
              "    <tr>\n",
              "      <th>17609</th>\n",
              "      <td>2021-08-15</td>\n",
              "      <td>NUSA TENGGARA TIMUR</td>\n",
              "      <td>498</td>\n",
              "      <td>7</td>\n",
              "      <td>1421</td>\n",
              "      <td>-930</td>\n",
              "      <td>53184</td>\n",
              "      <td>43671</td>\n",
              "      <td>1023</td>\n",
              "      <td>8490</td>\n",
              "    </tr>\n",
              "    <tr>\n",
              "      <th>17610</th>\n",
              "      <td>2021-08-16</td>\n",
              "      <td>NUSA TENGGARA TIMUR</td>\n",
              "      <td>438</td>\n",
              "      <td>18</td>\n",
              "      <td>969</td>\n",
              "      <td>-549</td>\n",
              "      <td>53622</td>\n",
              "      <td>44640</td>\n",
              "      <td>1041</td>\n",
              "      <td>7941</td>\n",
              "    </tr>\n",
              "    <tr>\n",
              "      <th>17611</th>\n",
              "      <td>2021-08-17</td>\n",
              "      <td>NUSA TENGGARA TIMUR</td>\n",
              "      <td>657</td>\n",
              "      <td>15</td>\n",
              "      <td>633</td>\n",
              "      <td>9</td>\n",
              "      <td>54279</td>\n",
              "      <td>45273</td>\n",
              "      <td>1056</td>\n",
              "      <td>7950</td>\n",
              "    </tr>\n",
              "    <tr>\n",
              "      <th>17612</th>\n",
              "      <td>2021-08-18</td>\n",
              "      <td>NUSA TENGGARA TIMUR</td>\n",
              "      <td>527</td>\n",
              "      <td>8</td>\n",
              "      <td>949</td>\n",
              "      <td>-430</td>\n",
              "      <td>54806</td>\n",
              "      <td>46222</td>\n",
              "      <td>1064</td>\n",
              "      <td>7520</td>\n",
              "    </tr>\n",
              "  </tbody>\n",
              "</table>\n",
              "<p>16675 rows × 10 columns</p>\n",
              "</div>\n",
              "      <button class=\"colab-df-convert\" onclick=\"convertToInteractive('df-4f9b9fab-75dc-4297-b91a-22d184f5c1f4')\"\n",
              "              title=\"Convert this dataframe to an interactive table.\"\n",
              "              style=\"display:none;\">\n",
              "        \n",
              "  <svg xmlns=\"http://www.w3.org/2000/svg\" height=\"24px\"viewBox=\"0 0 24 24\"\n",
              "       width=\"24px\">\n",
              "    <path d=\"M0 0h24v24H0V0z\" fill=\"none\"/>\n",
              "    <path d=\"M18.56 5.44l.94 2.06.94-2.06 2.06-.94-2.06-.94-.94-2.06-.94 2.06-2.06.94zm-11 1L8.5 8.5l.94-2.06 2.06-.94-2.06-.94L8.5 2.5l-.94 2.06-2.06.94zm10 10l.94 2.06.94-2.06 2.06-.94-2.06-.94-.94-2.06-.94 2.06-2.06.94z\"/><path d=\"M17.41 7.96l-1.37-1.37c-.4-.4-.92-.59-1.43-.59-.52 0-1.04.2-1.43.59L10.3 9.45l-7.72 7.72c-.78.78-.78 2.05 0 2.83L4 21.41c.39.39.9.59 1.41.59.51 0 1.02-.2 1.41-.59l7.78-7.78 2.81-2.81c.8-.78.8-2.07 0-2.86zM5.41 20L4 18.59l7.72-7.72 1.47 1.35L5.41 20z\"/>\n",
              "  </svg>\n",
              "      </button>\n",
              "      \n",
              "  <style>\n",
              "    .colab-df-container {\n",
              "      display:flex;\n",
              "      flex-wrap:wrap;\n",
              "      gap: 12px;\n",
              "    }\n",
              "\n",
              "    .colab-df-convert {\n",
              "      background-color: #E8F0FE;\n",
              "      border: none;\n",
              "      border-radius: 50%;\n",
              "      cursor: pointer;\n",
              "      display: none;\n",
              "      fill: #1967D2;\n",
              "      height: 32px;\n",
              "      padding: 0 0 0 0;\n",
              "      width: 32px;\n",
              "    }\n",
              "\n",
              "    .colab-df-convert:hover {\n",
              "      background-color: #E2EBFA;\n",
              "      box-shadow: 0px 1px 2px rgba(60, 64, 67, 0.3), 0px 1px 3px 1px rgba(60, 64, 67, 0.15);\n",
              "      fill: #174EA6;\n",
              "    }\n",
              "\n",
              "    [theme=dark] .colab-df-convert {\n",
              "      background-color: #3B4455;\n",
              "      fill: #D2E3FC;\n",
              "    }\n",
              "\n",
              "    [theme=dark] .colab-df-convert:hover {\n",
              "      background-color: #434B5C;\n",
              "      box-shadow: 0px 1px 3px 1px rgba(0, 0, 0, 0.15);\n",
              "      filter: drop-shadow(0px 1px 2px rgba(0, 0, 0, 0.3));\n",
              "      fill: #FFFFFF;\n",
              "    }\n",
              "  </style>\n",
              "\n",
              "      <script>\n",
              "        const buttonEl =\n",
              "          document.querySelector('#df-4f9b9fab-75dc-4297-b91a-22d184f5c1f4 button.colab-df-convert');\n",
              "        buttonEl.style.display =\n",
              "          google.colab.kernel.accessAllowed ? 'block' : 'none';\n",
              "\n",
              "        async function convertToInteractive(key) {\n",
              "          const element = document.querySelector('#df-4f9b9fab-75dc-4297-b91a-22d184f5c1f4');\n",
              "          const dataTable =\n",
              "            await google.colab.kernel.invokeFunction('convertToInteractive',\n",
              "                                                     [key], {});\n",
              "          if (!dataTable) return;\n",
              "\n",
              "          const docLinkHtml = 'Like what you see? Visit the ' +\n",
              "            '<a target=\"_blank\" href=https://colab.research.google.com/notebooks/data_table.ipynb>data table notebook</a>'\n",
              "            + ' to learn more about interactive tables.';\n",
              "          element.innerHTML = '';\n",
              "          dataTable['output_type'] = 'display_data';\n",
              "          await google.colab.output.renderOutput(dataTable, element);\n",
              "          const docLink = document.createElement('div');\n",
              "          docLink.innerHTML = docLinkHtml;\n",
              "          element.appendChild(docLink);\n",
              "        }\n",
              "      </script>\n",
              "    </div>\n",
              "  </div>\n",
              "  "
            ]
          },
          "metadata": {},
          "execution_count": 212
        }
      ],
      "source": [
        "cum_case = df_covid.loc[(df_covid.Cumulative_Case != 0)]\n",
        "cum_case"
      ]
    },
    {
      "cell_type": "code",
      "execution_count": 213,
      "metadata": {
        "colab": {
          "base_uri": "https://localhost:8080/"
        },
        "id": "J7o-EJnyk7oj",
        "outputId": "e14a2398-97bf-45a4-f873-30a381e22e63"
      },
      "outputs": [
        {
          "output_type": "execute_result",
          "data": {
            "text/plain": [
              "Province\n",
              "ACEH                          1\n",
              "SULAWESI UTARA                1\n",
              "SULAWESI TENGGARA             1\n",
              "SULAWESI TENGAH               1\n",
              "SULAWESI BARAT                1\n",
              "RIAU                          1\n",
              "NUSA TENGGARA TIMUR           1\n",
              "MALUKU UTARA                  1\n",
              "MALUKU                        1\n",
              "KEPULAUAN RIAU                1\n",
              "SUMATERA SELATAN              1\n",
              "KEPULAUAN BANGKA BELITUNG     1\n",
              "GORONTALO                     1\n",
              "BALI                          1\n",
              "BANTEN                        1\n",
              "BENGKULU                      1\n",
              "DAERAH ISTIMEWA YOGYAKARTA    1\n",
              "JAMBI                         1\n",
              "SUMATERA UTARA                1\n",
              "JAWA TENGAH                   1\n",
              "NUSA TENGGARA BARAT           2\n",
              "PAPUA                         2\n",
              "PAPUA BARAT                   2\n",
              "DKI JAKARTA                   2\n",
              "SULAWESI SELATAN              2\n",
              "KALIMANTAN UTARA              2\n",
              "KALIMANTAN TENGAH             2\n",
              "LAMPUNG                       2\n",
              "JAWA BARAT                    3\n",
              "KALIMANTAN TIMUR              3\n",
              "SUMATERA BARAT                3\n",
              "KALIMANTAN SELATAN            5\n",
              "KALIMANTAN BARAT              7\n",
              "JAWA TIMUR                    9\n",
              "Name: Cumulative_Case, dtype: int64"
            ]
          },
          "metadata": {},
          "execution_count": 213
        }
      ],
      "source": [
        "# Jumlah awal penyebaran kasus di setiap provinsi\n",
        "cum_case.groupby('Province').min()['Cumulative_Case'].sort_values()"
      ]
    },
    {
      "cell_type": "code",
      "execution_count": 214,
      "metadata": {
        "colab": {
          "base_uri": "https://localhost:8080/"
        },
        "id": "oOHMElHVrkGs",
        "outputId": "37c6bc28-3fb2-4e10-b8ac-45ea73c0977b"
      },
      "outputs": [
        {
          "output_type": "execute_result",
          "data": {
            "text/plain": [
              "Province\n",
              "JAWA TIMUR                   2020-01-08\n",
              "DKI JAKARTA                  2020-03-01\n",
              "RIAU                         2020-03-02\n",
              "JAWA BARAT                   2020-03-02\n",
              "BANTEN                       2020-03-06\n",
              "JAWA TENGAH                  2020-03-08\n",
              "SULAWESI TENGGARA            2020-03-10\n",
              "BALI                         2020-03-11\n",
              "KALIMANTAN TIMUR             2020-03-14\n",
              "DAERAH ISTIMEWA YOGYAKARTA   2020-03-16\n",
              "SUMATERA UTARA               2020-03-17\n",
              "SULAWESI SELATAN             2020-03-19\n",
              "KEPULAUAN RIAU               2020-03-19\n",
              "JAMBI                        2020-03-20\n",
              "PAPUA                        2020-03-22\n",
              "MALUKU                       2020-03-22\n",
              "SUMATERA SELATAN             2020-03-23\n",
              "MALUKU UTARA                 2020-03-23\n",
              "SULAWESI TENGAH              2020-03-26\n",
              "SULAWESI UTARA               2020-03-26\n",
              "SUMATERA BARAT               2020-03-26\n",
              "ACEH                         2020-03-26\n",
              "LAMPUNG                      2020-03-26\n",
              "KALIMANTAN TENGAH            2020-03-26\n",
              "PAPUA BARAT                  2020-03-27\n",
              "KALIMANTAN UTARA             2020-03-28\n",
              "SULAWESI BARAT               2020-03-28\n",
              "KALIMANTAN BARAT             2020-03-29\n",
              "KALIMANTAN SELATAN           2020-03-30\n",
              "KEPULAUAN BANGKA BELITUNG    2020-03-30\n",
              "BENGKULU                     2020-03-31\n",
              "NUSA TENGGARA BARAT          2020-03-31\n",
              "NUSA TENGGARA TIMUR          2020-04-09\n",
              "GORONTALO                    2020-04-10\n",
              "Name: Date, dtype: datetime64[ns]"
            ]
          },
          "metadata": {},
          "execution_count": 214
        }
      ],
      "source": [
        "# Tanggal awal penyebaran kasus di setiap provinsi\n",
        "min_case = cum_case.groupby('Province').min()['Date'].sort_values()\n",
        "min_case"
      ]
    },
    {
      "cell_type": "code",
      "execution_count": 215,
      "metadata": {
        "colab": {
          "base_uri": "https://localhost:8080/"
        },
        "id": "t_hZATTKOG0W",
        "outputId": "401c75bb-9e11-454d-cb63-c6c1d9e400f3"
      },
      "outputs": [
        {
          "output_type": "execute_result",
          "data": {
            "text/plain": [
              "Province\n",
              "DKI JAKARTA                  2021-01-05\n",
              "JAWA TIMUR                   2021-01-12\n",
              "JAWA TENGAH                  2021-01-16\n",
              "JAWA BARAT                   2021-03-28\n",
              "DAERAH ISTIMEWA YOGYAKARTA   2021-08-16\n",
              "NUSA TENGGARA TIMUR          2021-08-18\n",
              "PAPUA                        2021-08-18\n",
              "PAPUA BARAT                  2021-08-18\n",
              "RIAU                         2021-08-18\n",
              "ACEH                         2021-08-18\n",
              "SULAWESI BARAT               2021-08-18\n",
              "SULAWESI TENGAH              2021-08-18\n",
              "SULAWESI TENGGARA            2021-08-18\n",
              "SULAWESI UTARA               2021-08-18\n",
              "SUMATERA BARAT               2021-08-18\n",
              "NUSA TENGGARA BARAT          2021-08-18\n",
              "LAMPUNG                      2021-08-18\n",
              "KEPULAUAN BANGKA BELITUNG    2021-08-18\n",
              "SUMATERA SELATAN             2021-08-18\n",
              "KALIMANTAN UTARA             2021-08-18\n",
              "KALIMANTAN TIMUR             2021-08-18\n",
              "KALIMANTAN TENGAH            2021-08-18\n",
              "KALIMANTAN SELATAN           2021-08-18\n",
              "KALIMANTAN BARAT             2021-08-18\n",
              "JAMBI                        2021-08-18\n",
              "GORONTALO                    2021-08-18\n",
              "BENGKULU                     2021-08-18\n",
              "BALI                         2021-08-18\n",
              "KEPULAUAN RIAU               2021-08-18\n",
              "MALUKU UTARA                 2021-08-19\n",
              "MALUKU                       2021-08-20\n",
              "SULAWESI SELATAN             2021-08-20\n",
              "BANTEN                       2021-08-20\n",
              "SUMATERA UTARA               2021-08-20\n",
              "Name: Date, dtype: datetime64[ns]"
            ]
          },
          "metadata": {},
          "execution_count": 215
        }
      ],
      "source": [
        "# Tanggal kasus tertinggi di setiap provinsi\n",
        "max_case = cum_case.groupby('Province').max()['Date'].sort_values()\n",
        "max_case"
      ]
    },
    {
      "cell_type": "code",
      "execution_count": 216,
      "metadata": {
        "colab": {
          "base_uri": "https://localhost:8080/"
        },
        "id": "aQ5wNJCuOeNy",
        "outputId": "a5e404ca-d067-4b77-b219-238c3da00d9b"
      },
      "outputs": [
        {
          "output_type": "execute_result",
          "data": {
            "text/plain": [
              "Province\n",
              "DKI JAKARTA                  310 days\n",
              "JAWA TENGAH                  314 days\n",
              "JAWA TIMUR                   370 days\n",
              "JAWA BARAT                   391 days\n",
              "GORONTALO                    495 days\n",
              "NUSA TENGGARA TIMUR          496 days\n",
              "BENGKULU                     505 days\n",
              "NUSA TENGGARA BARAT          505 days\n",
              "KALIMANTAN SELATAN           506 days\n",
              "KEPULAUAN BANGKA BELITUNG    506 days\n",
              "KALIMANTAN BARAT             507 days\n",
              "KALIMANTAN UTARA             508 days\n",
              "SULAWESI BARAT               508 days\n",
              "PAPUA BARAT                  509 days\n",
              "SULAWESI TENGAH              510 days\n",
              "SULAWESI UTARA               510 days\n",
              "SUMATERA BARAT               510 days\n",
              "LAMPUNG                      510 days\n",
              "ACEH                         510 days\n",
              "KALIMANTAN TENGAH            510 days\n",
              "SUMATERA SELATAN             513 days\n",
              "MALUKU UTARA                 514 days\n",
              "PAPUA                        514 days\n",
              "MALUKU                       516 days\n",
              "JAMBI                        516 days\n",
              "KEPULAUAN RIAU               517 days\n",
              "DAERAH ISTIMEWA YOGYAKARTA   518 days\n",
              "SULAWESI SELATAN             519 days\n",
              "SUMATERA UTARA               521 days\n",
              "KALIMANTAN TIMUR             522 days\n",
              "BALI                         525 days\n",
              "SULAWESI TENGGARA            526 days\n",
              "BANTEN                       532 days\n",
              "RIAU                         534 days\n",
              "Name: Date, dtype: timedelta64[ns]"
            ]
          },
          "metadata": {},
          "execution_count": 216
        }
      ],
      "source": [
        "# lama waktu dari case pertama kali sampai catatan tertinggi di setiap provinsi\n",
        "gap_case = max_case - min_case\n",
        "gap_case.sort_values()"
      ]
    },
    {
      "cell_type": "code",
      "execution_count": 217,
      "metadata": {
        "colab": {
          "base_uri": "https://localhost:8080/"
        },
        "id": "Ik3xnVIxWjOm",
        "outputId": "0b66faa0-1f60-47f0-92a1-0ba0ac4a0f48"
      },
      "outputs": [
        {
          "output_type": "execute_result",
          "data": {
            "text/plain": [
              "Timedelta('493 days 10:35:17.647058824')"
            ]
          },
          "metadata": {},
          "execution_count": 217
        }
      ],
      "source": [
        "# rata-rata gap case\n",
        "gap_case.mean()"
      ]
    },
    {
      "cell_type": "markdown",
      "metadata": {
        "id": "Qk9ijBHUmcEn"
      },
      "source": [
        "#### Death"
      ]
    },
    {
      "cell_type": "code",
      "execution_count": 218,
      "metadata": {
        "colab": {
          "base_uri": "https://localhost:8080/"
        },
        "id": "UQ7qf1N6mgmO",
        "outputId": "35d5ab84-c0cc-4893-a0c8-fb3dc9855259"
      },
      "outputs": [
        {
          "output_type": "execute_result",
          "data": {
            "text/plain": [
              "Date\n",
              "2020-01-08       3\n",
              "2020-01-09       4\n",
              "2020-01-10       5\n",
              "2020-01-11       8\n",
              "2020-01-12      11\n",
              "              ... \n",
              "2021-08-16    4518\n",
              "2021-08-17    4570\n",
              "2021-08-18    4642\n",
              "2021-08-19    2535\n",
              "2021-08-20    2536\n",
              "Name: Cumulative_Death, Length: 591, dtype: int64"
            ]
          },
          "metadata": {},
          "execution_count": 218
        }
      ],
      "source": [
        "# Jumlah kumulatif death tertinggi setiap date\n",
        "df_covid.groupby('Date').max()['Cumulative_Death']"
      ]
    },
    {
      "cell_type": "code",
      "execution_count": 219,
      "metadata": {
        "colab": {
          "base_uri": "https://localhost:8080/"
        },
        "id": "FWgqK_p9XPXl",
        "outputId": "0d1f270a-9b13-4a96-8922-328f7a5575dd"
      },
      "outputs": [
        {
          "output_type": "execute_result",
          "data": {
            "text/plain": [
              "Date\n",
              "2020-01-08        3\n",
              "2020-01-09        4\n",
              "2020-01-10        5\n",
              "2020-01-11        8\n",
              "2020-01-12       11\n",
              "              ...  \n",
              "2021-08-16    43105\n",
              "2021-08-17    39244\n",
              "2021-08-18    39756\n",
              "2021-08-19     6850\n",
              "2021-08-20     6577\n",
              "Name: Cumulative_Death, Length: 591, dtype: int64"
            ]
          },
          "metadata": {},
          "execution_count": 219
        }
      ],
      "source": [
        "# total kumulatif death setiap date\n",
        "df_covid.groupby('Date').sum()['Cumulative_Death']"
      ]
    },
    {
      "cell_type": "code",
      "execution_count": 220,
      "metadata": {
        "colab": {
          "base_uri": "https://localhost:8080/",
          "height": 748
        },
        "id": "Jy2qhdG7X27i",
        "outputId": "882a2880-1694-48db-cc9c-ab205d38fd91"
      },
      "outputs": [
        {
          "output_type": "execute_result",
          "data": {
            "text/plain": [
              "            Date             Province  Daily_Case  Daily_Death  \\\n",
              "4     2020-03-05          DKI JAKARTA           0            1   \n",
              "5     2020-03-06          DKI JAKARTA           0            0   \n",
              "6     2020-03-07          DKI JAKARTA           0            2   \n",
              "7     2020-03-08          DKI JAKARTA           0            0   \n",
              "8     2020-03-09          DKI JAKARTA           0            1   \n",
              "...          ...                  ...         ...          ...   \n",
              "17608 2021-08-14  NUSA TENGGARA TIMUR         649           21   \n",
              "17609 2021-08-15  NUSA TENGGARA TIMUR         498            7   \n",
              "17610 2021-08-16  NUSA TENGGARA TIMUR         438           18   \n",
              "17611 2021-08-17  NUSA TENGGARA TIMUR         657           15   \n",
              "17612 2021-08-18  NUSA TENGGARA TIMUR         527            8   \n",
              "\n",
              "       Daily_Recovered  Active_Case  Cumulative_Case  Cumulative_Recovered  \\\n",
              "4                    0           -1                8                     0   \n",
              "5                    0            0                8                     0   \n",
              "6                    0           -2                8                     0   \n",
              "7                    0            0                8                     0   \n",
              "8                    0           -1                8                     0   \n",
              "...                ...          ...              ...                   ...   \n",
              "17608              892         -264            52686                 42250   \n",
              "17609             1421         -930            53184                 43671   \n",
              "17610              969         -549            53622                 44640   \n",
              "17611              633            9            54279                 45273   \n",
              "17612              949         -430            54806                 46222   \n",
              "\n",
              "       Cumulative_Death  Cumulative_Active_Case  \n",
              "4                     1                       7  \n",
              "5                     1                       7  \n",
              "6                     3                       5  \n",
              "7                     3                       5  \n",
              "8                     4                       4  \n",
              "...                 ...                     ...  \n",
              "17608              1016                    9420  \n",
              "17609              1023                    8490  \n",
              "17610              1041                    7941  \n",
              "17611              1056                    7950  \n",
              "17612              1064                    7520  \n",
              "\n",
              "[16140 rows x 10 columns]"
            ],
            "text/html": [
              "\n",
              "  <div id=\"df-13b01b7e-3e3a-466e-aa3e-6528ddd56aa1\">\n",
              "    <div class=\"colab-df-container\">\n",
              "      <div>\n",
              "<style scoped>\n",
              "    .dataframe tbody tr th:only-of-type {\n",
              "        vertical-align: middle;\n",
              "    }\n",
              "\n",
              "    .dataframe tbody tr th {\n",
              "        vertical-align: top;\n",
              "    }\n",
              "\n",
              "    .dataframe thead th {\n",
              "        text-align: right;\n",
              "    }\n",
              "</style>\n",
              "<table border=\"1\" class=\"dataframe\">\n",
              "  <thead>\n",
              "    <tr style=\"text-align: right;\">\n",
              "      <th></th>\n",
              "      <th>Date</th>\n",
              "      <th>Province</th>\n",
              "      <th>Daily_Case</th>\n",
              "      <th>Daily_Death</th>\n",
              "      <th>Daily_Recovered</th>\n",
              "      <th>Active_Case</th>\n",
              "      <th>Cumulative_Case</th>\n",
              "      <th>Cumulative_Recovered</th>\n",
              "      <th>Cumulative_Death</th>\n",
              "      <th>Cumulative_Active_Case</th>\n",
              "    </tr>\n",
              "  </thead>\n",
              "  <tbody>\n",
              "    <tr>\n",
              "      <th>4</th>\n",
              "      <td>2020-03-05</td>\n",
              "      <td>DKI JAKARTA</td>\n",
              "      <td>0</td>\n",
              "      <td>1</td>\n",
              "      <td>0</td>\n",
              "      <td>-1</td>\n",
              "      <td>8</td>\n",
              "      <td>0</td>\n",
              "      <td>1</td>\n",
              "      <td>7</td>\n",
              "    </tr>\n",
              "    <tr>\n",
              "      <th>5</th>\n",
              "      <td>2020-03-06</td>\n",
              "      <td>DKI JAKARTA</td>\n",
              "      <td>0</td>\n",
              "      <td>0</td>\n",
              "      <td>0</td>\n",
              "      <td>0</td>\n",
              "      <td>8</td>\n",
              "      <td>0</td>\n",
              "      <td>1</td>\n",
              "      <td>7</td>\n",
              "    </tr>\n",
              "    <tr>\n",
              "      <th>6</th>\n",
              "      <td>2020-03-07</td>\n",
              "      <td>DKI JAKARTA</td>\n",
              "      <td>0</td>\n",
              "      <td>2</td>\n",
              "      <td>0</td>\n",
              "      <td>-2</td>\n",
              "      <td>8</td>\n",
              "      <td>0</td>\n",
              "      <td>3</td>\n",
              "      <td>5</td>\n",
              "    </tr>\n",
              "    <tr>\n",
              "      <th>7</th>\n",
              "      <td>2020-03-08</td>\n",
              "      <td>DKI JAKARTA</td>\n",
              "      <td>0</td>\n",
              "      <td>0</td>\n",
              "      <td>0</td>\n",
              "      <td>0</td>\n",
              "      <td>8</td>\n",
              "      <td>0</td>\n",
              "      <td>3</td>\n",
              "      <td>5</td>\n",
              "    </tr>\n",
              "    <tr>\n",
              "      <th>8</th>\n",
              "      <td>2020-03-09</td>\n",
              "      <td>DKI JAKARTA</td>\n",
              "      <td>0</td>\n",
              "      <td>1</td>\n",
              "      <td>0</td>\n",
              "      <td>-1</td>\n",
              "      <td>8</td>\n",
              "      <td>0</td>\n",
              "      <td>4</td>\n",
              "      <td>4</td>\n",
              "    </tr>\n",
              "    <tr>\n",
              "      <th>...</th>\n",
              "      <td>...</td>\n",
              "      <td>...</td>\n",
              "      <td>...</td>\n",
              "      <td>...</td>\n",
              "      <td>...</td>\n",
              "      <td>...</td>\n",
              "      <td>...</td>\n",
              "      <td>...</td>\n",
              "      <td>...</td>\n",
              "      <td>...</td>\n",
              "    </tr>\n",
              "    <tr>\n",
              "      <th>17608</th>\n",
              "      <td>2021-08-14</td>\n",
              "      <td>NUSA TENGGARA TIMUR</td>\n",
              "      <td>649</td>\n",
              "      <td>21</td>\n",
              "      <td>892</td>\n",
              "      <td>-264</td>\n",
              "      <td>52686</td>\n",
              "      <td>42250</td>\n",
              "      <td>1016</td>\n",
              "      <td>9420</td>\n",
              "    </tr>\n",
              "    <tr>\n",
              "      <th>17609</th>\n",
              "      <td>2021-08-15</td>\n",
              "      <td>NUSA TENGGARA TIMUR</td>\n",
              "      <td>498</td>\n",
              "      <td>7</td>\n",
              "      <td>1421</td>\n",
              "      <td>-930</td>\n",
              "      <td>53184</td>\n",
              "      <td>43671</td>\n",
              "      <td>1023</td>\n",
              "      <td>8490</td>\n",
              "    </tr>\n",
              "    <tr>\n",
              "      <th>17610</th>\n",
              "      <td>2021-08-16</td>\n",
              "      <td>NUSA TENGGARA TIMUR</td>\n",
              "      <td>438</td>\n",
              "      <td>18</td>\n",
              "      <td>969</td>\n",
              "      <td>-549</td>\n",
              "      <td>53622</td>\n",
              "      <td>44640</td>\n",
              "      <td>1041</td>\n",
              "      <td>7941</td>\n",
              "    </tr>\n",
              "    <tr>\n",
              "      <th>17611</th>\n",
              "      <td>2021-08-17</td>\n",
              "      <td>NUSA TENGGARA TIMUR</td>\n",
              "      <td>657</td>\n",
              "      <td>15</td>\n",
              "      <td>633</td>\n",
              "      <td>9</td>\n",
              "      <td>54279</td>\n",
              "      <td>45273</td>\n",
              "      <td>1056</td>\n",
              "      <td>7950</td>\n",
              "    </tr>\n",
              "    <tr>\n",
              "      <th>17612</th>\n",
              "      <td>2021-08-18</td>\n",
              "      <td>NUSA TENGGARA TIMUR</td>\n",
              "      <td>527</td>\n",
              "      <td>8</td>\n",
              "      <td>949</td>\n",
              "      <td>-430</td>\n",
              "      <td>54806</td>\n",
              "      <td>46222</td>\n",
              "      <td>1064</td>\n",
              "      <td>7520</td>\n",
              "    </tr>\n",
              "  </tbody>\n",
              "</table>\n",
              "<p>16140 rows × 10 columns</p>\n",
              "</div>\n",
              "      <button class=\"colab-df-convert\" onclick=\"convertToInteractive('df-13b01b7e-3e3a-466e-aa3e-6528ddd56aa1')\"\n",
              "              title=\"Convert this dataframe to an interactive table.\"\n",
              "              style=\"display:none;\">\n",
              "        \n",
              "  <svg xmlns=\"http://www.w3.org/2000/svg\" height=\"24px\"viewBox=\"0 0 24 24\"\n",
              "       width=\"24px\">\n",
              "    <path d=\"M0 0h24v24H0V0z\" fill=\"none\"/>\n",
              "    <path d=\"M18.56 5.44l.94 2.06.94-2.06 2.06-.94-2.06-.94-.94-2.06-.94 2.06-2.06.94zm-11 1L8.5 8.5l.94-2.06 2.06-.94-2.06-.94L8.5 2.5l-.94 2.06-2.06.94zm10 10l.94 2.06.94-2.06 2.06-.94-2.06-.94-.94-2.06-.94 2.06-2.06.94z\"/><path d=\"M17.41 7.96l-1.37-1.37c-.4-.4-.92-.59-1.43-.59-.52 0-1.04.2-1.43.59L10.3 9.45l-7.72 7.72c-.78.78-.78 2.05 0 2.83L4 21.41c.39.39.9.59 1.41.59.51 0 1.02-.2 1.41-.59l7.78-7.78 2.81-2.81c.8-.78.8-2.07 0-2.86zM5.41 20L4 18.59l7.72-7.72 1.47 1.35L5.41 20z\"/>\n",
              "  </svg>\n",
              "      </button>\n",
              "      \n",
              "  <style>\n",
              "    .colab-df-container {\n",
              "      display:flex;\n",
              "      flex-wrap:wrap;\n",
              "      gap: 12px;\n",
              "    }\n",
              "\n",
              "    .colab-df-convert {\n",
              "      background-color: #E8F0FE;\n",
              "      border: none;\n",
              "      border-radius: 50%;\n",
              "      cursor: pointer;\n",
              "      display: none;\n",
              "      fill: #1967D2;\n",
              "      height: 32px;\n",
              "      padding: 0 0 0 0;\n",
              "      width: 32px;\n",
              "    }\n",
              "\n",
              "    .colab-df-convert:hover {\n",
              "      background-color: #E2EBFA;\n",
              "      box-shadow: 0px 1px 2px rgba(60, 64, 67, 0.3), 0px 1px 3px 1px rgba(60, 64, 67, 0.15);\n",
              "      fill: #174EA6;\n",
              "    }\n",
              "\n",
              "    [theme=dark] .colab-df-convert {\n",
              "      background-color: #3B4455;\n",
              "      fill: #D2E3FC;\n",
              "    }\n",
              "\n",
              "    [theme=dark] .colab-df-convert:hover {\n",
              "      background-color: #434B5C;\n",
              "      box-shadow: 0px 1px 3px 1px rgba(0, 0, 0, 0.15);\n",
              "      filter: drop-shadow(0px 1px 2px rgba(0, 0, 0, 0.3));\n",
              "      fill: #FFFFFF;\n",
              "    }\n",
              "  </style>\n",
              "\n",
              "      <script>\n",
              "        const buttonEl =\n",
              "          document.querySelector('#df-13b01b7e-3e3a-466e-aa3e-6528ddd56aa1 button.colab-df-convert');\n",
              "        buttonEl.style.display =\n",
              "          google.colab.kernel.accessAllowed ? 'block' : 'none';\n",
              "\n",
              "        async function convertToInteractive(key) {\n",
              "          const element = document.querySelector('#df-13b01b7e-3e3a-466e-aa3e-6528ddd56aa1');\n",
              "          const dataTable =\n",
              "            await google.colab.kernel.invokeFunction('convertToInteractive',\n",
              "                                                     [key], {});\n",
              "          if (!dataTable) return;\n",
              "\n",
              "          const docLinkHtml = 'Like what you see? Visit the ' +\n",
              "            '<a target=\"_blank\" href=https://colab.research.google.com/notebooks/data_table.ipynb>data table notebook</a>'\n",
              "            + ' to learn more about interactive tables.';\n",
              "          element.innerHTML = '';\n",
              "          dataTable['output_type'] = 'display_data';\n",
              "          await google.colab.output.renderOutput(dataTable, element);\n",
              "          const docLink = document.createElement('div');\n",
              "          docLink.innerHTML = docLinkHtml;\n",
              "          element.appendChild(docLink);\n",
              "        }\n",
              "      </script>\n",
              "    </div>\n",
              "  </div>\n",
              "  "
            ]
          },
          "metadata": {},
          "execution_count": 220
        }
      ],
      "source": [
        "cum_death = df_covid.loc[(df_covid.Cumulative_Death != 0)]\n",
        "cum_death"
      ]
    },
    {
      "cell_type": "code",
      "execution_count": 221,
      "metadata": {
        "colab": {
          "base_uri": "https://localhost:8080/"
        },
        "id": "z6IGUQVymsJu",
        "outputId": "923d81b0-5cf2-4b48-9f5c-c6a140b14013"
      },
      "outputs": [
        {
          "output_type": "execute_result",
          "data": {
            "text/plain": [
              "Province\n",
              "ACEH                          1\n",
              "SULAWESI UTARA                1\n",
              "SULAWESI TENGGARA             1\n",
              "SULAWESI TENGAH               1\n",
              "SULAWESI SELATAN              1\n",
              "SULAWESI BARAT                1\n",
              "RIAU                          1\n",
              "PAPUA BARAT                   1\n",
              "PAPUA                         1\n",
              "NUSA TENGGARA TIMUR           1\n",
              "LAMPUNG                       1\n",
              "KEPULAUAN RIAU                1\n",
              "KALIMANTAN UTARA              1\n",
              "KALIMANTAN TIMUR              1\n",
              "KEPULAUAN BANGKA BELITUNG     1\n",
              "KALIMANTAN SELATAN            1\n",
              "BALI                          1\n",
              "BANTEN                        1\n",
              "BENGKULU                      1\n",
              "DAERAH ISTIMEWA YOGYAKARTA    1\n",
              "DKI JAKARTA                   1\n",
              "GORONTALO                     1\n",
              "KALIMANTAN TENGAH             1\n",
              "JAMBI                         1\n",
              "JAWA TENGAH                   1\n",
              "KALIMANTAN BARAT              1\n",
              "JAWA BARAT                    1\n",
              "SUMATERA UTARA                1\n",
              "NUSA TENGGARA BARAT           2\n",
              "MALUKU                        2\n",
              "SUMATERA SELATAN              2\n",
              "MALUKU UTARA                  3\n",
              "JAWA TIMUR                    3\n",
              "SUMATERA BARAT                3\n",
              "Name: Cumulative_Death, dtype: int64"
            ]
          },
          "metadata": {},
          "execution_count": 221
        }
      ],
      "source": [
        "# Jumlah awal kematian di setiap provinsi\n",
        "cum_death.groupby('Province').min()['Cumulative_Death'].sort_values()"
      ]
    },
    {
      "cell_type": "code",
      "execution_count": 222,
      "metadata": {
        "colab": {
          "base_uri": "https://localhost:8080/"
        },
        "id": "xlHuCrNewHl4",
        "outputId": "90d63e93-9fc4-40e5-ae5c-db3866efba32"
      },
      "outputs": [
        {
          "output_type": "execute_result",
          "data": {
            "text/plain": [
              "Province\n",
              "JAWA TIMUR                   2020-01-08\n",
              "JAWA BARAT                   2020-03-03\n",
              "DKI JAKARTA                  2020-03-05\n",
              "JAWA TENGAH                  2020-03-08\n",
              "BALI                         2020-03-11\n",
              "BANTEN                       2020-03-12\n",
              "SUMATERA UTARA               2020-03-17\n",
              "KEPULAUAN RIAU               2020-03-19\n",
              "SULAWESI SELATAN             2020-03-23\n",
              "DAERAH ISTIMEWA YOGYAKARTA   2020-03-23\n",
              "SUMATERA SELATAN             2020-03-23\n",
              "LAMPUNG                      2020-03-30\n",
              "KALIMANTAN TIMUR             2020-03-31\n",
              "KEPULAUAN BANGKA BELITUNG    2020-03-31\n",
              "BENGKULU                     2020-03-31\n",
              "RIAU                         2020-04-01\n",
              "KALIMANTAN BARAT             2020-04-02\n",
              "SULAWESI TENGAH              2020-04-02\n",
              "PAPUA                        2020-04-03\n",
              "SULAWESI UTARA               2020-04-04\n",
              "KALIMANTAN SELATAN           2020-04-05\n",
              "KALIMANTAN TENGAH            2020-04-08\n",
              "SUMATERA BARAT               2020-04-10\n",
              "NUSA TENGGARA BARAT          2020-04-11\n",
              "SULAWESI BARAT               2020-04-11\n",
              "SULAWESI TENGGARA            2020-04-11\n",
              "KALIMANTAN UTARA             2020-04-11\n",
              "GORONTALO                    2020-04-21\n",
              "ACEH                         2020-04-23\n",
              "MALUKU                       2020-05-06\n",
              "MALUKU UTARA                 2020-05-13\n",
              "NUSA TENGGARA TIMUR          2020-05-14\n",
              "PAPUA BARAT                  2020-05-23\n",
              "JAMBI                        2020-06-25\n",
              "Name: Date, dtype: datetime64[ns]"
            ]
          },
          "metadata": {},
          "execution_count": 222
        }
      ],
      "source": [
        "# Tanggal awal adanya kematian di setiap provinsi\n",
        "min_death = cum_death.groupby('Province').min()['Date'].sort_values()\n",
        "min_death"
      ]
    },
    {
      "cell_type": "code",
      "execution_count": 223,
      "metadata": {
        "colab": {
          "base_uri": "https://localhost:8080/"
        },
        "id": "gHCooY4QVp-R",
        "outputId": "eac4e930-188e-4c68-a185-ba681958a218"
      },
      "outputs": [
        {
          "output_type": "execute_result",
          "data": {
            "text/plain": [
              "Province\n",
              "DKI JAKARTA                  2021-01-05\n",
              "JAWA TIMUR                   2021-01-12\n",
              "JAWA TENGAH                  2021-01-16\n",
              "JAWA BARAT                   2021-03-28\n",
              "DAERAH ISTIMEWA YOGYAKARTA   2021-08-16\n",
              "NUSA TENGGARA TIMUR          2021-08-18\n",
              "PAPUA                        2021-08-18\n",
              "PAPUA BARAT                  2021-08-18\n",
              "RIAU                         2021-08-18\n",
              "ACEH                         2021-08-18\n",
              "SULAWESI BARAT               2021-08-18\n",
              "SULAWESI TENGAH              2021-08-18\n",
              "SULAWESI TENGGARA            2021-08-18\n",
              "SULAWESI UTARA               2021-08-18\n",
              "SUMATERA BARAT               2021-08-18\n",
              "NUSA TENGGARA BARAT          2021-08-18\n",
              "LAMPUNG                      2021-08-18\n",
              "KEPULAUAN BANGKA BELITUNG    2021-08-18\n",
              "SUMATERA SELATAN             2021-08-18\n",
              "KALIMANTAN UTARA             2021-08-18\n",
              "KALIMANTAN TIMUR             2021-08-18\n",
              "KALIMANTAN TENGAH            2021-08-18\n",
              "KALIMANTAN SELATAN           2021-08-18\n",
              "KALIMANTAN BARAT             2021-08-18\n",
              "JAMBI                        2021-08-18\n",
              "GORONTALO                    2021-08-18\n",
              "BENGKULU                     2021-08-18\n",
              "BALI                         2021-08-18\n",
              "KEPULAUAN RIAU               2021-08-18\n",
              "MALUKU UTARA                 2021-08-19\n",
              "MALUKU                       2021-08-20\n",
              "SULAWESI SELATAN             2021-08-20\n",
              "BANTEN                       2021-08-20\n",
              "SUMATERA UTARA               2021-08-20\n",
              "Name: Date, dtype: datetime64[ns]"
            ]
          },
          "metadata": {},
          "execution_count": 223
        }
      ],
      "source": [
        "# Tanggal kematian tertinggi di setiap provinsi\n",
        "max_death = cum_death.groupby('Province').max()['Date'].sort_values()\n",
        "max_death"
      ]
    },
    {
      "cell_type": "code",
      "execution_count": 224,
      "metadata": {
        "colab": {
          "base_uri": "https://localhost:8080/"
        },
        "id": "X9hYjGm2V4qC",
        "outputId": "43b24e7c-1d5d-4c73-cdc3-bbc1fd5168ec"
      },
      "outputs": [
        {
          "output_type": "execute_result",
          "data": {
            "text/plain": [
              "Province\n",
              "DKI JAKARTA                  306 days\n",
              "JAWA TENGAH                  314 days\n",
              "JAWA TIMUR                   370 days\n",
              "JAWA BARAT                   390 days\n",
              "JAMBI                        419 days\n",
              "PAPUA BARAT                  452 days\n",
              "NUSA TENGGARA TIMUR          461 days\n",
              "MALUKU UTARA                 463 days\n",
              "MALUKU                       471 days\n",
              "ACEH                         482 days\n",
              "GORONTALO                    484 days\n",
              "NUSA TENGGARA BARAT          494 days\n",
              "SULAWESI BARAT               494 days\n",
              "KALIMANTAN UTARA             494 days\n",
              "SULAWESI TENGGARA            494 days\n",
              "SUMATERA BARAT               495 days\n",
              "KALIMANTAN TENGAH            497 days\n",
              "KALIMANTAN SELATAN           500 days\n",
              "SULAWESI UTARA               501 days\n",
              "PAPUA                        502 days\n",
              "SULAWESI TENGAH              503 days\n",
              "KALIMANTAN BARAT             503 days\n",
              "RIAU                         504 days\n",
              "KEPULAUAN BANGKA BELITUNG    505 days\n",
              "KALIMANTAN TIMUR             505 days\n",
              "BENGKULU                     505 days\n",
              "LAMPUNG                      506 days\n",
              "DAERAH ISTIMEWA YOGYAKARTA   511 days\n",
              "SUMATERA SELATAN             513 days\n",
              "SULAWESI SELATAN             515 days\n",
              "KEPULAUAN RIAU               517 days\n",
              "SUMATERA UTARA               521 days\n",
              "BALI                         525 days\n",
              "BANTEN                       526 days\n",
              "Name: Date, dtype: timedelta64[ns]"
            ]
          },
          "metadata": {},
          "execution_count": 224
        }
      ],
      "source": [
        "# lama waktu dari death pertama kali sampai catatan tertinggi di setiap provinsi\n",
        "gap_death = max_death - min_death\n",
        "gap_death.sort_values()"
      ]
    },
    {
      "cell_type": "code",
      "execution_count": 225,
      "metadata": {
        "colab": {
          "base_uri": "https://localhost:8080/"
        },
        "id": "Vfvp41VdXDWS",
        "outputId": "2fa4c094-7fb4-4d7e-e047-3a513b3dd8aa"
      },
      "outputs": [
        {
          "output_type": "execute_result",
          "data": {
            "text/plain": [
              "Timedelta('477 days 16:56:28.235294120')"
            ]
          },
          "metadata": {},
          "execution_count": 225
        }
      ],
      "source": [
        "# rata-rata gap death\n",
        "gap_death.mean()"
      ]
    },
    {
      "cell_type": "markdown",
      "metadata": {
        "id": "0XpkFf5vnAb6"
      },
      "source": [
        "#### Recovered"
      ]
    },
    {
      "cell_type": "code",
      "execution_count": 226,
      "metadata": {
        "colab": {
          "base_uri": "https://localhost:8080/"
        },
        "id": "bYCKPWJznEGh",
        "outputId": "83d9837b-9e9c-4fa5-df68-578e979683a3"
      },
      "outputs": [
        {
          "output_type": "execute_result",
          "data": {
            "text/plain": [
              "Date\n",
              "2020-01-08         1\n",
              "2020-01-09        24\n",
              "2020-01-10        38\n",
              "2020-01-11        46\n",
              "2020-01-12        47\n",
              "               ...  \n",
              "2021-08-16    121714\n",
              "2021-08-17    123287\n",
              "2021-08-18    124943\n",
              "2021-08-19    116160\n",
              "2021-08-20    116160\n",
              "Name: Cumulative_Recovered, Length: 591, dtype: int64"
            ]
          },
          "metadata": {},
          "execution_count": 226
        }
      ],
      "source": [
        "# Jumlah kumulatif recovered tertinggi setiap date\n",
        "df_covid.groupby('Date').max()['Cumulative_Recovered']"
      ]
    },
    {
      "cell_type": "code",
      "execution_count": 227,
      "metadata": {
        "colab": {
          "base_uri": "https://localhost:8080/"
        },
        "id": "DmYHr0F7YD63",
        "outputId": "09c2d10c-b323-4583-9c7e-b92ca945a687"
      },
      "outputs": [
        {
          "output_type": "execute_result",
          "data": {
            "text/plain": [
              "Date\n",
              "2020-01-08          1\n",
              "2020-01-09         24\n",
              "2020-01-10         38\n",
              "2020-01-11         46\n",
              "2020-01-12         47\n",
              "               ...   \n",
              "2021-08-16    1285033\n",
              "2021-08-17    1191820\n",
              "2021-08-18    1206197\n",
              "2021-08-19     278474\n",
              "2021-08-20     268752\n",
              "Name: Cumulative_Recovered, Length: 591, dtype: int64"
            ]
          },
          "metadata": {},
          "execution_count": 227
        }
      ],
      "source": [
        "# total kumulatif recovered setiap date\n",
        "df_covid.groupby('Date').sum()['Cumulative_Recovered']"
      ]
    },
    {
      "cell_type": "code",
      "execution_count": 228,
      "metadata": {
        "colab": {
          "base_uri": "https://localhost:8080/",
          "height": 748
        },
        "id": "70Kz5HqIYN_L",
        "outputId": "a31b8efe-b017-4193-db0b-3967c80ce11f"
      },
      "outputs": [
        {
          "output_type": "execute_result",
          "data": {
            "text/plain": [
              "            Date             Province  Daily_Case  Daily_Death  \\\n",
              "11    2020-03-12          DKI JAKARTA           2            1   \n",
              "12    2020-03-13          DKI JAKARTA           4            1   \n",
              "13    2020-03-14          DKI JAKARTA           2            1   \n",
              "14    2020-03-15          DKI JAKARTA           8            3   \n",
              "15    2020-03-16          DKI JAKARTA           2            3   \n",
              "...          ...                  ...         ...          ...   \n",
              "17608 2021-08-14  NUSA TENGGARA TIMUR         649           21   \n",
              "17609 2021-08-15  NUSA TENGGARA TIMUR         498            7   \n",
              "17610 2021-08-16  NUSA TENGGARA TIMUR         438           18   \n",
              "17611 2021-08-17  NUSA TENGGARA TIMUR         657           15   \n",
              "17612 2021-08-18  NUSA TENGGARA TIMUR         527            8   \n",
              "\n",
              "       Daily_Recovered  Active_Case  Cumulative_Case  Cumulative_Recovered  \\\n",
              "11                   4           -3               10                     4   \n",
              "12                   3            0               14                     7   \n",
              "13                   1            0               16                     8   \n",
              "14                   0            5               24                     8   \n",
              "15                   0           -1               26                     8   \n",
              "...                ...          ...              ...                   ...   \n",
              "17608              892         -264            52686                 42250   \n",
              "17609             1421         -930            53184                 43671   \n",
              "17610              969         -549            53622                 44640   \n",
              "17611              633            9            54279                 45273   \n",
              "17612              949         -430            54806                 46222   \n",
              "\n",
              "       Cumulative_Death  Cumulative_Active_Case  \n",
              "11                    5                       1  \n",
              "12                    6                       1  \n",
              "13                    7                       1  \n",
              "14                   10                       6  \n",
              "15                   13                       5  \n",
              "...                 ...                     ...  \n",
              "17608              1016                    9420  \n",
              "17609              1023                    8490  \n",
              "17610              1041                    7941  \n",
              "17611              1056                    7950  \n",
              "17612              1064                    7520  \n",
              "\n",
              "[16199 rows x 10 columns]"
            ],
            "text/html": [
              "\n",
              "  <div id=\"df-8e90e807-e964-412e-99e9-55341f3d39f3\">\n",
              "    <div class=\"colab-df-container\">\n",
              "      <div>\n",
              "<style scoped>\n",
              "    .dataframe tbody tr th:only-of-type {\n",
              "        vertical-align: middle;\n",
              "    }\n",
              "\n",
              "    .dataframe tbody tr th {\n",
              "        vertical-align: top;\n",
              "    }\n",
              "\n",
              "    .dataframe thead th {\n",
              "        text-align: right;\n",
              "    }\n",
              "</style>\n",
              "<table border=\"1\" class=\"dataframe\">\n",
              "  <thead>\n",
              "    <tr style=\"text-align: right;\">\n",
              "      <th></th>\n",
              "      <th>Date</th>\n",
              "      <th>Province</th>\n",
              "      <th>Daily_Case</th>\n",
              "      <th>Daily_Death</th>\n",
              "      <th>Daily_Recovered</th>\n",
              "      <th>Active_Case</th>\n",
              "      <th>Cumulative_Case</th>\n",
              "      <th>Cumulative_Recovered</th>\n",
              "      <th>Cumulative_Death</th>\n",
              "      <th>Cumulative_Active_Case</th>\n",
              "    </tr>\n",
              "  </thead>\n",
              "  <tbody>\n",
              "    <tr>\n",
              "      <th>11</th>\n",
              "      <td>2020-03-12</td>\n",
              "      <td>DKI JAKARTA</td>\n",
              "      <td>2</td>\n",
              "      <td>1</td>\n",
              "      <td>4</td>\n",
              "      <td>-3</td>\n",
              "      <td>10</td>\n",
              "      <td>4</td>\n",
              "      <td>5</td>\n",
              "      <td>1</td>\n",
              "    </tr>\n",
              "    <tr>\n",
              "      <th>12</th>\n",
              "      <td>2020-03-13</td>\n",
              "      <td>DKI JAKARTA</td>\n",
              "      <td>4</td>\n",
              "      <td>1</td>\n",
              "      <td>3</td>\n",
              "      <td>0</td>\n",
              "      <td>14</td>\n",
              "      <td>7</td>\n",
              "      <td>6</td>\n",
              "      <td>1</td>\n",
              "    </tr>\n",
              "    <tr>\n",
              "      <th>13</th>\n",
              "      <td>2020-03-14</td>\n",
              "      <td>DKI JAKARTA</td>\n",
              "      <td>2</td>\n",
              "      <td>1</td>\n",
              "      <td>1</td>\n",
              "      <td>0</td>\n",
              "      <td>16</td>\n",
              "      <td>8</td>\n",
              "      <td>7</td>\n",
              "      <td>1</td>\n",
              "    </tr>\n",
              "    <tr>\n",
              "      <th>14</th>\n",
              "      <td>2020-03-15</td>\n",
              "      <td>DKI JAKARTA</td>\n",
              "      <td>8</td>\n",
              "      <td>3</td>\n",
              "      <td>0</td>\n",
              "      <td>5</td>\n",
              "      <td>24</td>\n",
              "      <td>8</td>\n",
              "      <td>10</td>\n",
              "      <td>6</td>\n",
              "    </tr>\n",
              "    <tr>\n",
              "      <th>15</th>\n",
              "      <td>2020-03-16</td>\n",
              "      <td>DKI JAKARTA</td>\n",
              "      <td>2</td>\n",
              "      <td>3</td>\n",
              "      <td>0</td>\n",
              "      <td>-1</td>\n",
              "      <td>26</td>\n",
              "      <td>8</td>\n",
              "      <td>13</td>\n",
              "      <td>5</td>\n",
              "    </tr>\n",
              "    <tr>\n",
              "      <th>...</th>\n",
              "      <td>...</td>\n",
              "      <td>...</td>\n",
              "      <td>...</td>\n",
              "      <td>...</td>\n",
              "      <td>...</td>\n",
              "      <td>...</td>\n",
              "      <td>...</td>\n",
              "      <td>...</td>\n",
              "      <td>...</td>\n",
              "      <td>...</td>\n",
              "    </tr>\n",
              "    <tr>\n",
              "      <th>17608</th>\n",
              "      <td>2021-08-14</td>\n",
              "      <td>NUSA TENGGARA TIMUR</td>\n",
              "      <td>649</td>\n",
              "      <td>21</td>\n",
              "      <td>892</td>\n",
              "      <td>-264</td>\n",
              "      <td>52686</td>\n",
              "      <td>42250</td>\n",
              "      <td>1016</td>\n",
              "      <td>9420</td>\n",
              "    </tr>\n",
              "    <tr>\n",
              "      <th>17609</th>\n",
              "      <td>2021-08-15</td>\n",
              "      <td>NUSA TENGGARA TIMUR</td>\n",
              "      <td>498</td>\n",
              "      <td>7</td>\n",
              "      <td>1421</td>\n",
              "      <td>-930</td>\n",
              "      <td>53184</td>\n",
              "      <td>43671</td>\n",
              "      <td>1023</td>\n",
              "      <td>8490</td>\n",
              "    </tr>\n",
              "    <tr>\n",
              "      <th>17610</th>\n",
              "      <td>2021-08-16</td>\n",
              "      <td>NUSA TENGGARA TIMUR</td>\n",
              "      <td>438</td>\n",
              "      <td>18</td>\n",
              "      <td>969</td>\n",
              "      <td>-549</td>\n",
              "      <td>53622</td>\n",
              "      <td>44640</td>\n",
              "      <td>1041</td>\n",
              "      <td>7941</td>\n",
              "    </tr>\n",
              "    <tr>\n",
              "      <th>17611</th>\n",
              "      <td>2021-08-17</td>\n",
              "      <td>NUSA TENGGARA TIMUR</td>\n",
              "      <td>657</td>\n",
              "      <td>15</td>\n",
              "      <td>633</td>\n",
              "      <td>9</td>\n",
              "      <td>54279</td>\n",
              "      <td>45273</td>\n",
              "      <td>1056</td>\n",
              "      <td>7950</td>\n",
              "    </tr>\n",
              "    <tr>\n",
              "      <th>17612</th>\n",
              "      <td>2021-08-18</td>\n",
              "      <td>NUSA TENGGARA TIMUR</td>\n",
              "      <td>527</td>\n",
              "      <td>8</td>\n",
              "      <td>949</td>\n",
              "      <td>-430</td>\n",
              "      <td>54806</td>\n",
              "      <td>46222</td>\n",
              "      <td>1064</td>\n",
              "      <td>7520</td>\n",
              "    </tr>\n",
              "  </tbody>\n",
              "</table>\n",
              "<p>16199 rows × 10 columns</p>\n",
              "</div>\n",
              "      <button class=\"colab-df-convert\" onclick=\"convertToInteractive('df-8e90e807-e964-412e-99e9-55341f3d39f3')\"\n",
              "              title=\"Convert this dataframe to an interactive table.\"\n",
              "              style=\"display:none;\">\n",
              "        \n",
              "  <svg xmlns=\"http://www.w3.org/2000/svg\" height=\"24px\"viewBox=\"0 0 24 24\"\n",
              "       width=\"24px\">\n",
              "    <path d=\"M0 0h24v24H0V0z\" fill=\"none\"/>\n",
              "    <path d=\"M18.56 5.44l.94 2.06.94-2.06 2.06-.94-2.06-.94-.94-2.06-.94 2.06-2.06.94zm-11 1L8.5 8.5l.94-2.06 2.06-.94-2.06-.94L8.5 2.5l-.94 2.06-2.06.94zm10 10l.94 2.06.94-2.06 2.06-.94-2.06-.94-.94-2.06-.94 2.06-2.06.94z\"/><path d=\"M17.41 7.96l-1.37-1.37c-.4-.4-.92-.59-1.43-.59-.52 0-1.04.2-1.43.59L10.3 9.45l-7.72 7.72c-.78.78-.78 2.05 0 2.83L4 21.41c.39.39.9.59 1.41.59.51 0 1.02-.2 1.41-.59l7.78-7.78 2.81-2.81c.8-.78.8-2.07 0-2.86zM5.41 20L4 18.59l7.72-7.72 1.47 1.35L5.41 20z\"/>\n",
              "  </svg>\n",
              "      </button>\n",
              "      \n",
              "  <style>\n",
              "    .colab-df-container {\n",
              "      display:flex;\n",
              "      flex-wrap:wrap;\n",
              "      gap: 12px;\n",
              "    }\n",
              "\n",
              "    .colab-df-convert {\n",
              "      background-color: #E8F0FE;\n",
              "      border: none;\n",
              "      border-radius: 50%;\n",
              "      cursor: pointer;\n",
              "      display: none;\n",
              "      fill: #1967D2;\n",
              "      height: 32px;\n",
              "      padding: 0 0 0 0;\n",
              "      width: 32px;\n",
              "    }\n",
              "\n",
              "    .colab-df-convert:hover {\n",
              "      background-color: #E2EBFA;\n",
              "      box-shadow: 0px 1px 2px rgba(60, 64, 67, 0.3), 0px 1px 3px 1px rgba(60, 64, 67, 0.15);\n",
              "      fill: #174EA6;\n",
              "    }\n",
              "\n",
              "    [theme=dark] .colab-df-convert {\n",
              "      background-color: #3B4455;\n",
              "      fill: #D2E3FC;\n",
              "    }\n",
              "\n",
              "    [theme=dark] .colab-df-convert:hover {\n",
              "      background-color: #434B5C;\n",
              "      box-shadow: 0px 1px 3px 1px rgba(0, 0, 0, 0.15);\n",
              "      filter: drop-shadow(0px 1px 2px rgba(0, 0, 0, 0.3));\n",
              "      fill: #FFFFFF;\n",
              "    }\n",
              "  </style>\n",
              "\n",
              "      <script>\n",
              "        const buttonEl =\n",
              "          document.querySelector('#df-8e90e807-e964-412e-99e9-55341f3d39f3 button.colab-df-convert');\n",
              "        buttonEl.style.display =\n",
              "          google.colab.kernel.accessAllowed ? 'block' : 'none';\n",
              "\n",
              "        async function convertToInteractive(key) {\n",
              "          const element = document.querySelector('#df-8e90e807-e964-412e-99e9-55341f3d39f3');\n",
              "          const dataTable =\n",
              "            await google.colab.kernel.invokeFunction('convertToInteractive',\n",
              "                                                     [key], {});\n",
              "          if (!dataTable) return;\n",
              "\n",
              "          const docLinkHtml = 'Like what you see? Visit the ' +\n",
              "            '<a target=\"_blank\" href=https://colab.research.google.com/notebooks/data_table.ipynb>data table notebook</a>'\n",
              "            + ' to learn more about interactive tables.';\n",
              "          element.innerHTML = '';\n",
              "          dataTable['output_type'] = 'display_data';\n",
              "          await google.colab.output.renderOutput(dataTable, element);\n",
              "          const docLink = document.createElement('div');\n",
              "          docLink.innerHTML = docLinkHtml;\n",
              "          element.appendChild(docLink);\n",
              "        }\n",
              "      </script>\n",
              "    </div>\n",
              "  </div>\n",
              "  "
            ]
          },
          "metadata": {},
          "execution_count": 228
        }
      ],
      "source": [
        "cum_reco = df_covid.loc[(df_covid.Cumulative_Recovered != 0)]\n",
        "cum_reco"
      ]
    },
    {
      "cell_type": "code",
      "execution_count": 229,
      "metadata": {
        "colab": {
          "base_uri": "https://localhost:8080/"
        },
        "id": "U-KR2uz1nO7h",
        "outputId": "8579ad37-978c-4670-a2c2-c096cfa0ba1c"
      },
      "outputs": [
        {
          "output_type": "execute_result",
          "data": {
            "text/plain": [
              "Province\n",
              "ACEH                          1\n",
              "SULAWESI UTARA                1\n",
              "SULAWESI TENGGARA             1\n",
              "SULAWESI BARAT                1\n",
              "RIAU                          1\n",
              "PAPUA                         1\n",
              "NUSA TENGGARA TIMUR           1\n",
              "MALUKU UTARA                  1\n",
              "MALUKU                        1\n",
              "SUMATERA SELATAN              1\n",
              "KALIMANTAN UTARA              1\n",
              "KALIMANTAN TIMUR              1\n",
              "KEPULAUAN BANGKA BELITUNG     1\n",
              "JAWA TIMUR                    1\n",
              "JAWA TENGAH                   1\n",
              "BALI                          1\n",
              "JAMBI                         1\n",
              "KALIMANTAN SELATAN            1\n",
              "DAERAH ISTIMEWA YOGYAKARTA    1\n",
              "BENGKULU                      1\n",
              "BANTEN                        1\n",
              "KALIMANTAN TENGAH             2\n",
              "KALIMANTAN BARAT              2\n",
              "KEPULAUAN RIAU                2\n",
              "LAMPUNG                       2\n",
              "NUSA TENGGARA BARAT           2\n",
              "GORONTALO                     2\n",
              "PAPUA BARAT                   2\n",
              "SULAWESI TENGAH               2\n",
              "DKI JAKARTA                   4\n",
              "JAWA BARAT                    4\n",
              "SULAWESI SELATAN              4\n",
              "SUMATERA BARAT                5\n",
              "SUMATERA UTARA                8\n",
              "Name: Cumulative_Recovered, dtype: int64"
            ]
          },
          "metadata": {},
          "execution_count": 229
        }
      ],
      "source": [
        "# Jumlah awal recovered di setiap provinsi\n",
        "cum_reco.groupby('Province').min()['Cumulative_Recovered'].sort_values()"
      ]
    },
    {
      "cell_type": "code",
      "execution_count": 230,
      "metadata": {
        "colab": {
          "base_uri": "https://localhost:8080/"
        },
        "id": "Sie8KrxSwx77",
        "outputId": "6c4fc86c-e49f-4b72-8903-fe1404c989d5"
      },
      "outputs": [
        {
          "output_type": "execute_result",
          "data": {
            "text/plain": [
              "Province\n",
              "JAWA TIMUR                   2020-01-08\n",
              "BANTEN                       2020-03-06\n",
              "JAWA TENGAH                  2020-03-11\n",
              "DKI JAKARTA                  2020-03-12\n",
              "JAWA BARAT                   2020-03-13\n",
              "DAERAH ISTIMEWA YOGYAKARTA   2020-03-20\n",
              "SULAWESI UTARA               2020-03-26\n",
              "KEPULAUAN RIAU               2020-03-28\n",
              "KALIMANTAN BARAT             2020-03-29\n",
              "BALI                         2020-03-31\n",
              "KALIMANTAN TENGAH            2020-03-31\n",
              "PAPUA                        2020-03-31\n",
              "MALUKU                       2020-04-01\n",
              "SULAWESI SELATAN             2020-04-02\n",
              "KALIMANTAN TIMUR             2020-04-04\n",
              "SUMATERA SELATAN             2020-04-04\n",
              "SULAWESI TENGGARA            2020-04-04\n",
              "RIAU                         2020-04-04\n",
              "SULAWESI TENGAH              2020-04-07\n",
              "KALIMANTAN SELATAN           2020-04-08\n",
              "MALUKU UTARA                 2020-04-09\n",
              "NUSA TENGGARA BARAT          2020-04-09\n",
              "LAMPUNG                      2020-04-09\n",
              "ACEH                         2020-04-09\n",
              "SUMATERA BARAT               2020-04-10\n",
              "SUMATERA UTARA               2020-04-10\n",
              "SULAWESI BARAT               2020-04-11\n",
              "KALIMANTAN UTARA             2020-04-15\n",
              "JAMBI                        2020-04-18\n",
              "BENGKULU                     2020-04-18\n",
              "KEPULAUAN BANGKA BELITUNG    2020-04-18\n",
              "NUSA TENGGARA TIMUR          2020-04-24\n",
              "GORONTALO                    2020-04-28\n",
              "PAPUA BARAT                  2020-05-10\n",
              "Name: Date, dtype: datetime64[ns]"
            ]
          },
          "metadata": {},
          "execution_count": 230
        }
      ],
      "source": [
        "# Tanggal kesembuhan pertama kali di setiap provinsi\n",
        "min_reco = cum_reco.groupby('Province').min()['Date'].sort_values()\n",
        "min_reco"
      ]
    },
    {
      "cell_type": "code",
      "execution_count": 231,
      "metadata": {
        "colab": {
          "base_uri": "https://localhost:8080/"
        },
        "id": "1u4uUh_NWKqk",
        "outputId": "6158b29e-f8ca-45a7-dcd2-1555f9a5b88e"
      },
      "outputs": [
        {
          "output_type": "execute_result",
          "data": {
            "text/plain": [
              "Province\n",
              "DKI JAKARTA                  2021-01-05\n",
              "JAWA TIMUR                   2021-01-12\n",
              "JAWA TENGAH                  2021-01-16\n",
              "JAWA BARAT                   2021-03-28\n",
              "DAERAH ISTIMEWA YOGYAKARTA   2021-08-16\n",
              "NUSA TENGGARA TIMUR          2021-08-18\n",
              "PAPUA                        2021-08-18\n",
              "PAPUA BARAT                  2021-08-18\n",
              "RIAU                         2021-08-18\n",
              "ACEH                         2021-08-18\n",
              "SULAWESI BARAT               2021-08-18\n",
              "SULAWESI TENGAH              2021-08-18\n",
              "SULAWESI TENGGARA            2021-08-18\n",
              "SULAWESI UTARA               2021-08-18\n",
              "SUMATERA BARAT               2021-08-18\n",
              "NUSA TENGGARA BARAT          2021-08-18\n",
              "LAMPUNG                      2021-08-18\n",
              "KEPULAUAN BANGKA BELITUNG    2021-08-18\n",
              "SUMATERA SELATAN             2021-08-18\n",
              "KALIMANTAN UTARA             2021-08-18\n",
              "KALIMANTAN TIMUR             2021-08-18\n",
              "KALIMANTAN TENGAH            2021-08-18\n",
              "KALIMANTAN SELATAN           2021-08-18\n",
              "KALIMANTAN BARAT             2021-08-18\n",
              "JAMBI                        2021-08-18\n",
              "GORONTALO                    2021-08-18\n",
              "BENGKULU                     2021-08-18\n",
              "BALI                         2021-08-18\n",
              "KEPULAUAN RIAU               2021-08-18\n",
              "MALUKU UTARA                 2021-08-19\n",
              "MALUKU                       2021-08-20\n",
              "SULAWESI SELATAN             2021-08-20\n",
              "BANTEN                       2021-08-20\n",
              "SUMATERA UTARA               2021-08-20\n",
              "Name: Date, dtype: datetime64[ns]"
            ]
          },
          "metadata": {},
          "execution_count": 231
        }
      ],
      "source": [
        "# Tanggal tertinggi di setiap provinsi\n",
        "max_reco = cum_reco.groupby('Province').max()['Date'].sort_values()\n",
        "max_reco"
      ]
    },
    {
      "cell_type": "code",
      "execution_count": 232,
      "metadata": {
        "colab": {
          "base_uri": "https://localhost:8080/"
        },
        "id": "bLXpTivTWR1s",
        "outputId": "f6a747d0-2688-407d-fb57-760f3e5c9511"
      },
      "outputs": [
        {
          "output_type": "execute_result",
          "data": {
            "text/plain": [
              "Province\n",
              "DKI JAKARTA                  299 days\n",
              "JAWA TENGAH                  311 days\n",
              "JAWA TIMUR                   370 days\n",
              "JAWA BARAT                   380 days\n",
              "PAPUA BARAT                  465 days\n",
              "GORONTALO                    477 days\n",
              "NUSA TENGGARA TIMUR          481 days\n",
              "KEPULAUAN BANGKA BELITUNG    487 days\n",
              "BENGKULU                     487 days\n",
              "JAMBI                        487 days\n",
              "KALIMANTAN UTARA             490 days\n",
              "SULAWESI BARAT               494 days\n",
              "SUMATERA BARAT               495 days\n",
              "NUSA TENGGARA BARAT          496 days\n",
              "LAMPUNG                      496 days\n",
              "ACEH                         496 days\n",
              "SUMATERA UTARA               497 days\n",
              "MALUKU UTARA                 497 days\n",
              "KALIMANTAN SELATAN           497 days\n",
              "SULAWESI TENGAH              498 days\n",
              "SULAWESI TENGGARA            501 days\n",
              "RIAU                         501 days\n",
              "KALIMANTAN TIMUR             501 days\n",
              "SUMATERA SELATAN             501 days\n",
              "SULAWESI SELATAN             505 days\n",
              "KALIMANTAN TENGAH            505 days\n",
              "BALI                         505 days\n",
              "PAPUA                        505 days\n",
              "MALUKU                       506 days\n",
              "KALIMANTAN BARAT             507 days\n",
              "KEPULAUAN RIAU               508 days\n",
              "SULAWESI UTARA               510 days\n",
              "DAERAH ISTIMEWA YOGYAKARTA   514 days\n",
              "BANTEN                       532 days\n",
              "Name: Date, dtype: timedelta64[ns]"
            ]
          },
          "metadata": {},
          "execution_count": 232
        }
      ],
      "source": [
        "# lama waktu dari reco pertama kali sampai catatan tertinggi di setiap provinsi\n",
        "gap_reco = max_reco - min_reco\n",
        "gap_reco.sort_values()"
      ]
    },
    {
      "cell_type": "code",
      "execution_count": 233,
      "metadata": {
        "colab": {
          "base_uri": "https://localhost:8080/"
        },
        "id": "jifo7_UJXOl0",
        "outputId": "28467372-bf26-4c5b-a103-67ef1ec345e1"
      },
      "outputs": [
        {
          "output_type": "execute_result",
          "data": {
            "text/plain": [
              "Timedelta('479 days 10:35:17.647058824')"
            ]
          },
          "metadata": {},
          "execution_count": 233
        }
      ],
      "source": [
        "# rata-rata gap reco\n",
        "gap_reco.mean()"
      ]
    },
    {
      "cell_type": "markdown",
      "metadata": {
        "id": "hDCMmybYMEyn"
      },
      "source": [
        "#### Active Case"
      ]
    },
    {
      "cell_type": "code",
      "execution_count": 234,
      "metadata": {
        "colab": {
          "base_uri": "https://localhost:8080/"
        },
        "id": "C5STy6odMIwM",
        "outputId": "44809e41-1d03-4830-975e-3dbe4ea2aca7"
      },
      "outputs": [
        {
          "output_type": "execute_result",
          "data": {
            "text/plain": [
              "Date\n",
              "2020-01-08        5\n",
              "2020-01-09      -19\n",
              "2020-01-10      -34\n",
              "2020-01-11      -45\n",
              "2020-01-12      -49\n",
              "              ...  \n",
              "2021-08-16    28221\n",
              "2021-08-17    28306\n",
              "2021-08-18    27624\n",
              "2021-08-19    27464\n",
              "2021-08-20    27466\n",
              "Name: Cumulative_Active_Case, Length: 591, dtype: int64"
            ]
          },
          "metadata": {},
          "execution_count": 234
        }
      ],
      "source": [
        "# Jumlah kumulatif active case tertinggi setiap date\n",
        "df_covid.groupby('Date').max()['Cumulative_Active_Case']"
      ]
    },
    {
      "cell_type": "code",
      "execution_count": 235,
      "metadata": {
        "colab": {
          "base_uri": "https://localhost:8080/"
        },
        "id": "RFqNyC_NNYa0",
        "outputId": "b5afcb83-e8fd-4ba9-e607-395634a33b22"
      },
      "outputs": [
        {
          "output_type": "execute_result",
          "data": {
            "text/plain": [
              "Date\n",
              "2020-01-08       5\n",
              "2020-01-09     -19\n",
              "2020-01-10     -34\n",
              "2020-01-11     -45\n",
              "2020-01-12     -49\n",
              "              ... \n",
              "2021-08-16    1387\n",
              "2021-08-17    1307\n",
              "2021-08-18    1289\n",
              "2021-08-19    1288\n",
              "2021-08-20    2249\n",
              "Name: Cumulative_Active_Case, Length: 591, dtype: int64"
            ]
          },
          "metadata": {},
          "execution_count": 235
        }
      ],
      "source": [
        "# Jumlah kumulatif active case paling sedikit setiap date\n",
        "df_covid.groupby('Date').min()['Cumulative_Active_Case']"
      ]
    },
    {
      "cell_type": "code",
      "execution_count": 236,
      "metadata": {
        "colab": {
          "base_uri": "https://localhost:8080/"
        },
        "id": "frouvufgMyEh",
        "outputId": "18181ddb-b39a-4fa7-c360-b8fa319e62c6"
      },
      "outputs": [
        {
          "output_type": "execute_result",
          "data": {
            "text/plain": [
              "Date\n",
              "2020-01-08         5\n",
              "2020-01-09       -19\n",
              "2020-01-10       -34\n",
              "2020-01-11       -45\n",
              "2020-01-12       -49\n",
              "               ...  \n",
              "2021-08-16    234986\n",
              "2021-08-17    204626\n",
              "2021-08-18    197894\n",
              "2021-08-19     48766\n",
              "2021-08-20     47483\n",
              "Name: Cumulative_Active_Case, Length: 591, dtype: int64"
            ]
          },
          "metadata": {},
          "execution_count": 236
        }
      ],
      "source": [
        "# total kumulatif active case setiap date\n",
        "df_covid.groupby('Date').sum()['Cumulative_Active_Case']"
      ]
    },
    {
      "cell_type": "markdown",
      "source": [
        "### Visualization"
      ],
      "metadata": {
        "id": "4jLPXmVEyY51"
      }
    },
    {
      "cell_type": "code",
      "execution_count": 237,
      "metadata": {
        "colab": {
          "base_uri": "https://localhost:8080/",
          "height": 381
        },
        "id": "KFchxEBhkR5o",
        "outputId": "3764af9f-42e7-4919-9e6d-5695ac3c8ffa"
      },
      "outputs": [
        {
          "output_type": "display_data",
          "data": {
            "text/plain": [
              "<Figure size 1440x720 with 1 Axes>"
            ],
            "image/png": "[encoded data removed]"
          },
          "metadata": {
            "needs_background": "light"
          }
        }
      ],
      "source": [
        "# time series perbandingan case, death, recovered\n",
        "\n",
        "a = df_covid.groupby(df_covid['Date'])['Daily_Case'].sum()\n",
        "b = df_covid.groupby(df_covid['Date'])['Daily_Death'].sum()\n",
        "c = df_covid.groupby(df_covid['Date'])['Daily_Recovered'].sum()\n",
        "\n",
        "plt.figure(figsize=(20,10))\n",
        "plt.plot(a,color='orange')\n",
        "plt.plot(b,color='red')\n",
        "plt.plot(c,color='green')\n",
        "\n",
        "plt.legend([\"Case\", \"Death\", \"Recovered\"])\n",
        "plt.show()"
      ]
    },
    {
      "cell_type": "code",
      "execution_count": 238,
      "metadata": {
        "id": "BhCuJ7YHxQ2z"
      },
      "outputs": [],
      "source": [
        "#y = df_covid['Daily_Case']\n",
        "#x = df_covid['Province'].sort_values()\n",
        "#plt.figure(figsize=(60,10))\n",
        "#plt.bar(x, y, label=\"Blue Bar\", color='b')\n",
        "#plt.plot()\n",
        "#plt.show()"
      ]
    },
    {
      "cell_type": "code",
      "execution_count": 239,
      "metadata": {
        "colab": {
          "base_uri": "https://localhost:8080/",
          "height": 298
        },
        "id": "UvZCcDgT2Y_y",
        "outputId": "465f49ba-9705-406c-bfaa-3a3fcbc7ec6d"
      },
      "outputs": [
        {
          "output_type": "execute_result",
          "data": {
            "text/plain": [
              "<matplotlib.axes._subplots.AxesSubplot at 0x7fa50bc3e580>"
            ]
          },
          "metadata": {},
          "execution_count": 239
        },
        {
          "output_type": "display_data",
          "data": {
            "text/plain": [
              "<Figure size 432x288 with 1 Axes>"
            ],
            "image/png": "[encoded data removed]"
          },
          "metadata": {
            "needs_background": "light"
          }
        }
      ],
      "source": [
        "sns.histplot(cum_case.groupby('Province').min()['Cumulative_Case'].sort_values(), kde=True )"
      ]
    },
    {
      "cell_type": "code",
      "execution_count": 240,
      "metadata": {
        "colab": {
          "base_uri": "https://localhost:8080/",
          "height": 298
        },
        "id": "TGI0I-Y8074z",
        "outputId": "5c255016-1aec-412e-ab32-47fa333d6765"
      },
      "outputs": [
        {
          "output_type": "execute_result",
          "data": {
            "text/plain": [
              "<matplotlib.axes._subplots.AxesSubplot at 0x7fa507d45040>"
            ]
          },
          "metadata": {},
          "execution_count": 240
        },
        {
          "output_type": "display_data",
          "data": {
            "text/plain": [
              "<Figure size 432x288 with 1 Axes>"
            ],
            "image/png": "[encoded data removed]"
          },
          "metadata": {
            "needs_background": "light"
          }
        }
      ],
      "source": [
        "sns.histplot(cum_death.groupby('Province').min()['Cumulative_Death'].sort_values(), kde=True )"
      ]
    },
    {
      "cell_type": "code",
      "execution_count": 241,
      "metadata": {
        "colab": {
          "base_uri": "https://localhost:8080/",
          "height": 298
        },
        "id": "1eqihbN52Hv4",
        "outputId": "0eb95305-e270-4962-80c0-198b764b19a0"
      },
      "outputs": [
        {
          "output_type": "execute_result",
          "data": {
            "text/plain": [
              "<matplotlib.axes._subplots.AxesSubplot at 0x7fa50b7a5b20>"
            ]
          },
          "metadata": {},
          "execution_count": 241
        },
        {
          "output_type": "display_data",
          "data": {
            "text/plain": [
              "<Figure size 432x288 with 1 Axes>"
            ],
            "image/png": "[encoded data removed]"
          },
          "metadata": {
            "needs_background": "light"
          }
        }
      ],
      "source": [
        "sns.histplot(cum_reco.groupby('Province').min()['Cumulative_Recovered'].sort_values(), kde=True)"
      ]
    }
  ],
  "metadata": {
    "colab": {
      "toc_visible": true,
      "provenance": []
    },
    "kernelspec": {
      "display_name": "Python 3",
      "name": "python3"
    },
    "language_info": {
      "name": "python"
    }
  },
  "nbformat": 4,
  "nbformat_minor": 0
}